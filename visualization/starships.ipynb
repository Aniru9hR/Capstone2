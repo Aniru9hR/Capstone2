{
 "cells": [
  {
   "cell_type": "code",
   "execution_count": 1,
   "metadata": {},
   "outputs": [],
   "source": [
    "import seaborn as sns\n",
    "import pandas as pd\n",
    "import numpy as np\n",
    "import matplotlib.pyplot as plt\n",
    "import plotly.express as px"
   ]
  },
  {
   "cell_type": "code",
   "execution_count": 2,
   "metadata": {},
   "outputs": [
    {
     "data": {
      "text/html": [
       "<div>\n",
       "<style scoped>\n",
       "    .dataframe tbody tr th:only-of-type {\n",
       "        vertical-align: middle;\n",
       "    }\n",
       "\n",
       "    .dataframe tbody tr th {\n",
       "        vertical-align: top;\n",
       "    }\n",
       "\n",
       "    .dataframe thead th {\n",
       "        text-align: right;\n",
       "    }\n",
       "</style>\n",
       "<table border=\"1\" class=\"dataframe\">\n",
       "  <thead>\n",
       "    <tr style=\"text-align: right;\">\n",
       "      <th></th>\n",
       "      <th>name</th>\n",
       "      <th>model</th>\n",
       "      <th>manufacturer</th>\n",
       "      <th>cost_in_credits</th>\n",
       "      <th>length</th>\n",
       "      <th>max_atmosphering_speed</th>\n",
       "      <th>crew</th>\n",
       "      <th>passengers</th>\n",
       "      <th>cargo_capacity</th>\n",
       "      <th>consumables</th>\n",
       "      <th>hyperdrive_rating</th>\n",
       "      <th>pilots_count</th>\n",
       "    </tr>\n",
       "  </thead>\n",
       "  <tbody>\n",
       "    <tr>\n",
       "      <th>0</th>\n",
       "      <td>CR90 corvette</td>\n",
       "      <td>CR90 corvette</td>\n",
       "      <td>Corellian Engineering Corporation</td>\n",
       "      <td>3500000</td>\n",
       "      <td>150</td>\n",
       "      <td>950</td>\n",
       "      <td>30-165</td>\n",
       "      <td>600</td>\n",
       "      <td>3000000</td>\n",
       "      <td>1 year</td>\n",
       "      <td>2.0</td>\n",
       "      <td>0</td>\n",
       "    </tr>\n",
       "    <tr>\n",
       "      <th>1</th>\n",
       "      <td>Star Destroyer</td>\n",
       "      <td>Imperial I-class Star Destroyer</td>\n",
       "      <td>Kuat Drive Yards</td>\n",
       "      <td>150000000</td>\n",
       "      <td>1,600</td>\n",
       "      <td>975</td>\n",
       "      <td>47,060</td>\n",
       "      <td>NaN</td>\n",
       "      <td>36000000</td>\n",
       "      <td>2 years</td>\n",
       "      <td>2.0</td>\n",
       "      <td>0</td>\n",
       "    </tr>\n",
       "    <tr>\n",
       "      <th>2</th>\n",
       "      <td>Sentinel-class landing craft</td>\n",
       "      <td>Sentinel-class landing craft</td>\n",
       "      <td>Sienar Fleet Systems, Cyngus Spaceworks</td>\n",
       "      <td>240000</td>\n",
       "      <td>38</td>\n",
       "      <td>1000</td>\n",
       "      <td>5</td>\n",
       "      <td>75</td>\n",
       "      <td>180000</td>\n",
       "      <td>1 month</td>\n",
       "      <td>1.0</td>\n",
       "      <td>0</td>\n",
       "    </tr>\n",
       "    <tr>\n",
       "      <th>3</th>\n",
       "      <td>Death Star</td>\n",
       "      <td>DS-1 Orbital Battle Station</td>\n",
       "      <td>Imperial Department of Military Research, Sien...</td>\n",
       "      <td>1000000000000</td>\n",
       "      <td>120000</td>\n",
       "      <td>NaN</td>\n",
       "      <td>342,953</td>\n",
       "      <td>843,342</td>\n",
       "      <td>1000000000000</td>\n",
       "      <td>3 years</td>\n",
       "      <td>4.0</td>\n",
       "      <td>0</td>\n",
       "    </tr>\n",
       "    <tr>\n",
       "      <th>4</th>\n",
       "      <td>Millennium Falcon</td>\n",
       "      <td>YT-1300 light freighter</td>\n",
       "      <td>Corellian Engineering Corporation</td>\n",
       "      <td>100000</td>\n",
       "      <td>34.37</td>\n",
       "      <td>1050</td>\n",
       "      <td>4</td>\n",
       "      <td>6</td>\n",
       "      <td>100000</td>\n",
       "      <td>2 months</td>\n",
       "      <td>0.5</td>\n",
       "      <td>4</td>\n",
       "    </tr>\n",
       "    <tr>\n",
       "      <th>5</th>\n",
       "      <td>Y-wing</td>\n",
       "      <td>BTL Y-wing</td>\n",
       "      <td>Koensayr Manufacturing</td>\n",
       "      <td>134999</td>\n",
       "      <td>14</td>\n",
       "      <td>1000km</td>\n",
       "      <td>2</td>\n",
       "      <td>0</td>\n",
       "      <td>110</td>\n",
       "      <td>1 week</td>\n",
       "      <td>1.0</td>\n",
       "      <td>0</td>\n",
       "    </tr>\n",
       "    <tr>\n",
       "      <th>6</th>\n",
       "      <td>X-wing</td>\n",
       "      <td>T-65 X-wing</td>\n",
       "      <td>Incom Corporation</td>\n",
       "      <td>149999</td>\n",
       "      <td>12.5</td>\n",
       "      <td>1050</td>\n",
       "      <td>1</td>\n",
       "      <td>0</td>\n",
       "      <td>110</td>\n",
       "      <td>1 week</td>\n",
       "      <td>1.0</td>\n",
       "      <td>4</td>\n",
       "    </tr>\n",
       "    <tr>\n",
       "      <th>7</th>\n",
       "      <td>TIE Advanced x1</td>\n",
       "      <td>Twin Ion Engine Advanced x1</td>\n",
       "      <td>Sienar Fleet Systems</td>\n",
       "      <td>unknown</td>\n",
       "      <td>9.2</td>\n",
       "      <td>1200</td>\n",
       "      <td>1</td>\n",
       "      <td>0</td>\n",
       "      <td>150</td>\n",
       "      <td>5 days</td>\n",
       "      <td>1.0</td>\n",
       "      <td>1</td>\n",
       "    </tr>\n",
       "    <tr>\n",
       "      <th>8</th>\n",
       "      <td>Executor</td>\n",
       "      <td>Executor-class star dreadnought</td>\n",
       "      <td>Kuat Drive Yards, Fondor Shipyards</td>\n",
       "      <td>1143350000</td>\n",
       "      <td>19000</td>\n",
       "      <td>NaN</td>\n",
       "      <td>279,144</td>\n",
       "      <td>38000</td>\n",
       "      <td>250000000</td>\n",
       "      <td>6 years</td>\n",
       "      <td>2.0</td>\n",
       "      <td>0</td>\n",
       "    </tr>\n",
       "    <tr>\n",
       "      <th>9</th>\n",
       "      <td>Rebel transport</td>\n",
       "      <td>GR-75 medium transport</td>\n",
       "      <td>Gallofree Yards, Inc.</td>\n",
       "      <td>unknown</td>\n",
       "      <td>90</td>\n",
       "      <td>650</td>\n",
       "      <td>6</td>\n",
       "      <td>90</td>\n",
       "      <td>19000000</td>\n",
       "      <td>6 months</td>\n",
       "      <td>4.0</td>\n",
       "      <td>0</td>\n",
       "    </tr>\n",
       "    <tr>\n",
       "      <th>10</th>\n",
       "      <td>Slave 1</td>\n",
       "      <td>Firespray-31-class patrol and attack</td>\n",
       "      <td>Kuat Systems Engineering</td>\n",
       "      <td>unknown</td>\n",
       "      <td>21.5</td>\n",
       "      <td>1000</td>\n",
       "      <td>1</td>\n",
       "      <td>6</td>\n",
       "      <td>70000</td>\n",
       "      <td>1 month</td>\n",
       "      <td>3.0</td>\n",
       "      <td>1</td>\n",
       "    </tr>\n",
       "    <tr>\n",
       "      <th>11</th>\n",
       "      <td>Imperial shuttle</td>\n",
       "      <td>Lambda-class T-4a shuttle</td>\n",
       "      <td>Sienar Fleet Systems</td>\n",
       "      <td>240000</td>\n",
       "      <td>20</td>\n",
       "      <td>850</td>\n",
       "      <td>6</td>\n",
       "      <td>20</td>\n",
       "      <td>80000</td>\n",
       "      <td>2 months</td>\n",
       "      <td>1.0</td>\n",
       "      <td>3</td>\n",
       "    </tr>\n",
       "    <tr>\n",
       "      <th>12</th>\n",
       "      <td>EF76 Nebulon-B escort frigate</td>\n",
       "      <td>EF76 Nebulon-B escort frigate</td>\n",
       "      <td>Kuat Drive Yards</td>\n",
       "      <td>8500000</td>\n",
       "      <td>300</td>\n",
       "      <td>800</td>\n",
       "      <td>854</td>\n",
       "      <td>75</td>\n",
       "      <td>6000000</td>\n",
       "      <td>2 years</td>\n",
       "      <td>2.0</td>\n",
       "      <td>0</td>\n",
       "    </tr>\n",
       "    <tr>\n",
       "      <th>13</th>\n",
       "      <td>Calamari Cruiser</td>\n",
       "      <td>MC80 Liberty type Star Cruiser</td>\n",
       "      <td>Mon Calamari shipyards</td>\n",
       "      <td>104000000</td>\n",
       "      <td>1200</td>\n",
       "      <td>NaN</td>\n",
       "      <td>5400</td>\n",
       "      <td>1200</td>\n",
       "      <td>unknown</td>\n",
       "      <td>2 years</td>\n",
       "      <td>1.0</td>\n",
       "      <td>0</td>\n",
       "    </tr>\n",
       "    <tr>\n",
       "      <th>14</th>\n",
       "      <td>A-wing</td>\n",
       "      <td>RZ-1 A-wing Interceptor</td>\n",
       "      <td>Alliance Underground Engineering, Incom Corpor...</td>\n",
       "      <td>175000</td>\n",
       "      <td>9.6</td>\n",
       "      <td>1300</td>\n",
       "      <td>1</td>\n",
       "      <td>0</td>\n",
       "      <td>40</td>\n",
       "      <td>1 week</td>\n",
       "      <td>1.0</td>\n",
       "      <td>1</td>\n",
       "    </tr>\n",
       "    <tr>\n",
       "      <th>15</th>\n",
       "      <td>B-wing</td>\n",
       "      <td>A/SF-01 B-wing starfighter</td>\n",
       "      <td>Slayn &amp; Korpil</td>\n",
       "      <td>220000</td>\n",
       "      <td>16.9</td>\n",
       "      <td>950</td>\n",
       "      <td>1</td>\n",
       "      <td>0</td>\n",
       "      <td>45</td>\n",
       "      <td>1 week</td>\n",
       "      <td>2.0</td>\n",
       "      <td>0</td>\n",
       "    </tr>\n",
       "    <tr>\n",
       "      <th>16</th>\n",
       "      <td>Republic Cruiser</td>\n",
       "      <td>Consular-class cruiser</td>\n",
       "      <td>Corellian Engineering Corporation</td>\n",
       "      <td>unknown</td>\n",
       "      <td>115</td>\n",
       "      <td>900</td>\n",
       "      <td>9</td>\n",
       "      <td>16</td>\n",
       "      <td>unknown</td>\n",
       "      <td>unknown</td>\n",
       "      <td>2.0</td>\n",
       "      <td>0</td>\n",
       "    </tr>\n",
       "    <tr>\n",
       "      <th>17</th>\n",
       "      <td>Droid control ship</td>\n",
       "      <td>Lucrehulk-class Droid Control Ship</td>\n",
       "      <td>Hoersch-Kessel Drive, Inc.</td>\n",
       "      <td>unknown</td>\n",
       "      <td>3170</td>\n",
       "      <td>NaN</td>\n",
       "      <td>175</td>\n",
       "      <td>139000</td>\n",
       "      <td>4000000000</td>\n",
       "      <td>500 days</td>\n",
       "      <td>2.0</td>\n",
       "      <td>0</td>\n",
       "    </tr>\n",
       "    <tr>\n",
       "      <th>18</th>\n",
       "      <td>Naboo fighter</td>\n",
       "      <td>N-1 starfighter</td>\n",
       "      <td>Theed Palace Space Vessel Engineering Corps</td>\n",
       "      <td>200000</td>\n",
       "      <td>11</td>\n",
       "      <td>1100</td>\n",
       "      <td>1</td>\n",
       "      <td>0</td>\n",
       "      <td>65</td>\n",
       "      <td>7 days</td>\n",
       "      <td>1.0</td>\n",
       "      <td>3</td>\n",
       "    </tr>\n",
       "    <tr>\n",
       "      <th>19</th>\n",
       "      <td>Naboo Royal Starship</td>\n",
       "      <td>J-type 327 Nubian royal starship</td>\n",
       "      <td>Theed Palace Space Vessel Engineering Corps, N...</td>\n",
       "      <td>unknown</td>\n",
       "      <td>76</td>\n",
       "      <td>920</td>\n",
       "      <td>8</td>\n",
       "      <td>unknown</td>\n",
       "      <td>unknown</td>\n",
       "      <td>unknown</td>\n",
       "      <td>1.8</td>\n",
       "      <td>1</td>\n",
       "    </tr>\n",
       "    <tr>\n",
       "      <th>20</th>\n",
       "      <td>Scimitar</td>\n",
       "      <td>Star Courier</td>\n",
       "      <td>Republic Sienar Systems</td>\n",
       "      <td>55000000</td>\n",
       "      <td>26.5</td>\n",
       "      <td>1180</td>\n",
       "      <td>1</td>\n",
       "      <td>6</td>\n",
       "      <td>2500000</td>\n",
       "      <td>30 days</td>\n",
       "      <td>1.5</td>\n",
       "      <td>1</td>\n",
       "    </tr>\n",
       "    <tr>\n",
       "      <th>21</th>\n",
       "      <td>J-type diplomatic barge</td>\n",
       "      <td>J-type diplomatic barge</td>\n",
       "      <td>Theed Palace Space Vessel Engineering Corps, N...</td>\n",
       "      <td>2000000</td>\n",
       "      <td>39</td>\n",
       "      <td>2000</td>\n",
       "      <td>5</td>\n",
       "      <td>10</td>\n",
       "      <td>unknown</td>\n",
       "      <td>1 year</td>\n",
       "      <td>0.7</td>\n",
       "      <td>0</td>\n",
       "    </tr>\n",
       "    <tr>\n",
       "      <th>22</th>\n",
       "      <td>AA-9 Coruscant freighter</td>\n",
       "      <td>Botajef AA-9 Freighter-Liner</td>\n",
       "      <td>Botajef Shipyards</td>\n",
       "      <td>unknown</td>\n",
       "      <td>390</td>\n",
       "      <td>unknown</td>\n",
       "      <td>unknown</td>\n",
       "      <td>30000</td>\n",
       "      <td>unknown</td>\n",
       "      <td>unknown</td>\n",
       "      <td>unknown</td>\n",
       "      <td>0</td>\n",
       "    </tr>\n",
       "    <tr>\n",
       "      <th>23</th>\n",
       "      <td>Jedi starfighter</td>\n",
       "      <td>Delta-7 Aethersprite-class interceptor</td>\n",
       "      <td>Kuat Systems Engineering</td>\n",
       "      <td>180000</td>\n",
       "      <td>8</td>\n",
       "      <td>1150</td>\n",
       "      <td>1</td>\n",
       "      <td>0</td>\n",
       "      <td>60</td>\n",
       "      <td>7 days</td>\n",
       "      <td>1.0</td>\n",
       "      <td>2</td>\n",
       "    </tr>\n",
       "    <tr>\n",
       "      <th>24</th>\n",
       "      <td>H-type Nubian yacht</td>\n",
       "      <td>H-type Nubian yacht</td>\n",
       "      <td>Theed Palace Space Vessel Engineering Corps</td>\n",
       "      <td>unknown</td>\n",
       "      <td>47.9</td>\n",
       "      <td>8000</td>\n",
       "      <td>4</td>\n",
       "      <td>unknown</td>\n",
       "      <td>unknown</td>\n",
       "      <td>unknown</td>\n",
       "      <td>0.9</td>\n",
       "      <td>1</td>\n",
       "    </tr>\n",
       "    <tr>\n",
       "      <th>25</th>\n",
       "      <td>Republic Assault ship</td>\n",
       "      <td>Acclamator I-class assault ship</td>\n",
       "      <td>Rothana Heavy Engineering</td>\n",
       "      <td>unknown</td>\n",
       "      <td>752</td>\n",
       "      <td>unknown</td>\n",
       "      <td>700</td>\n",
       "      <td>16000</td>\n",
       "      <td>11250000</td>\n",
       "      <td>2 years</td>\n",
       "      <td>0.6</td>\n",
       "      <td>0</td>\n",
       "    </tr>\n",
       "    <tr>\n",
       "      <th>26</th>\n",
       "      <td>Solar Sailer</td>\n",
       "      <td>Punworcca 116-class interstellar sloop</td>\n",
       "      <td>Huppla Pasa Tisc Shipwrights Collective</td>\n",
       "      <td>35700</td>\n",
       "      <td>15.2</td>\n",
       "      <td>1600</td>\n",
       "      <td>3</td>\n",
       "      <td>11</td>\n",
       "      <td>240</td>\n",
       "      <td>7 days</td>\n",
       "      <td>1.5</td>\n",
       "      <td>0</td>\n",
       "    </tr>\n",
       "    <tr>\n",
       "      <th>27</th>\n",
       "      <td>Trade Federation cruiser</td>\n",
       "      <td>Providence-class carrier/destroyer</td>\n",
       "      <td>Rendili StarDrive, Free Dac Volunteers Enginee...</td>\n",
       "      <td>125000000</td>\n",
       "      <td>1088</td>\n",
       "      <td>1050</td>\n",
       "      <td>600</td>\n",
       "      <td>48247</td>\n",
       "      <td>50000000</td>\n",
       "      <td>4 years</td>\n",
       "      <td>1.5</td>\n",
       "      <td>2</td>\n",
       "    </tr>\n",
       "    <tr>\n",
       "      <th>28</th>\n",
       "      <td>Theta-class T-2c shuttle</td>\n",
       "      <td>Theta-class T-2c shuttle</td>\n",
       "      <td>Cygnus Spaceworks</td>\n",
       "      <td>1000000</td>\n",
       "      <td>18.5</td>\n",
       "      <td>2000</td>\n",
       "      <td>5</td>\n",
       "      <td>16</td>\n",
       "      <td>50000</td>\n",
       "      <td>56 days</td>\n",
       "      <td>1.0</td>\n",
       "      <td>0</td>\n",
       "    </tr>\n",
       "    <tr>\n",
       "      <th>29</th>\n",
       "      <td>Republic attack cruiser</td>\n",
       "      <td>Senator-class Star Destroyer</td>\n",
       "      <td>Kuat Drive Yards, Allanteen Six shipyards</td>\n",
       "      <td>59000000</td>\n",
       "      <td>1137</td>\n",
       "      <td>975</td>\n",
       "      <td>7400</td>\n",
       "      <td>2000</td>\n",
       "      <td>20000000</td>\n",
       "      <td>2 years</td>\n",
       "      <td>1.0</td>\n",
       "      <td>0</td>\n",
       "    </tr>\n",
       "  </tbody>\n",
       "</table>\n",
       "</div>"
      ],
      "text/plain": [
       "                             name                                   model  \\\n",
       "0                   CR90 corvette                           CR90 corvette   \n",
       "1                  Star Destroyer         Imperial I-class Star Destroyer   \n",
       "2    Sentinel-class landing craft            Sentinel-class landing craft   \n",
       "3                      Death Star             DS-1 Orbital Battle Station   \n",
       "4               Millennium Falcon                 YT-1300 light freighter   \n",
       "5                          Y-wing                              BTL Y-wing   \n",
       "6                          X-wing                             T-65 X-wing   \n",
       "7                 TIE Advanced x1             Twin Ion Engine Advanced x1   \n",
       "8                        Executor         Executor-class star dreadnought   \n",
       "9                 Rebel transport                  GR-75 medium transport   \n",
       "10                        Slave 1    Firespray-31-class patrol and attack   \n",
       "11               Imperial shuttle               Lambda-class T-4a shuttle   \n",
       "12  EF76 Nebulon-B escort frigate           EF76 Nebulon-B escort frigate   \n",
       "13               Calamari Cruiser          MC80 Liberty type Star Cruiser   \n",
       "14                         A-wing                 RZ-1 A-wing Interceptor   \n",
       "15                         B-wing              A/SF-01 B-wing starfighter   \n",
       "16               Republic Cruiser                  Consular-class cruiser   \n",
       "17             Droid control ship      Lucrehulk-class Droid Control Ship   \n",
       "18                  Naboo fighter                         N-1 starfighter   \n",
       "19           Naboo Royal Starship        J-type 327 Nubian royal starship   \n",
       "20                       Scimitar                            Star Courier   \n",
       "21        J-type diplomatic barge                 J-type diplomatic barge   \n",
       "22       AA-9 Coruscant freighter            Botajef AA-9 Freighter-Liner   \n",
       "23               Jedi starfighter  Delta-7 Aethersprite-class interceptor   \n",
       "24            H-type Nubian yacht                     H-type Nubian yacht   \n",
       "25          Republic Assault ship         Acclamator I-class assault ship   \n",
       "26                   Solar Sailer  Punworcca 116-class interstellar sloop   \n",
       "27       Trade Federation cruiser      Providence-class carrier/destroyer   \n",
       "28       Theta-class T-2c shuttle                Theta-class T-2c shuttle   \n",
       "29        Republic attack cruiser            Senator-class Star Destroyer   \n",
       "\n",
       "                                         manufacturer cost_in_credits  length  \\\n",
       "0                   Corellian Engineering Corporation         3500000     150   \n",
       "1                                    Kuat Drive Yards       150000000   1,600   \n",
       "2             Sienar Fleet Systems, Cyngus Spaceworks          240000      38   \n",
       "3   Imperial Department of Military Research, Sien...   1000000000000  120000   \n",
       "4                   Corellian Engineering Corporation          100000   34.37   \n",
       "5                              Koensayr Manufacturing          134999      14   \n",
       "6                                   Incom Corporation          149999    12.5   \n",
       "7                                Sienar Fleet Systems         unknown     9.2   \n",
       "8                  Kuat Drive Yards, Fondor Shipyards      1143350000   19000   \n",
       "9                               Gallofree Yards, Inc.         unknown      90   \n",
       "10                           Kuat Systems Engineering         unknown    21.5   \n",
       "11                               Sienar Fleet Systems          240000      20   \n",
       "12                                   Kuat Drive Yards         8500000     300   \n",
       "13                             Mon Calamari shipyards       104000000    1200   \n",
       "14  Alliance Underground Engineering, Incom Corpor...          175000     9.6   \n",
       "15                                     Slayn & Korpil          220000    16.9   \n",
       "16                  Corellian Engineering Corporation         unknown     115   \n",
       "17                         Hoersch-Kessel Drive, Inc.         unknown    3170   \n",
       "18        Theed Palace Space Vessel Engineering Corps          200000      11   \n",
       "19  Theed Palace Space Vessel Engineering Corps, N...         unknown      76   \n",
       "20                            Republic Sienar Systems        55000000    26.5   \n",
       "21  Theed Palace Space Vessel Engineering Corps, N...         2000000      39   \n",
       "22                                  Botajef Shipyards         unknown     390   \n",
       "23                           Kuat Systems Engineering          180000       8   \n",
       "24        Theed Palace Space Vessel Engineering Corps         unknown    47.9   \n",
       "25                          Rothana Heavy Engineering         unknown     752   \n",
       "26            Huppla Pasa Tisc Shipwrights Collective           35700    15.2   \n",
       "27  Rendili StarDrive, Free Dac Volunteers Enginee...       125000000    1088   \n",
       "28                                  Cygnus Spaceworks         1000000    18.5   \n",
       "29          Kuat Drive Yards, Allanteen Six shipyards        59000000    1137   \n",
       "\n",
       "   max_atmosphering_speed     crew passengers cargo_capacity consumables  \\\n",
       "0                     950   30-165        600        3000000      1 year   \n",
       "1                     975   47,060        NaN       36000000     2 years   \n",
       "2                    1000        5         75         180000     1 month   \n",
       "3                     NaN  342,953    843,342  1000000000000     3 years   \n",
       "4                    1050        4          6         100000    2 months   \n",
       "5                  1000km        2          0            110      1 week   \n",
       "6                    1050        1          0            110      1 week   \n",
       "7                    1200        1          0            150      5 days   \n",
       "8                     NaN  279,144      38000      250000000     6 years   \n",
       "9                     650        6         90       19000000    6 months   \n",
       "10                   1000        1          6          70000     1 month   \n",
       "11                    850        6         20          80000    2 months   \n",
       "12                    800      854         75        6000000     2 years   \n",
       "13                    NaN     5400       1200        unknown     2 years   \n",
       "14                   1300        1          0             40      1 week   \n",
       "15                    950        1          0             45      1 week   \n",
       "16                    900        9         16        unknown     unknown   \n",
       "17                    NaN      175     139000     4000000000    500 days   \n",
       "18                   1100        1          0             65      7 days   \n",
       "19                    920        8    unknown        unknown     unknown   \n",
       "20                   1180        1          6        2500000     30 days   \n",
       "21                   2000        5         10        unknown      1 year   \n",
       "22                unknown  unknown      30000        unknown     unknown   \n",
       "23                   1150        1          0             60      7 days   \n",
       "24                   8000        4    unknown        unknown     unknown   \n",
       "25                unknown      700      16000       11250000     2 years   \n",
       "26                   1600        3         11            240      7 days   \n",
       "27                   1050      600      48247       50000000     4 years   \n",
       "28                   2000        5         16          50000     56 days   \n",
       "29                    975     7400       2000       20000000     2 years   \n",
       "\n",
       "   hyperdrive_rating  pilots_count  \n",
       "0                2.0             0  \n",
       "1                2.0             0  \n",
       "2                1.0             0  \n",
       "3                4.0             0  \n",
       "4                0.5             4  \n",
       "5                1.0             0  \n",
       "6                1.0             4  \n",
       "7                1.0             1  \n",
       "8                2.0             0  \n",
       "9                4.0             0  \n",
       "10               3.0             1  \n",
       "11               1.0             3  \n",
       "12               2.0             0  \n",
       "13               1.0             0  \n",
       "14               1.0             1  \n",
       "15               2.0             0  \n",
       "16               2.0             0  \n",
       "17               2.0             0  \n",
       "18               1.0             3  \n",
       "19               1.8             1  \n",
       "20               1.5             1  \n",
       "21               0.7             0  \n",
       "22           unknown             0  \n",
       "23               1.0             2  \n",
       "24               0.9             1  \n",
       "25               0.6             0  \n",
       "26               1.5             0  \n",
       "27               1.5             2  \n",
       "28               1.0             0  \n",
       "29               1.0             0  "
      ]
     },
     "metadata": {},
     "output_type": "display_data"
    }
   ],
   "source": [
    "df2 = pd.read_csv(r'C:\\Users\\aniru\\OneDrive\\Documents\\codingtemple\\week8\\capstone2\\src\\data\\starships_data.csv')\n",
    "display(df2)"
   ]
  },
  {
   "cell_type": "code",
   "execution_count": 3,
   "metadata": {},
   "outputs": [
    {
     "data": {
      "text/plain": [
       "name                      0\n",
       "model                     0\n",
       "manufacturer              0\n",
       "cost_in_credits           0\n",
       "length                    0\n",
       "max_atmosphering_speed    4\n",
       "crew                      0\n",
       "passengers                1\n",
       "cargo_capacity            0\n",
       "consumables               0\n",
       "hyperdrive_rating         0\n",
       "pilots_count              0\n",
       "dtype: int64"
      ]
     },
     "execution_count": 3,
     "metadata": {},
     "output_type": "execute_result"
    }
   ],
   "source": [
    "df2.isnull().sum()"
   ]
  },
  {
   "cell_type": "code",
   "execution_count": 4,
   "metadata": {},
   "outputs": [],
   "source": [
    "df2=df2.fillna('NA')"
   ]
  },
  {
   "cell_type": "code",
   "execution_count": 5,
   "metadata": {},
   "outputs": [
    {
     "data": {
      "text/html": [
       "<div>\n",
       "<style scoped>\n",
       "    .dataframe tbody tr th:only-of-type {\n",
       "        vertical-align: middle;\n",
       "    }\n",
       "\n",
       "    .dataframe tbody tr th {\n",
       "        vertical-align: top;\n",
       "    }\n",
       "\n",
       "    .dataframe thead th {\n",
       "        text-align: right;\n",
       "    }\n",
       "</style>\n",
       "<table border=\"1\" class=\"dataframe\">\n",
       "  <thead>\n",
       "    <tr style=\"text-align: right;\">\n",
       "      <th></th>\n",
       "      <th>name</th>\n",
       "      <th>model</th>\n",
       "      <th>manufacturer</th>\n",
       "      <th>cost_in_credits</th>\n",
       "      <th>length</th>\n",
       "      <th>max_atmosphering_speed</th>\n",
       "      <th>crew</th>\n",
       "      <th>passengers</th>\n",
       "      <th>cargo_capacity</th>\n",
       "      <th>consumables</th>\n",
       "      <th>hyperdrive_rating</th>\n",
       "      <th>pilots_count</th>\n",
       "    </tr>\n",
       "  </thead>\n",
       "  <tbody>\n",
       "    <tr>\n",
       "      <th>0</th>\n",
       "      <td>CR90 corvette</td>\n",
       "      <td>CR90 corvette</td>\n",
       "      <td>Corellian Engineering Corporation</td>\n",
       "      <td>3500000</td>\n",
       "      <td>150</td>\n",
       "      <td>950</td>\n",
       "      <td>30-165</td>\n",
       "      <td>600</td>\n",
       "      <td>3000000</td>\n",
       "      <td>1 year</td>\n",
       "      <td>2.0</td>\n",
       "      <td>0</td>\n",
       "    </tr>\n",
       "    <tr>\n",
       "      <th>1</th>\n",
       "      <td>Star Destroyer</td>\n",
       "      <td>Imperial I-class Star Destroyer</td>\n",
       "      <td>Kuat Drive Yards</td>\n",
       "      <td>150000000</td>\n",
       "      <td>1,600</td>\n",
       "      <td>975</td>\n",
       "      <td>47,060</td>\n",
       "      <td>NA</td>\n",
       "      <td>36000000</td>\n",
       "      <td>2 years</td>\n",
       "      <td>2.0</td>\n",
       "      <td>0</td>\n",
       "    </tr>\n",
       "    <tr>\n",
       "      <th>2</th>\n",
       "      <td>Sentinel-class landing craft</td>\n",
       "      <td>Sentinel-class landing craft</td>\n",
       "      <td>Sienar Fleet Systems, Cyngus Spaceworks</td>\n",
       "      <td>240000</td>\n",
       "      <td>38</td>\n",
       "      <td>1000</td>\n",
       "      <td>5</td>\n",
       "      <td>75</td>\n",
       "      <td>180000</td>\n",
       "      <td>1 month</td>\n",
       "      <td>1.0</td>\n",
       "      <td>0</td>\n",
       "    </tr>\n",
       "    <tr>\n",
       "      <th>3</th>\n",
       "      <td>Death Star</td>\n",
       "      <td>DS-1 Orbital Battle Station</td>\n",
       "      <td>Imperial Department of Military Research, Sien...</td>\n",
       "      <td>1000000000000</td>\n",
       "      <td>120000</td>\n",
       "      <td>NA</td>\n",
       "      <td>342,953</td>\n",
       "      <td>843,342</td>\n",
       "      <td>1000000000000</td>\n",
       "      <td>3 years</td>\n",
       "      <td>4.0</td>\n",
       "      <td>0</td>\n",
       "    </tr>\n",
       "    <tr>\n",
       "      <th>4</th>\n",
       "      <td>Millennium Falcon</td>\n",
       "      <td>YT-1300 light freighter</td>\n",
       "      <td>Corellian Engineering Corporation</td>\n",
       "      <td>100000</td>\n",
       "      <td>34.37</td>\n",
       "      <td>1050</td>\n",
       "      <td>4</td>\n",
       "      <td>6</td>\n",
       "      <td>100000</td>\n",
       "      <td>2 months</td>\n",
       "      <td>0.5</td>\n",
       "      <td>4</td>\n",
       "    </tr>\n",
       "    <tr>\n",
       "      <th>5</th>\n",
       "      <td>Y-wing</td>\n",
       "      <td>BTL Y-wing</td>\n",
       "      <td>Koensayr Manufacturing</td>\n",
       "      <td>134999</td>\n",
       "      <td>14</td>\n",
       "      <td>1000km</td>\n",
       "      <td>2</td>\n",
       "      <td>0</td>\n",
       "      <td>110</td>\n",
       "      <td>1 week</td>\n",
       "      <td>1.0</td>\n",
       "      <td>0</td>\n",
       "    </tr>\n",
       "    <tr>\n",
       "      <th>6</th>\n",
       "      <td>X-wing</td>\n",
       "      <td>T-65 X-wing</td>\n",
       "      <td>Incom Corporation</td>\n",
       "      <td>149999</td>\n",
       "      <td>12.5</td>\n",
       "      <td>1050</td>\n",
       "      <td>1</td>\n",
       "      <td>0</td>\n",
       "      <td>110</td>\n",
       "      <td>1 week</td>\n",
       "      <td>1.0</td>\n",
       "      <td>4</td>\n",
       "    </tr>\n",
       "    <tr>\n",
       "      <th>7</th>\n",
       "      <td>TIE Advanced x1</td>\n",
       "      <td>Twin Ion Engine Advanced x1</td>\n",
       "      <td>Sienar Fleet Systems</td>\n",
       "      <td>unknown</td>\n",
       "      <td>9.2</td>\n",
       "      <td>1200</td>\n",
       "      <td>1</td>\n",
       "      <td>0</td>\n",
       "      <td>150</td>\n",
       "      <td>5 days</td>\n",
       "      <td>1.0</td>\n",
       "      <td>1</td>\n",
       "    </tr>\n",
       "    <tr>\n",
       "      <th>8</th>\n",
       "      <td>Executor</td>\n",
       "      <td>Executor-class star dreadnought</td>\n",
       "      <td>Kuat Drive Yards, Fondor Shipyards</td>\n",
       "      <td>1143350000</td>\n",
       "      <td>19000</td>\n",
       "      <td>NA</td>\n",
       "      <td>279,144</td>\n",
       "      <td>38000</td>\n",
       "      <td>250000000</td>\n",
       "      <td>6 years</td>\n",
       "      <td>2.0</td>\n",
       "      <td>0</td>\n",
       "    </tr>\n",
       "    <tr>\n",
       "      <th>9</th>\n",
       "      <td>Rebel transport</td>\n",
       "      <td>GR-75 medium transport</td>\n",
       "      <td>Gallofree Yards, Inc.</td>\n",
       "      <td>unknown</td>\n",
       "      <td>90</td>\n",
       "      <td>650</td>\n",
       "      <td>6</td>\n",
       "      <td>90</td>\n",
       "      <td>19000000</td>\n",
       "      <td>6 months</td>\n",
       "      <td>4.0</td>\n",
       "      <td>0</td>\n",
       "    </tr>\n",
       "    <tr>\n",
       "      <th>10</th>\n",
       "      <td>Slave 1</td>\n",
       "      <td>Firespray-31-class patrol and attack</td>\n",
       "      <td>Kuat Systems Engineering</td>\n",
       "      <td>unknown</td>\n",
       "      <td>21.5</td>\n",
       "      <td>1000</td>\n",
       "      <td>1</td>\n",
       "      <td>6</td>\n",
       "      <td>70000</td>\n",
       "      <td>1 month</td>\n",
       "      <td>3.0</td>\n",
       "      <td>1</td>\n",
       "    </tr>\n",
       "    <tr>\n",
       "      <th>11</th>\n",
       "      <td>Imperial shuttle</td>\n",
       "      <td>Lambda-class T-4a shuttle</td>\n",
       "      <td>Sienar Fleet Systems</td>\n",
       "      <td>240000</td>\n",
       "      <td>20</td>\n",
       "      <td>850</td>\n",
       "      <td>6</td>\n",
       "      <td>20</td>\n",
       "      <td>80000</td>\n",
       "      <td>2 months</td>\n",
       "      <td>1.0</td>\n",
       "      <td>3</td>\n",
       "    </tr>\n",
       "    <tr>\n",
       "      <th>12</th>\n",
       "      <td>EF76 Nebulon-B escort frigate</td>\n",
       "      <td>EF76 Nebulon-B escort frigate</td>\n",
       "      <td>Kuat Drive Yards</td>\n",
       "      <td>8500000</td>\n",
       "      <td>300</td>\n",
       "      <td>800</td>\n",
       "      <td>854</td>\n",
       "      <td>75</td>\n",
       "      <td>6000000</td>\n",
       "      <td>2 years</td>\n",
       "      <td>2.0</td>\n",
       "      <td>0</td>\n",
       "    </tr>\n",
       "    <tr>\n",
       "      <th>13</th>\n",
       "      <td>Calamari Cruiser</td>\n",
       "      <td>MC80 Liberty type Star Cruiser</td>\n",
       "      <td>Mon Calamari shipyards</td>\n",
       "      <td>104000000</td>\n",
       "      <td>1200</td>\n",
       "      <td>NA</td>\n",
       "      <td>5400</td>\n",
       "      <td>1200</td>\n",
       "      <td>unknown</td>\n",
       "      <td>2 years</td>\n",
       "      <td>1.0</td>\n",
       "      <td>0</td>\n",
       "    </tr>\n",
       "    <tr>\n",
       "      <th>14</th>\n",
       "      <td>A-wing</td>\n",
       "      <td>RZ-1 A-wing Interceptor</td>\n",
       "      <td>Alliance Underground Engineering, Incom Corpor...</td>\n",
       "      <td>175000</td>\n",
       "      <td>9.6</td>\n",
       "      <td>1300</td>\n",
       "      <td>1</td>\n",
       "      <td>0</td>\n",
       "      <td>40</td>\n",
       "      <td>1 week</td>\n",
       "      <td>1.0</td>\n",
       "      <td>1</td>\n",
       "    </tr>\n",
       "    <tr>\n",
       "      <th>15</th>\n",
       "      <td>B-wing</td>\n",
       "      <td>A/SF-01 B-wing starfighter</td>\n",
       "      <td>Slayn &amp; Korpil</td>\n",
       "      <td>220000</td>\n",
       "      <td>16.9</td>\n",
       "      <td>950</td>\n",
       "      <td>1</td>\n",
       "      <td>0</td>\n",
       "      <td>45</td>\n",
       "      <td>1 week</td>\n",
       "      <td>2.0</td>\n",
       "      <td>0</td>\n",
       "    </tr>\n",
       "    <tr>\n",
       "      <th>16</th>\n",
       "      <td>Republic Cruiser</td>\n",
       "      <td>Consular-class cruiser</td>\n",
       "      <td>Corellian Engineering Corporation</td>\n",
       "      <td>unknown</td>\n",
       "      <td>115</td>\n",
       "      <td>900</td>\n",
       "      <td>9</td>\n",
       "      <td>16</td>\n",
       "      <td>unknown</td>\n",
       "      <td>unknown</td>\n",
       "      <td>2.0</td>\n",
       "      <td>0</td>\n",
       "    </tr>\n",
       "    <tr>\n",
       "      <th>17</th>\n",
       "      <td>Droid control ship</td>\n",
       "      <td>Lucrehulk-class Droid Control Ship</td>\n",
       "      <td>Hoersch-Kessel Drive, Inc.</td>\n",
       "      <td>unknown</td>\n",
       "      <td>3170</td>\n",
       "      <td>NA</td>\n",
       "      <td>175</td>\n",
       "      <td>139000</td>\n",
       "      <td>4000000000</td>\n",
       "      <td>500 days</td>\n",
       "      <td>2.0</td>\n",
       "      <td>0</td>\n",
       "    </tr>\n",
       "    <tr>\n",
       "      <th>18</th>\n",
       "      <td>Naboo fighter</td>\n",
       "      <td>N-1 starfighter</td>\n",
       "      <td>Theed Palace Space Vessel Engineering Corps</td>\n",
       "      <td>200000</td>\n",
       "      <td>11</td>\n",
       "      <td>1100</td>\n",
       "      <td>1</td>\n",
       "      <td>0</td>\n",
       "      <td>65</td>\n",
       "      <td>7 days</td>\n",
       "      <td>1.0</td>\n",
       "      <td>3</td>\n",
       "    </tr>\n",
       "    <tr>\n",
       "      <th>19</th>\n",
       "      <td>Naboo Royal Starship</td>\n",
       "      <td>J-type 327 Nubian royal starship</td>\n",
       "      <td>Theed Palace Space Vessel Engineering Corps, N...</td>\n",
       "      <td>unknown</td>\n",
       "      <td>76</td>\n",
       "      <td>920</td>\n",
       "      <td>8</td>\n",
       "      <td>unknown</td>\n",
       "      <td>unknown</td>\n",
       "      <td>unknown</td>\n",
       "      <td>1.8</td>\n",
       "      <td>1</td>\n",
       "    </tr>\n",
       "    <tr>\n",
       "      <th>20</th>\n",
       "      <td>Scimitar</td>\n",
       "      <td>Star Courier</td>\n",
       "      <td>Republic Sienar Systems</td>\n",
       "      <td>55000000</td>\n",
       "      <td>26.5</td>\n",
       "      <td>1180</td>\n",
       "      <td>1</td>\n",
       "      <td>6</td>\n",
       "      <td>2500000</td>\n",
       "      <td>30 days</td>\n",
       "      <td>1.5</td>\n",
       "      <td>1</td>\n",
       "    </tr>\n",
       "    <tr>\n",
       "      <th>21</th>\n",
       "      <td>J-type diplomatic barge</td>\n",
       "      <td>J-type diplomatic barge</td>\n",
       "      <td>Theed Palace Space Vessel Engineering Corps, N...</td>\n",
       "      <td>2000000</td>\n",
       "      <td>39</td>\n",
       "      <td>2000</td>\n",
       "      <td>5</td>\n",
       "      <td>10</td>\n",
       "      <td>unknown</td>\n",
       "      <td>1 year</td>\n",
       "      <td>0.7</td>\n",
       "      <td>0</td>\n",
       "    </tr>\n",
       "    <tr>\n",
       "      <th>22</th>\n",
       "      <td>AA-9 Coruscant freighter</td>\n",
       "      <td>Botajef AA-9 Freighter-Liner</td>\n",
       "      <td>Botajef Shipyards</td>\n",
       "      <td>unknown</td>\n",
       "      <td>390</td>\n",
       "      <td>unknown</td>\n",
       "      <td>unknown</td>\n",
       "      <td>30000</td>\n",
       "      <td>unknown</td>\n",
       "      <td>unknown</td>\n",
       "      <td>unknown</td>\n",
       "      <td>0</td>\n",
       "    </tr>\n",
       "    <tr>\n",
       "      <th>23</th>\n",
       "      <td>Jedi starfighter</td>\n",
       "      <td>Delta-7 Aethersprite-class interceptor</td>\n",
       "      <td>Kuat Systems Engineering</td>\n",
       "      <td>180000</td>\n",
       "      <td>8</td>\n",
       "      <td>1150</td>\n",
       "      <td>1</td>\n",
       "      <td>0</td>\n",
       "      <td>60</td>\n",
       "      <td>7 days</td>\n",
       "      <td>1.0</td>\n",
       "      <td>2</td>\n",
       "    </tr>\n",
       "    <tr>\n",
       "      <th>24</th>\n",
       "      <td>H-type Nubian yacht</td>\n",
       "      <td>H-type Nubian yacht</td>\n",
       "      <td>Theed Palace Space Vessel Engineering Corps</td>\n",
       "      <td>unknown</td>\n",
       "      <td>47.9</td>\n",
       "      <td>8000</td>\n",
       "      <td>4</td>\n",
       "      <td>unknown</td>\n",
       "      <td>unknown</td>\n",
       "      <td>unknown</td>\n",
       "      <td>0.9</td>\n",
       "      <td>1</td>\n",
       "    </tr>\n",
       "    <tr>\n",
       "      <th>25</th>\n",
       "      <td>Republic Assault ship</td>\n",
       "      <td>Acclamator I-class assault ship</td>\n",
       "      <td>Rothana Heavy Engineering</td>\n",
       "      <td>unknown</td>\n",
       "      <td>752</td>\n",
       "      <td>unknown</td>\n",
       "      <td>700</td>\n",
       "      <td>16000</td>\n",
       "      <td>11250000</td>\n",
       "      <td>2 years</td>\n",
       "      <td>0.6</td>\n",
       "      <td>0</td>\n",
       "    </tr>\n",
       "    <tr>\n",
       "      <th>26</th>\n",
       "      <td>Solar Sailer</td>\n",
       "      <td>Punworcca 116-class interstellar sloop</td>\n",
       "      <td>Huppla Pasa Tisc Shipwrights Collective</td>\n",
       "      <td>35700</td>\n",
       "      <td>15.2</td>\n",
       "      <td>1600</td>\n",
       "      <td>3</td>\n",
       "      <td>11</td>\n",
       "      <td>240</td>\n",
       "      <td>7 days</td>\n",
       "      <td>1.5</td>\n",
       "      <td>0</td>\n",
       "    </tr>\n",
       "    <tr>\n",
       "      <th>27</th>\n",
       "      <td>Trade Federation cruiser</td>\n",
       "      <td>Providence-class carrier/destroyer</td>\n",
       "      <td>Rendili StarDrive, Free Dac Volunteers Enginee...</td>\n",
       "      <td>125000000</td>\n",
       "      <td>1088</td>\n",
       "      <td>1050</td>\n",
       "      <td>600</td>\n",
       "      <td>48247</td>\n",
       "      <td>50000000</td>\n",
       "      <td>4 years</td>\n",
       "      <td>1.5</td>\n",
       "      <td>2</td>\n",
       "    </tr>\n",
       "    <tr>\n",
       "      <th>28</th>\n",
       "      <td>Theta-class T-2c shuttle</td>\n",
       "      <td>Theta-class T-2c shuttle</td>\n",
       "      <td>Cygnus Spaceworks</td>\n",
       "      <td>1000000</td>\n",
       "      <td>18.5</td>\n",
       "      <td>2000</td>\n",
       "      <td>5</td>\n",
       "      <td>16</td>\n",
       "      <td>50000</td>\n",
       "      <td>56 days</td>\n",
       "      <td>1.0</td>\n",
       "      <td>0</td>\n",
       "    </tr>\n",
       "    <tr>\n",
       "      <th>29</th>\n",
       "      <td>Republic attack cruiser</td>\n",
       "      <td>Senator-class Star Destroyer</td>\n",
       "      <td>Kuat Drive Yards, Allanteen Six shipyards</td>\n",
       "      <td>59000000</td>\n",
       "      <td>1137</td>\n",
       "      <td>975</td>\n",
       "      <td>7400</td>\n",
       "      <td>2000</td>\n",
       "      <td>20000000</td>\n",
       "      <td>2 years</td>\n",
       "      <td>1.0</td>\n",
       "      <td>0</td>\n",
       "    </tr>\n",
       "  </tbody>\n",
       "</table>\n",
       "</div>"
      ],
      "text/plain": [
       "                             name                                   model  \\\n",
       "0                   CR90 corvette                           CR90 corvette   \n",
       "1                  Star Destroyer         Imperial I-class Star Destroyer   \n",
       "2    Sentinel-class landing craft            Sentinel-class landing craft   \n",
       "3                      Death Star             DS-1 Orbital Battle Station   \n",
       "4               Millennium Falcon                 YT-1300 light freighter   \n",
       "5                          Y-wing                              BTL Y-wing   \n",
       "6                          X-wing                             T-65 X-wing   \n",
       "7                 TIE Advanced x1             Twin Ion Engine Advanced x1   \n",
       "8                        Executor         Executor-class star dreadnought   \n",
       "9                 Rebel transport                  GR-75 medium transport   \n",
       "10                        Slave 1    Firespray-31-class patrol and attack   \n",
       "11               Imperial shuttle               Lambda-class T-4a shuttle   \n",
       "12  EF76 Nebulon-B escort frigate           EF76 Nebulon-B escort frigate   \n",
       "13               Calamari Cruiser          MC80 Liberty type Star Cruiser   \n",
       "14                         A-wing                 RZ-1 A-wing Interceptor   \n",
       "15                         B-wing              A/SF-01 B-wing starfighter   \n",
       "16               Republic Cruiser                  Consular-class cruiser   \n",
       "17             Droid control ship      Lucrehulk-class Droid Control Ship   \n",
       "18                  Naboo fighter                         N-1 starfighter   \n",
       "19           Naboo Royal Starship        J-type 327 Nubian royal starship   \n",
       "20                       Scimitar                            Star Courier   \n",
       "21        J-type diplomatic barge                 J-type diplomatic barge   \n",
       "22       AA-9 Coruscant freighter            Botajef AA-9 Freighter-Liner   \n",
       "23               Jedi starfighter  Delta-7 Aethersprite-class interceptor   \n",
       "24            H-type Nubian yacht                     H-type Nubian yacht   \n",
       "25          Republic Assault ship         Acclamator I-class assault ship   \n",
       "26                   Solar Sailer  Punworcca 116-class interstellar sloop   \n",
       "27       Trade Federation cruiser      Providence-class carrier/destroyer   \n",
       "28       Theta-class T-2c shuttle                Theta-class T-2c shuttle   \n",
       "29        Republic attack cruiser            Senator-class Star Destroyer   \n",
       "\n",
       "                                         manufacturer cost_in_credits  length  \\\n",
       "0                   Corellian Engineering Corporation         3500000     150   \n",
       "1                                    Kuat Drive Yards       150000000   1,600   \n",
       "2             Sienar Fleet Systems, Cyngus Spaceworks          240000      38   \n",
       "3   Imperial Department of Military Research, Sien...   1000000000000  120000   \n",
       "4                   Corellian Engineering Corporation          100000   34.37   \n",
       "5                              Koensayr Manufacturing          134999      14   \n",
       "6                                   Incom Corporation          149999    12.5   \n",
       "7                                Sienar Fleet Systems         unknown     9.2   \n",
       "8                  Kuat Drive Yards, Fondor Shipyards      1143350000   19000   \n",
       "9                               Gallofree Yards, Inc.         unknown      90   \n",
       "10                           Kuat Systems Engineering         unknown    21.5   \n",
       "11                               Sienar Fleet Systems          240000      20   \n",
       "12                                   Kuat Drive Yards         8500000     300   \n",
       "13                             Mon Calamari shipyards       104000000    1200   \n",
       "14  Alliance Underground Engineering, Incom Corpor...          175000     9.6   \n",
       "15                                     Slayn & Korpil          220000    16.9   \n",
       "16                  Corellian Engineering Corporation         unknown     115   \n",
       "17                         Hoersch-Kessel Drive, Inc.         unknown    3170   \n",
       "18        Theed Palace Space Vessel Engineering Corps          200000      11   \n",
       "19  Theed Palace Space Vessel Engineering Corps, N...         unknown      76   \n",
       "20                            Republic Sienar Systems        55000000    26.5   \n",
       "21  Theed Palace Space Vessel Engineering Corps, N...         2000000      39   \n",
       "22                                  Botajef Shipyards         unknown     390   \n",
       "23                           Kuat Systems Engineering          180000       8   \n",
       "24        Theed Palace Space Vessel Engineering Corps         unknown    47.9   \n",
       "25                          Rothana Heavy Engineering         unknown     752   \n",
       "26            Huppla Pasa Tisc Shipwrights Collective           35700    15.2   \n",
       "27  Rendili StarDrive, Free Dac Volunteers Enginee...       125000000    1088   \n",
       "28                                  Cygnus Spaceworks         1000000    18.5   \n",
       "29          Kuat Drive Yards, Allanteen Six shipyards        59000000    1137   \n",
       "\n",
       "   max_atmosphering_speed     crew passengers cargo_capacity consumables  \\\n",
       "0                     950   30-165        600        3000000      1 year   \n",
       "1                     975   47,060         NA       36000000     2 years   \n",
       "2                    1000        5         75         180000     1 month   \n",
       "3                      NA  342,953    843,342  1000000000000     3 years   \n",
       "4                    1050        4          6         100000    2 months   \n",
       "5                  1000km        2          0            110      1 week   \n",
       "6                    1050        1          0            110      1 week   \n",
       "7                    1200        1          0            150      5 days   \n",
       "8                      NA  279,144      38000      250000000     6 years   \n",
       "9                     650        6         90       19000000    6 months   \n",
       "10                   1000        1          6          70000     1 month   \n",
       "11                    850        6         20          80000    2 months   \n",
       "12                    800      854         75        6000000     2 years   \n",
       "13                     NA     5400       1200        unknown     2 years   \n",
       "14                   1300        1          0             40      1 week   \n",
       "15                    950        1          0             45      1 week   \n",
       "16                    900        9         16        unknown     unknown   \n",
       "17                     NA      175     139000     4000000000    500 days   \n",
       "18                   1100        1          0             65      7 days   \n",
       "19                    920        8    unknown        unknown     unknown   \n",
       "20                   1180        1          6        2500000     30 days   \n",
       "21                   2000        5         10        unknown      1 year   \n",
       "22                unknown  unknown      30000        unknown     unknown   \n",
       "23                   1150        1          0             60      7 days   \n",
       "24                   8000        4    unknown        unknown     unknown   \n",
       "25                unknown      700      16000       11250000     2 years   \n",
       "26                   1600        3         11            240      7 days   \n",
       "27                   1050      600      48247       50000000     4 years   \n",
       "28                   2000        5         16          50000     56 days   \n",
       "29                    975     7400       2000       20000000     2 years   \n",
       "\n",
       "   hyperdrive_rating  pilots_count  \n",
       "0                2.0             0  \n",
       "1                2.0             0  \n",
       "2                1.0             0  \n",
       "3                4.0             0  \n",
       "4                0.5             4  \n",
       "5                1.0             0  \n",
       "6                1.0             4  \n",
       "7                1.0             1  \n",
       "8                2.0             0  \n",
       "9                4.0             0  \n",
       "10               3.0             1  \n",
       "11               1.0             3  \n",
       "12               2.0             0  \n",
       "13               1.0             0  \n",
       "14               1.0             1  \n",
       "15               2.0             0  \n",
       "16               2.0             0  \n",
       "17               2.0             0  \n",
       "18               1.0             3  \n",
       "19               1.8             1  \n",
       "20               1.5             1  \n",
       "21               0.7             0  \n",
       "22           unknown             0  \n",
       "23               1.0             2  \n",
       "24               0.9             1  \n",
       "25               0.6             0  \n",
       "26               1.5             0  \n",
       "27               1.5             2  \n",
       "28               1.0             0  \n",
       "29               1.0             0  "
      ]
     },
     "execution_count": 5,
     "metadata": {},
     "output_type": "execute_result"
    }
   ],
   "source": [
    "df2"
   ]
  },
  {
   "cell_type": "code",
   "execution_count": 6,
   "metadata": {},
   "outputs": [
    {
     "data": {
      "text/html": [
       "<div>\n",
       "<style scoped>\n",
       "    .dataframe tbody tr th:only-of-type {\n",
       "        vertical-align: middle;\n",
       "    }\n",
       "\n",
       "    .dataframe tbody tr th {\n",
       "        vertical-align: top;\n",
       "    }\n",
       "\n",
       "    .dataframe thead th {\n",
       "        text-align: right;\n",
       "    }\n",
       "</style>\n",
       "<table border=\"1\" class=\"dataframe\">\n",
       "  <thead>\n",
       "    <tr style=\"text-align: right;\">\n",
       "      <th></th>\n",
       "      <th>name</th>\n",
       "      <th>model</th>\n",
       "      <th>manufacturer</th>\n",
       "      <th>cost_in_credits</th>\n",
       "      <th>length</th>\n",
       "      <th>max_atmosphering_speed</th>\n",
       "      <th>crew</th>\n",
       "      <th>passengers</th>\n",
       "      <th>cargo_capacity</th>\n",
       "      <th>consumables</th>\n",
       "      <th>hyperdrive_rating</th>\n",
       "      <th>pilots_count</th>\n",
       "    </tr>\n",
       "  </thead>\n",
       "  <tbody>\n",
       "    <tr>\n",
       "      <th>0</th>\n",
       "      <td>CR90 corvette</td>\n",
       "      <td>CR90 corvette</td>\n",
       "      <td>Corellian Engineering Corporation</td>\n",
       "      <td>3500000</td>\n",
       "      <td>150</td>\n",
       "      <td>950</td>\n",
       "      <td>30-165</td>\n",
       "      <td>600</td>\n",
       "      <td>3000000</td>\n",
       "      <td>1 year</td>\n",
       "      <td>2.0</td>\n",
       "      <td>0</td>\n",
       "    </tr>\n",
       "    <tr>\n",
       "      <th>1</th>\n",
       "      <td>Star Destroyer</td>\n",
       "      <td>Imperial I-class Star Destroyer</td>\n",
       "      <td>Kuat Drive Yards</td>\n",
       "      <td>150000000</td>\n",
       "      <td>1,600</td>\n",
       "      <td>975</td>\n",
       "      <td>47,060</td>\n",
       "      <td>NA</td>\n",
       "      <td>36000000</td>\n",
       "      <td>2 years</td>\n",
       "      <td>2.0</td>\n",
       "      <td>0</td>\n",
       "    </tr>\n",
       "    <tr>\n",
       "      <th>2</th>\n",
       "      <td>Sentinel-class landing craft</td>\n",
       "      <td>Sentinel-class landing craft</td>\n",
       "      <td>Sienar Fleet Systems, Cyngus Spaceworks</td>\n",
       "      <td>240000</td>\n",
       "      <td>38</td>\n",
       "      <td>1000</td>\n",
       "      <td>5</td>\n",
       "      <td>75</td>\n",
       "      <td>180000</td>\n",
       "      <td>1 month</td>\n",
       "      <td>1.0</td>\n",
       "      <td>0</td>\n",
       "    </tr>\n",
       "    <tr>\n",
       "      <th>3</th>\n",
       "      <td>Death Star</td>\n",
       "      <td>DS-1 Orbital Battle Station</td>\n",
       "      <td>Imperial Department of Military Research, Sien...</td>\n",
       "      <td>1000000000000</td>\n",
       "      <td>120000</td>\n",
       "      <td>NA</td>\n",
       "      <td>342,953</td>\n",
       "      <td>843,342</td>\n",
       "      <td>1000000000000</td>\n",
       "      <td>3 years</td>\n",
       "      <td>4.0</td>\n",
       "      <td>0</td>\n",
       "    </tr>\n",
       "    <tr>\n",
       "      <th>4</th>\n",
       "      <td>Millennium Falcon</td>\n",
       "      <td>YT-1300 light freighter</td>\n",
       "      <td>Corellian Engineering Corporation</td>\n",
       "      <td>100000</td>\n",
       "      <td>34.37</td>\n",
       "      <td>1050</td>\n",
       "      <td>4</td>\n",
       "      <td>6</td>\n",
       "      <td>100000</td>\n",
       "      <td>2 months</td>\n",
       "      <td>0.5</td>\n",
       "      <td>4</td>\n",
       "    </tr>\n",
       "    <tr>\n",
       "      <th>5</th>\n",
       "      <td>Y-wing</td>\n",
       "      <td>BTL Y-wing</td>\n",
       "      <td>Koensayr Manufacturing</td>\n",
       "      <td>134999</td>\n",
       "      <td>14</td>\n",
       "      <td>1000km</td>\n",
       "      <td>2</td>\n",
       "      <td>0</td>\n",
       "      <td>110</td>\n",
       "      <td>1 week</td>\n",
       "      <td>1.0</td>\n",
       "      <td>0</td>\n",
       "    </tr>\n",
       "    <tr>\n",
       "      <th>6</th>\n",
       "      <td>X-wing</td>\n",
       "      <td>T-65 X-wing</td>\n",
       "      <td>Incom Corporation</td>\n",
       "      <td>149999</td>\n",
       "      <td>12.5</td>\n",
       "      <td>1050</td>\n",
       "      <td>1</td>\n",
       "      <td>0</td>\n",
       "      <td>110</td>\n",
       "      <td>1 week</td>\n",
       "      <td>1.0</td>\n",
       "      <td>4</td>\n",
       "    </tr>\n",
       "    <tr>\n",
       "      <th>7</th>\n",
       "      <td>TIE Advanced x1</td>\n",
       "      <td>Twin Ion Engine Advanced x1</td>\n",
       "      <td>Sienar Fleet Systems</td>\n",
       "      <td>unknown</td>\n",
       "      <td>9.2</td>\n",
       "      <td>1200</td>\n",
       "      <td>1</td>\n",
       "      <td>0</td>\n",
       "      <td>150</td>\n",
       "      <td>5 days</td>\n",
       "      <td>1.0</td>\n",
       "      <td>1</td>\n",
       "    </tr>\n",
       "    <tr>\n",
       "      <th>8</th>\n",
       "      <td>Executor</td>\n",
       "      <td>Executor-class star dreadnought</td>\n",
       "      <td>Kuat Drive Yards, Fondor Shipyards</td>\n",
       "      <td>1143350000</td>\n",
       "      <td>19000</td>\n",
       "      <td>NA</td>\n",
       "      <td>279,144</td>\n",
       "      <td>38000</td>\n",
       "      <td>250000000</td>\n",
       "      <td>6 years</td>\n",
       "      <td>2.0</td>\n",
       "      <td>0</td>\n",
       "    </tr>\n",
       "    <tr>\n",
       "      <th>9</th>\n",
       "      <td>Rebel transport</td>\n",
       "      <td>GR-75 medium transport</td>\n",
       "      <td>Gallofree Yards, Inc.</td>\n",
       "      <td>unknown</td>\n",
       "      <td>90</td>\n",
       "      <td>650</td>\n",
       "      <td>6</td>\n",
       "      <td>90</td>\n",
       "      <td>19000000</td>\n",
       "      <td>6 months</td>\n",
       "      <td>4.0</td>\n",
       "      <td>0</td>\n",
       "    </tr>\n",
       "    <tr>\n",
       "      <th>10</th>\n",
       "      <td>Slave 1</td>\n",
       "      <td>Firespray-31-class patrol and attack</td>\n",
       "      <td>Kuat Systems Engineering</td>\n",
       "      <td>unknown</td>\n",
       "      <td>21.5</td>\n",
       "      <td>1000</td>\n",
       "      <td>1</td>\n",
       "      <td>6</td>\n",
       "      <td>70000</td>\n",
       "      <td>1 month</td>\n",
       "      <td>3.0</td>\n",
       "      <td>1</td>\n",
       "    </tr>\n",
       "    <tr>\n",
       "      <th>11</th>\n",
       "      <td>Imperial shuttle</td>\n",
       "      <td>Lambda-class T-4a shuttle</td>\n",
       "      <td>Sienar Fleet Systems</td>\n",
       "      <td>240000</td>\n",
       "      <td>20</td>\n",
       "      <td>850</td>\n",
       "      <td>6</td>\n",
       "      <td>20</td>\n",
       "      <td>80000</td>\n",
       "      <td>2 months</td>\n",
       "      <td>1.0</td>\n",
       "      <td>3</td>\n",
       "    </tr>\n",
       "    <tr>\n",
       "      <th>12</th>\n",
       "      <td>EF76 Nebulon-B escort frigate</td>\n",
       "      <td>EF76 Nebulon-B escort frigate</td>\n",
       "      <td>Kuat Drive Yards</td>\n",
       "      <td>8500000</td>\n",
       "      <td>300</td>\n",
       "      <td>800</td>\n",
       "      <td>854</td>\n",
       "      <td>75</td>\n",
       "      <td>6000000</td>\n",
       "      <td>2 years</td>\n",
       "      <td>2.0</td>\n",
       "      <td>0</td>\n",
       "    </tr>\n",
       "    <tr>\n",
       "      <th>13</th>\n",
       "      <td>Calamari Cruiser</td>\n",
       "      <td>MC80 Liberty type Star Cruiser</td>\n",
       "      <td>Mon Calamari shipyards</td>\n",
       "      <td>104000000</td>\n",
       "      <td>1200</td>\n",
       "      <td>NA</td>\n",
       "      <td>5400</td>\n",
       "      <td>1200</td>\n",
       "      <td>unknown</td>\n",
       "      <td>2 years</td>\n",
       "      <td>1.0</td>\n",
       "      <td>0</td>\n",
       "    </tr>\n",
       "    <tr>\n",
       "      <th>14</th>\n",
       "      <td>A-wing</td>\n",
       "      <td>RZ-1 A-wing Interceptor</td>\n",
       "      <td>Alliance Underground Engineering, Incom Corpor...</td>\n",
       "      <td>175000</td>\n",
       "      <td>9.6</td>\n",
       "      <td>1300</td>\n",
       "      <td>1</td>\n",
       "      <td>0</td>\n",
       "      <td>40</td>\n",
       "      <td>1 week</td>\n",
       "      <td>1.0</td>\n",
       "      <td>1</td>\n",
       "    </tr>\n",
       "    <tr>\n",
       "      <th>15</th>\n",
       "      <td>B-wing</td>\n",
       "      <td>A/SF-01 B-wing starfighter</td>\n",
       "      <td>Slayn &amp; Korpil</td>\n",
       "      <td>220000</td>\n",
       "      <td>16.9</td>\n",
       "      <td>950</td>\n",
       "      <td>1</td>\n",
       "      <td>0</td>\n",
       "      <td>45</td>\n",
       "      <td>1 week</td>\n",
       "      <td>2.0</td>\n",
       "      <td>0</td>\n",
       "    </tr>\n",
       "    <tr>\n",
       "      <th>16</th>\n",
       "      <td>Republic Cruiser</td>\n",
       "      <td>Consular-class cruiser</td>\n",
       "      <td>Corellian Engineering Corporation</td>\n",
       "      <td>unknown</td>\n",
       "      <td>115</td>\n",
       "      <td>900</td>\n",
       "      <td>9</td>\n",
       "      <td>16</td>\n",
       "      <td>unknown</td>\n",
       "      <td>unknown</td>\n",
       "      <td>2.0</td>\n",
       "      <td>0</td>\n",
       "    </tr>\n",
       "    <tr>\n",
       "      <th>17</th>\n",
       "      <td>Droid control ship</td>\n",
       "      <td>Lucrehulk-class Droid Control Ship</td>\n",
       "      <td>Hoersch-Kessel Drive, Inc.</td>\n",
       "      <td>unknown</td>\n",
       "      <td>3170</td>\n",
       "      <td>NA</td>\n",
       "      <td>175</td>\n",
       "      <td>139000</td>\n",
       "      <td>4000000000</td>\n",
       "      <td>500 days</td>\n",
       "      <td>2.0</td>\n",
       "      <td>0</td>\n",
       "    </tr>\n",
       "    <tr>\n",
       "      <th>18</th>\n",
       "      <td>Naboo fighter</td>\n",
       "      <td>N-1 starfighter</td>\n",
       "      <td>Theed Palace Space Vessel Engineering Corps</td>\n",
       "      <td>200000</td>\n",
       "      <td>11</td>\n",
       "      <td>1100</td>\n",
       "      <td>1</td>\n",
       "      <td>0</td>\n",
       "      <td>65</td>\n",
       "      <td>7 days</td>\n",
       "      <td>1.0</td>\n",
       "      <td>3</td>\n",
       "    </tr>\n",
       "    <tr>\n",
       "      <th>19</th>\n",
       "      <td>Naboo Royal Starship</td>\n",
       "      <td>J-type 327 Nubian royal starship</td>\n",
       "      <td>Theed Palace Space Vessel Engineering Corps, N...</td>\n",
       "      <td>unknown</td>\n",
       "      <td>76</td>\n",
       "      <td>920</td>\n",
       "      <td>8</td>\n",
       "      <td>unknown</td>\n",
       "      <td>unknown</td>\n",
       "      <td>unknown</td>\n",
       "      <td>1.8</td>\n",
       "      <td>1</td>\n",
       "    </tr>\n",
       "    <tr>\n",
       "      <th>20</th>\n",
       "      <td>Scimitar</td>\n",
       "      <td>Star Courier</td>\n",
       "      <td>Republic Sienar Systems</td>\n",
       "      <td>55000000</td>\n",
       "      <td>26.5</td>\n",
       "      <td>1180</td>\n",
       "      <td>1</td>\n",
       "      <td>6</td>\n",
       "      <td>2500000</td>\n",
       "      <td>30 days</td>\n",
       "      <td>1.5</td>\n",
       "      <td>1</td>\n",
       "    </tr>\n",
       "    <tr>\n",
       "      <th>21</th>\n",
       "      <td>J-type diplomatic barge</td>\n",
       "      <td>J-type diplomatic barge</td>\n",
       "      <td>Theed Palace Space Vessel Engineering Corps, N...</td>\n",
       "      <td>2000000</td>\n",
       "      <td>39</td>\n",
       "      <td>2000</td>\n",
       "      <td>5</td>\n",
       "      <td>10</td>\n",
       "      <td>unknown</td>\n",
       "      <td>1 year</td>\n",
       "      <td>0.7</td>\n",
       "      <td>0</td>\n",
       "    </tr>\n",
       "    <tr>\n",
       "      <th>22</th>\n",
       "      <td>AA-9 Coruscant freighter</td>\n",
       "      <td>Botajef AA-9 Freighter-Liner</td>\n",
       "      <td>Botajef Shipyards</td>\n",
       "      <td>unknown</td>\n",
       "      <td>390</td>\n",
       "      <td>unknown</td>\n",
       "      <td>unknown</td>\n",
       "      <td>30000</td>\n",
       "      <td>unknown</td>\n",
       "      <td>unknown</td>\n",
       "      <td>unknown</td>\n",
       "      <td>0</td>\n",
       "    </tr>\n",
       "    <tr>\n",
       "      <th>23</th>\n",
       "      <td>Jedi starfighter</td>\n",
       "      <td>Delta-7 Aethersprite-class interceptor</td>\n",
       "      <td>Kuat Systems Engineering</td>\n",
       "      <td>180000</td>\n",
       "      <td>8</td>\n",
       "      <td>1150</td>\n",
       "      <td>1</td>\n",
       "      <td>0</td>\n",
       "      <td>60</td>\n",
       "      <td>7 days</td>\n",
       "      <td>1.0</td>\n",
       "      <td>2</td>\n",
       "    </tr>\n",
       "    <tr>\n",
       "      <th>24</th>\n",
       "      <td>H-type Nubian yacht</td>\n",
       "      <td>H-type Nubian yacht</td>\n",
       "      <td>Theed Palace Space Vessel Engineering Corps</td>\n",
       "      <td>unknown</td>\n",
       "      <td>47.9</td>\n",
       "      <td>8000</td>\n",
       "      <td>4</td>\n",
       "      <td>unknown</td>\n",
       "      <td>unknown</td>\n",
       "      <td>unknown</td>\n",
       "      <td>0.9</td>\n",
       "      <td>1</td>\n",
       "    </tr>\n",
       "    <tr>\n",
       "      <th>25</th>\n",
       "      <td>Republic Assault ship</td>\n",
       "      <td>Acclamator I-class assault ship</td>\n",
       "      <td>Rothana Heavy Engineering</td>\n",
       "      <td>unknown</td>\n",
       "      <td>752</td>\n",
       "      <td>unknown</td>\n",
       "      <td>700</td>\n",
       "      <td>16000</td>\n",
       "      <td>11250000</td>\n",
       "      <td>2 years</td>\n",
       "      <td>0.6</td>\n",
       "      <td>0</td>\n",
       "    </tr>\n",
       "    <tr>\n",
       "      <th>26</th>\n",
       "      <td>Solar Sailer</td>\n",
       "      <td>Punworcca 116-class interstellar sloop</td>\n",
       "      <td>Huppla Pasa Tisc Shipwrights Collective</td>\n",
       "      <td>35700</td>\n",
       "      <td>15.2</td>\n",
       "      <td>1600</td>\n",
       "      <td>3</td>\n",
       "      <td>11</td>\n",
       "      <td>240</td>\n",
       "      <td>7 days</td>\n",
       "      <td>1.5</td>\n",
       "      <td>0</td>\n",
       "    </tr>\n",
       "    <tr>\n",
       "      <th>27</th>\n",
       "      <td>Trade Federation cruiser</td>\n",
       "      <td>Providence-class carrier/destroyer</td>\n",
       "      <td>Rendili StarDrive, Free Dac Volunteers Enginee...</td>\n",
       "      <td>125000000</td>\n",
       "      <td>1088</td>\n",
       "      <td>1050</td>\n",
       "      <td>600</td>\n",
       "      <td>48247</td>\n",
       "      <td>50000000</td>\n",
       "      <td>4 years</td>\n",
       "      <td>1.5</td>\n",
       "      <td>2</td>\n",
       "    </tr>\n",
       "    <tr>\n",
       "      <th>28</th>\n",
       "      <td>Theta-class T-2c shuttle</td>\n",
       "      <td>Theta-class T-2c shuttle</td>\n",
       "      <td>Cygnus Spaceworks</td>\n",
       "      <td>1000000</td>\n",
       "      <td>18.5</td>\n",
       "      <td>2000</td>\n",
       "      <td>5</td>\n",
       "      <td>16</td>\n",
       "      <td>50000</td>\n",
       "      <td>56 days</td>\n",
       "      <td>1.0</td>\n",
       "      <td>0</td>\n",
       "    </tr>\n",
       "    <tr>\n",
       "      <th>29</th>\n",
       "      <td>Republic attack cruiser</td>\n",
       "      <td>Senator-class Star Destroyer</td>\n",
       "      <td>Kuat Drive Yards, Allanteen Six shipyards</td>\n",
       "      <td>59000000</td>\n",
       "      <td>1137</td>\n",
       "      <td>975</td>\n",
       "      <td>7400</td>\n",
       "      <td>2000</td>\n",
       "      <td>20000000</td>\n",
       "      <td>2 years</td>\n",
       "      <td>1.0</td>\n",
       "      <td>0</td>\n",
       "    </tr>\n",
       "  </tbody>\n",
       "</table>\n",
       "</div>"
      ],
      "text/plain": [
       "                             name                                   model  \\\n",
       "0                   CR90 corvette                           CR90 corvette   \n",
       "1                  Star Destroyer         Imperial I-class Star Destroyer   \n",
       "2    Sentinel-class landing craft            Sentinel-class landing craft   \n",
       "3                      Death Star             DS-1 Orbital Battle Station   \n",
       "4               Millennium Falcon                 YT-1300 light freighter   \n",
       "5                          Y-wing                              BTL Y-wing   \n",
       "6                          X-wing                             T-65 X-wing   \n",
       "7                 TIE Advanced x1             Twin Ion Engine Advanced x1   \n",
       "8                        Executor         Executor-class star dreadnought   \n",
       "9                 Rebel transport                  GR-75 medium transport   \n",
       "10                        Slave 1    Firespray-31-class patrol and attack   \n",
       "11               Imperial shuttle               Lambda-class T-4a shuttle   \n",
       "12  EF76 Nebulon-B escort frigate           EF76 Nebulon-B escort frigate   \n",
       "13               Calamari Cruiser          MC80 Liberty type Star Cruiser   \n",
       "14                         A-wing                 RZ-1 A-wing Interceptor   \n",
       "15                         B-wing              A/SF-01 B-wing starfighter   \n",
       "16               Republic Cruiser                  Consular-class cruiser   \n",
       "17             Droid control ship      Lucrehulk-class Droid Control Ship   \n",
       "18                  Naboo fighter                         N-1 starfighter   \n",
       "19           Naboo Royal Starship        J-type 327 Nubian royal starship   \n",
       "20                       Scimitar                            Star Courier   \n",
       "21        J-type diplomatic barge                 J-type diplomatic barge   \n",
       "22       AA-9 Coruscant freighter            Botajef AA-9 Freighter-Liner   \n",
       "23               Jedi starfighter  Delta-7 Aethersprite-class interceptor   \n",
       "24            H-type Nubian yacht                     H-type Nubian yacht   \n",
       "25          Republic Assault ship         Acclamator I-class assault ship   \n",
       "26                   Solar Sailer  Punworcca 116-class interstellar sloop   \n",
       "27       Trade Federation cruiser      Providence-class carrier/destroyer   \n",
       "28       Theta-class T-2c shuttle                Theta-class T-2c shuttle   \n",
       "29        Republic attack cruiser            Senator-class Star Destroyer   \n",
       "\n",
       "                                         manufacturer cost_in_credits  length  \\\n",
       "0                   Corellian Engineering Corporation         3500000     150   \n",
       "1                                    Kuat Drive Yards       150000000   1,600   \n",
       "2             Sienar Fleet Systems, Cyngus Spaceworks          240000      38   \n",
       "3   Imperial Department of Military Research, Sien...   1000000000000  120000   \n",
       "4                   Corellian Engineering Corporation          100000   34.37   \n",
       "5                              Koensayr Manufacturing          134999      14   \n",
       "6                                   Incom Corporation          149999    12.5   \n",
       "7                                Sienar Fleet Systems         unknown     9.2   \n",
       "8                  Kuat Drive Yards, Fondor Shipyards      1143350000   19000   \n",
       "9                               Gallofree Yards, Inc.         unknown      90   \n",
       "10                           Kuat Systems Engineering         unknown    21.5   \n",
       "11                               Sienar Fleet Systems          240000      20   \n",
       "12                                   Kuat Drive Yards         8500000     300   \n",
       "13                             Mon Calamari shipyards       104000000    1200   \n",
       "14  Alliance Underground Engineering, Incom Corpor...          175000     9.6   \n",
       "15                                     Slayn & Korpil          220000    16.9   \n",
       "16                  Corellian Engineering Corporation         unknown     115   \n",
       "17                         Hoersch-Kessel Drive, Inc.         unknown    3170   \n",
       "18        Theed Palace Space Vessel Engineering Corps          200000      11   \n",
       "19  Theed Palace Space Vessel Engineering Corps, N...         unknown      76   \n",
       "20                            Republic Sienar Systems        55000000    26.5   \n",
       "21  Theed Palace Space Vessel Engineering Corps, N...         2000000      39   \n",
       "22                                  Botajef Shipyards         unknown     390   \n",
       "23                           Kuat Systems Engineering          180000       8   \n",
       "24        Theed Palace Space Vessel Engineering Corps         unknown    47.9   \n",
       "25                          Rothana Heavy Engineering         unknown     752   \n",
       "26            Huppla Pasa Tisc Shipwrights Collective           35700    15.2   \n",
       "27  Rendili StarDrive, Free Dac Volunteers Enginee...       125000000    1088   \n",
       "28                                  Cygnus Spaceworks         1000000    18.5   \n",
       "29          Kuat Drive Yards, Allanteen Six shipyards        59000000    1137   \n",
       "\n",
       "   max_atmosphering_speed     crew passengers cargo_capacity consumables  \\\n",
       "0                     950   30-165        600        3000000      1 year   \n",
       "1                     975   47,060         NA       36000000     2 years   \n",
       "2                    1000        5         75         180000     1 month   \n",
       "3                      NA  342,953    843,342  1000000000000     3 years   \n",
       "4                    1050        4          6         100000    2 months   \n",
       "5                  1000km        2          0            110      1 week   \n",
       "6                    1050        1          0            110      1 week   \n",
       "7                    1200        1          0            150      5 days   \n",
       "8                      NA  279,144      38000      250000000     6 years   \n",
       "9                     650        6         90       19000000    6 months   \n",
       "10                   1000        1          6          70000     1 month   \n",
       "11                    850        6         20          80000    2 months   \n",
       "12                    800      854         75        6000000     2 years   \n",
       "13                     NA     5400       1200        unknown     2 years   \n",
       "14                   1300        1          0             40      1 week   \n",
       "15                    950        1          0             45      1 week   \n",
       "16                    900        9         16        unknown     unknown   \n",
       "17                     NA      175     139000     4000000000    500 days   \n",
       "18                   1100        1          0             65      7 days   \n",
       "19                    920        8    unknown        unknown     unknown   \n",
       "20                   1180        1          6        2500000     30 days   \n",
       "21                   2000        5         10        unknown      1 year   \n",
       "22                unknown  unknown      30000        unknown     unknown   \n",
       "23                   1150        1          0             60      7 days   \n",
       "24                   8000        4    unknown        unknown     unknown   \n",
       "25                unknown      700      16000       11250000     2 years   \n",
       "26                   1600        3         11            240      7 days   \n",
       "27                   1050      600      48247       50000000     4 years   \n",
       "28                   2000        5         16          50000     56 days   \n",
       "29                    975     7400       2000       20000000     2 years   \n",
       "\n",
       "   hyperdrive_rating  pilots_count  \n",
       "0                2.0             0  \n",
       "1                2.0             0  \n",
       "2                1.0             0  \n",
       "3                4.0             0  \n",
       "4                0.5             4  \n",
       "5                1.0             0  \n",
       "6                1.0             4  \n",
       "7                1.0             1  \n",
       "8                2.0             0  \n",
       "9                4.0             0  \n",
       "10               3.0             1  \n",
       "11               1.0             3  \n",
       "12               2.0             0  \n",
       "13               1.0             0  \n",
       "14               1.0             1  \n",
       "15               2.0             0  \n",
       "16               2.0             0  \n",
       "17               2.0             0  \n",
       "18               1.0             3  \n",
       "19               1.8             1  \n",
       "20               1.5             1  \n",
       "21               0.7             0  \n",
       "22           unknown             0  \n",
       "23               1.0             2  \n",
       "24               0.9             1  \n",
       "25               0.6             0  \n",
       "26               1.5             0  \n",
       "27               1.5             2  \n",
       "28               1.0             0  \n",
       "29               1.0             0  "
      ]
     },
     "execution_count": 6,
     "metadata": {},
     "output_type": "execute_result"
    }
   ],
   "source": [
    "df2"
   ]
  },
  {
   "cell_type": "code",
   "execution_count": 7,
   "metadata": {},
   "outputs": [
    {
     "data": {
      "text/plain": [
       "name                      30\n",
       "model                     30\n",
       "manufacturer              23\n",
       "cost_in_credits           21\n",
       "length                    30\n",
       "max_atmosphering_speed    20\n",
       "crew                      19\n",
       "passengers                19\n",
       "cargo_capacity            24\n",
       "consumables               15\n",
       "hyperdrive_rating         11\n",
       "pilots_count               5\n",
       "dtype: int64"
      ]
     },
     "execution_count": 7,
     "metadata": {},
     "output_type": "execute_result"
    }
   ],
   "source": [
    "df2.nunique()"
   ]
  },
  {
   "cell_type": "code",
   "execution_count": 23,
   "metadata": {},
   "outputs": [
    {
     "data": {
      "application/vnd.plotly.v1+json": {
       "config": {
        "plotlyServerURL": "https://plot.ly"
       },
       "data": [
        {
         "hovertemplate": "name=%{x}<br>max_atmosphering_speed=%{y}<extra></extra>",
         "legendgroup": "",
         "marker": {
          "color": "#636efa",
          "symbol": "circle"
         },
         "mode": "markers",
         "name": "",
         "orientation": "v",
         "showlegend": false,
         "type": "scatter",
         "x": [
          "CR90 corvette",
          "Star Destroyer",
          "Sentinel-class landing craft",
          "Death Star",
          "Millennium Falcon",
          "Y-wing",
          "X-wing",
          "TIE Advanced x1",
          "Executor",
          "Rebel transport",
          "Slave 1",
          "Imperial shuttle",
          "EF76 Nebulon-B escort frigate",
          "Calamari Cruiser",
          "A-wing",
          "B-wing",
          "Republic Cruiser",
          "Droid control ship",
          "Naboo fighter",
          "Naboo Royal Starship",
          "Scimitar",
          "J-type diplomatic barge",
          "AA-9 Coruscant freighter",
          "Jedi starfighter",
          "H-type Nubian yacht",
          "Republic Assault ship",
          "Solar Sailer",
          "Trade Federation cruiser",
          "Theta-class T-2c shuttle",
          "Republic attack cruiser"
         ],
         "xaxis": "x",
         "y": [
          "950",
          "975",
          "1000",
          "NA",
          "1050",
          "1000km",
          "1050",
          "1200",
          "NA",
          "650",
          "1000",
          "850",
          "800",
          "NA",
          "1300",
          "950",
          "900",
          "NA",
          "1100",
          "920",
          "1180",
          "2000",
          "unknown",
          "1150",
          "8000",
          "unknown",
          "1600",
          "1050",
          "2000",
          "975"
         ],
         "yaxis": "y"
        }
       ],
       "layout": {
        "legend": {
         "tracegroupgap": 0
        },
        "margin": {
         "t": 60
        },
        "template": {
         "data": {
          "bar": [
           {
            "error_x": {
             "color": "#2a3f5f"
            },
            "error_y": {
             "color": "#2a3f5f"
            },
            "marker": {
             "line": {
              "color": "#E5ECF6",
              "width": 0.5
             },
             "pattern": {
              "fillmode": "overlay",
              "size": 10,
              "solidity": 0.2
             }
            },
            "type": "bar"
           }
          ],
          "barpolar": [
           {
            "marker": {
             "line": {
              "color": "#E5ECF6",
              "width": 0.5
             },
             "pattern": {
              "fillmode": "overlay",
              "size": 10,
              "solidity": 0.2
             }
            },
            "type": "barpolar"
           }
          ],
          "carpet": [
           {
            "aaxis": {
             "endlinecolor": "#2a3f5f",
             "gridcolor": "white",
             "linecolor": "white",
             "minorgridcolor": "white",
             "startlinecolor": "#2a3f5f"
            },
            "baxis": {
             "endlinecolor": "#2a3f5f",
             "gridcolor": "white",
             "linecolor": "white",
             "minorgridcolor": "white",
             "startlinecolor": "#2a3f5f"
            },
            "type": "carpet"
           }
          ],
          "choropleth": [
           {
            "colorbar": {
             "outlinewidth": 0,
             "ticks": ""
            },
            "type": "choropleth"
           }
          ],
          "contour": [
           {
            "colorbar": {
             "outlinewidth": 0,
             "ticks": ""
            },
            "colorscale": [
             [
              0,
              "#0d0887"
             ],
             [
              0.1111111111111111,
              "#46039f"
             ],
             [
              0.2222222222222222,
              "#7201a8"
             ],
             [
              0.3333333333333333,
              "#9c179e"
             ],
             [
              0.4444444444444444,
              "#bd3786"
             ],
             [
              0.5555555555555556,
              "#d8576b"
             ],
             [
              0.6666666666666666,
              "#ed7953"
             ],
             [
              0.7777777777777778,
              "#fb9f3a"
             ],
             [
              0.8888888888888888,
              "#fdca26"
             ],
             [
              1,
              "#f0f921"
             ]
            ],
            "type": "contour"
           }
          ],
          "contourcarpet": [
           {
            "colorbar": {
             "outlinewidth": 0,
             "ticks": ""
            },
            "type": "contourcarpet"
           }
          ],
          "heatmap": [
           {
            "colorbar": {
             "outlinewidth": 0,
             "ticks": ""
            },
            "colorscale": [
             [
              0,
              "#0d0887"
             ],
             [
              0.1111111111111111,
              "#46039f"
             ],
             [
              0.2222222222222222,
              "#7201a8"
             ],
             [
              0.3333333333333333,
              "#9c179e"
             ],
             [
              0.4444444444444444,
              "#bd3786"
             ],
             [
              0.5555555555555556,
              "#d8576b"
             ],
             [
              0.6666666666666666,
              "#ed7953"
             ],
             [
              0.7777777777777778,
              "#fb9f3a"
             ],
             [
              0.8888888888888888,
              "#fdca26"
             ],
             [
              1,
              "#f0f921"
             ]
            ],
            "type": "heatmap"
           }
          ],
          "heatmapgl": [
           {
            "colorbar": {
             "outlinewidth": 0,
             "ticks": ""
            },
            "colorscale": [
             [
              0,
              "#0d0887"
             ],
             [
              0.1111111111111111,
              "#46039f"
             ],
             [
              0.2222222222222222,
              "#7201a8"
             ],
             [
              0.3333333333333333,
              "#9c179e"
             ],
             [
              0.4444444444444444,
              "#bd3786"
             ],
             [
              0.5555555555555556,
              "#d8576b"
             ],
             [
              0.6666666666666666,
              "#ed7953"
             ],
             [
              0.7777777777777778,
              "#fb9f3a"
             ],
             [
              0.8888888888888888,
              "#fdca26"
             ],
             [
              1,
              "#f0f921"
             ]
            ],
            "type": "heatmapgl"
           }
          ],
          "histogram": [
           {
            "marker": {
             "pattern": {
              "fillmode": "overlay",
              "size": 10,
              "solidity": 0.2
             }
            },
            "type": "histogram"
           }
          ],
          "histogram2d": [
           {
            "colorbar": {
             "outlinewidth": 0,
             "ticks": ""
            },
            "colorscale": [
             [
              0,
              "#0d0887"
             ],
             [
              0.1111111111111111,
              "#46039f"
             ],
             [
              0.2222222222222222,
              "#7201a8"
             ],
             [
              0.3333333333333333,
              "#9c179e"
             ],
             [
              0.4444444444444444,
              "#bd3786"
             ],
             [
              0.5555555555555556,
              "#d8576b"
             ],
             [
              0.6666666666666666,
              "#ed7953"
             ],
             [
              0.7777777777777778,
              "#fb9f3a"
             ],
             [
              0.8888888888888888,
              "#fdca26"
             ],
             [
              1,
              "#f0f921"
             ]
            ],
            "type": "histogram2d"
           }
          ],
          "histogram2dcontour": [
           {
            "colorbar": {
             "outlinewidth": 0,
             "ticks": ""
            },
            "colorscale": [
             [
              0,
              "#0d0887"
             ],
             [
              0.1111111111111111,
              "#46039f"
             ],
             [
              0.2222222222222222,
              "#7201a8"
             ],
             [
              0.3333333333333333,
              "#9c179e"
             ],
             [
              0.4444444444444444,
              "#bd3786"
             ],
             [
              0.5555555555555556,
              "#d8576b"
             ],
             [
              0.6666666666666666,
              "#ed7953"
             ],
             [
              0.7777777777777778,
              "#fb9f3a"
             ],
             [
              0.8888888888888888,
              "#fdca26"
             ],
             [
              1,
              "#f0f921"
             ]
            ],
            "type": "histogram2dcontour"
           }
          ],
          "mesh3d": [
           {
            "colorbar": {
             "outlinewidth": 0,
             "ticks": ""
            },
            "type": "mesh3d"
           }
          ],
          "parcoords": [
           {
            "line": {
             "colorbar": {
              "outlinewidth": 0,
              "ticks": ""
             }
            },
            "type": "parcoords"
           }
          ],
          "pie": [
           {
            "automargin": true,
            "type": "pie"
           }
          ],
          "scatter": [
           {
            "fillpattern": {
             "fillmode": "overlay",
             "size": 10,
             "solidity": 0.2
            },
            "type": "scatter"
           }
          ],
          "scatter3d": [
           {
            "line": {
             "colorbar": {
              "outlinewidth": 0,
              "ticks": ""
             }
            },
            "marker": {
             "colorbar": {
              "outlinewidth": 0,
              "ticks": ""
             }
            },
            "type": "scatter3d"
           }
          ],
          "scattercarpet": [
           {
            "marker": {
             "colorbar": {
              "outlinewidth": 0,
              "ticks": ""
             }
            },
            "type": "scattercarpet"
           }
          ],
          "scattergeo": [
           {
            "marker": {
             "colorbar": {
              "outlinewidth": 0,
              "ticks": ""
             }
            },
            "type": "scattergeo"
           }
          ],
          "scattergl": [
           {
            "marker": {
             "colorbar": {
              "outlinewidth": 0,
              "ticks": ""
             }
            },
            "type": "scattergl"
           }
          ],
          "scattermapbox": [
           {
            "marker": {
             "colorbar": {
              "outlinewidth": 0,
              "ticks": ""
             }
            },
            "type": "scattermapbox"
           }
          ],
          "scatterpolar": [
           {
            "marker": {
             "colorbar": {
              "outlinewidth": 0,
              "ticks": ""
             }
            },
            "type": "scatterpolar"
           }
          ],
          "scatterpolargl": [
           {
            "marker": {
             "colorbar": {
              "outlinewidth": 0,
              "ticks": ""
             }
            },
            "type": "scatterpolargl"
           }
          ],
          "scatterternary": [
           {
            "marker": {
             "colorbar": {
              "outlinewidth": 0,
              "ticks": ""
             }
            },
            "type": "scatterternary"
           }
          ],
          "surface": [
           {
            "colorbar": {
             "outlinewidth": 0,
             "ticks": ""
            },
            "colorscale": [
             [
              0,
              "#0d0887"
             ],
             [
              0.1111111111111111,
              "#46039f"
             ],
             [
              0.2222222222222222,
              "#7201a8"
             ],
             [
              0.3333333333333333,
              "#9c179e"
             ],
             [
              0.4444444444444444,
              "#bd3786"
             ],
             [
              0.5555555555555556,
              "#d8576b"
             ],
             [
              0.6666666666666666,
              "#ed7953"
             ],
             [
              0.7777777777777778,
              "#fb9f3a"
             ],
             [
              0.8888888888888888,
              "#fdca26"
             ],
             [
              1,
              "#f0f921"
             ]
            ],
            "type": "surface"
           }
          ],
          "table": [
           {
            "cells": {
             "fill": {
              "color": "#EBF0F8"
             },
             "line": {
              "color": "white"
             }
            },
            "header": {
             "fill": {
              "color": "#C8D4E3"
             },
             "line": {
              "color": "white"
             }
            },
            "type": "table"
           }
          ]
         },
         "layout": {
          "annotationdefaults": {
           "arrowcolor": "#2a3f5f",
           "arrowhead": 0,
           "arrowwidth": 1
          },
          "autotypenumbers": "strict",
          "coloraxis": {
           "colorbar": {
            "outlinewidth": 0,
            "ticks": ""
           }
          },
          "colorscale": {
           "diverging": [
            [
             0,
             "#8e0152"
            ],
            [
             0.1,
             "#c51b7d"
            ],
            [
             0.2,
             "#de77ae"
            ],
            [
             0.3,
             "#f1b6da"
            ],
            [
             0.4,
             "#fde0ef"
            ],
            [
             0.5,
             "#f7f7f7"
            ],
            [
             0.6,
             "#e6f5d0"
            ],
            [
             0.7,
             "#b8e186"
            ],
            [
             0.8,
             "#7fbc41"
            ],
            [
             0.9,
             "#4d9221"
            ],
            [
             1,
             "#276419"
            ]
           ],
           "sequential": [
            [
             0,
             "#0d0887"
            ],
            [
             0.1111111111111111,
             "#46039f"
            ],
            [
             0.2222222222222222,
             "#7201a8"
            ],
            [
             0.3333333333333333,
             "#9c179e"
            ],
            [
             0.4444444444444444,
             "#bd3786"
            ],
            [
             0.5555555555555556,
             "#d8576b"
            ],
            [
             0.6666666666666666,
             "#ed7953"
            ],
            [
             0.7777777777777778,
             "#fb9f3a"
            ],
            [
             0.8888888888888888,
             "#fdca26"
            ],
            [
             1,
             "#f0f921"
            ]
           ],
           "sequentialminus": [
            [
             0,
             "#0d0887"
            ],
            [
             0.1111111111111111,
             "#46039f"
            ],
            [
             0.2222222222222222,
             "#7201a8"
            ],
            [
             0.3333333333333333,
             "#9c179e"
            ],
            [
             0.4444444444444444,
             "#bd3786"
            ],
            [
             0.5555555555555556,
             "#d8576b"
            ],
            [
             0.6666666666666666,
             "#ed7953"
            ],
            [
             0.7777777777777778,
             "#fb9f3a"
            ],
            [
             0.8888888888888888,
             "#fdca26"
            ],
            [
             1,
             "#f0f921"
            ]
           ]
          },
          "colorway": [
           "#636efa",
           "#EF553B",
           "#00cc96",
           "#ab63fa",
           "#FFA15A",
           "#19d3f3",
           "#FF6692",
           "#B6E880",
           "#FF97FF",
           "#FECB52"
          ],
          "font": {
           "color": "#2a3f5f"
          },
          "geo": {
           "bgcolor": "white",
           "lakecolor": "white",
           "landcolor": "#E5ECF6",
           "showlakes": true,
           "showland": true,
           "subunitcolor": "white"
          },
          "hoverlabel": {
           "align": "left"
          },
          "hovermode": "closest",
          "mapbox": {
           "style": "light"
          },
          "paper_bgcolor": "white",
          "plot_bgcolor": "#E5ECF6",
          "polar": {
           "angularaxis": {
            "gridcolor": "white",
            "linecolor": "white",
            "ticks": ""
           },
           "bgcolor": "#E5ECF6",
           "radialaxis": {
            "gridcolor": "white",
            "linecolor": "white",
            "ticks": ""
           }
          },
          "scene": {
           "xaxis": {
            "backgroundcolor": "#E5ECF6",
            "gridcolor": "white",
            "gridwidth": 2,
            "linecolor": "white",
            "showbackground": true,
            "ticks": "",
            "zerolinecolor": "white"
           },
           "yaxis": {
            "backgroundcolor": "#E5ECF6",
            "gridcolor": "white",
            "gridwidth": 2,
            "linecolor": "white",
            "showbackground": true,
            "ticks": "",
            "zerolinecolor": "white"
           },
           "zaxis": {
            "backgroundcolor": "#E5ECF6",
            "gridcolor": "white",
            "gridwidth": 2,
            "linecolor": "white",
            "showbackground": true,
            "ticks": "",
            "zerolinecolor": "white"
           }
          },
          "shapedefaults": {
           "line": {
            "color": "#2a3f5f"
           }
          },
          "ternary": {
           "aaxis": {
            "gridcolor": "white",
            "linecolor": "white",
            "ticks": ""
           },
           "baxis": {
            "gridcolor": "white",
            "linecolor": "white",
            "ticks": ""
           },
           "bgcolor": "#E5ECF6",
           "caxis": {
            "gridcolor": "white",
            "linecolor": "white",
            "ticks": ""
           }
          },
          "title": {
           "x": 0.05
          },
          "xaxis": {
           "automargin": true,
           "gridcolor": "white",
           "linecolor": "white",
           "ticks": "",
           "title": {
            "standoff": 15
           },
           "zerolinecolor": "white",
           "zerolinewidth": 2
          },
          "yaxis": {
           "automargin": true,
           "gridcolor": "white",
           "linecolor": "white",
           "ticks": "",
           "title": {
            "standoff": 15
           },
           "zerolinecolor": "white",
           "zerolinewidth": 2
          }
         }
        },
        "xaxis": {
         "anchor": "y",
         "domain": [
          0,
          1
         ],
         "title": {
          "text": "name"
         }
        },
        "yaxis": {
         "anchor": "x",
         "domain": [
          0,
          1
         ],
         "title": {
          "text": "max_atmosphering_speed"
         }
        }
       }
      }
     },
     "metadata": {},
     "output_type": "display_data"
    }
   ],
   "source": [
    "df2['max_atmosphering_speed'].str.strip()\n",
    "px.data \n",
    "fig = px.scatter(df2, x=\"name\", y=\"max_atmosphering_speed\")\n",
    "fig.show()\n",
    "#H-type Nubian yacht is the starship having max atmosphering speed"
   ]
  },
  {
   "cell_type": "code",
   "execution_count": 34,
   "metadata": {},
   "outputs": [
    {
     "data": {
      "application/vnd.plotly.v1+json": {
       "config": {
        "plotlyServerURL": "https://plot.ly"
       },
       "data": [
        {
         "hovertemplate": "manufacturer=Corellian Engineering Corporation<br>model=%{x}<br>cost_in_credits=%{y}<extra></extra>",
         "legendgroup": "Corellian Engineering Corporation",
         "marker": {
          "color": "#636efa",
          "symbol": "circle"
         },
         "mode": "markers",
         "name": "Corellian Engineering Corporation",
         "orientation": "v",
         "showlegend": true,
         "type": "scatter",
         "x": [
          "CR90 corvette",
          "YT-1300 light freighter"
         ],
         "xaxis": "x",
         "y": [
          "3500000",
          "100000"
         ],
         "yaxis": "y"
        },
        {
         "hovertemplate": "manufacturer=Kuat Drive Yards<br>model=%{x}<br>cost_in_credits=%{y}<extra></extra>",
         "legendgroup": "Kuat Drive Yards",
         "marker": {
          "color": "#EF553B",
          "symbol": "circle"
         },
         "mode": "markers",
         "name": "Kuat Drive Yards",
         "orientation": "v",
         "showlegend": true,
         "type": "scatter",
         "x": [
          "Imperial I-class Star Destroyer",
          "EF76 Nebulon-B escort frigate"
         ],
         "xaxis": "x",
         "y": [
          "150000000",
          "8500000"
         ],
         "yaxis": "y"
        },
        {
         "hovertemplate": "manufacturer=Sienar Fleet Systems Cyngus Spaceworks<br>model=%{x}<br>cost_in_credits=%{y}<extra></extra>",
         "legendgroup": "Sienar Fleet Systems Cyngus Spaceworks",
         "marker": {
          "color": "#00cc96",
          "symbol": "circle"
         },
         "mode": "markers",
         "name": "Sienar Fleet Systems Cyngus Spaceworks",
         "orientation": "v",
         "showlegend": true,
         "type": "scatter",
         "x": [
          "Sentinel-class landing craft"
         ],
         "xaxis": "x",
         "y": [
          "240000"
         ],
         "yaxis": "y"
        },
        {
         "hovertemplate": "manufacturer=Imperial Department of Military Research Sienar Fleet Systems<br>model=%{x}<br>cost_in_credits=%{y}<extra></extra>",
         "legendgroup": "Imperial Department of Military Research Sienar Fleet Systems",
         "marker": {
          "color": "#ab63fa",
          "symbol": "circle"
         },
         "mode": "markers",
         "name": "Imperial Department of Military Research Sienar Fleet Systems",
         "orientation": "v",
         "showlegend": true,
         "type": "scatter",
         "x": [
          "DS-1 Orbital Battle Station"
         ],
         "xaxis": "x",
         "y": [
          "1000000000000"
         ],
         "yaxis": "y"
        },
        {
         "hovertemplate": "manufacturer=Koensayr Manufacturing<br>model=%{x}<br>cost_in_credits=%{y}<extra></extra>",
         "legendgroup": "Koensayr Manufacturing",
         "marker": {
          "color": "#FFA15A",
          "symbol": "circle"
         },
         "mode": "markers",
         "name": "Koensayr Manufacturing",
         "orientation": "v",
         "showlegend": true,
         "type": "scatter",
         "x": [
          "BTL Y-wing"
         ],
         "xaxis": "x",
         "y": [
          "134999"
         ],
         "yaxis": "y"
        },
        {
         "hovertemplate": "manufacturer=Incom Corporation<br>model=%{x}<br>cost_in_credits=%{y}<extra></extra>",
         "legendgroup": "Incom Corporation",
         "marker": {
          "color": "#19d3f3",
          "symbol": "circle"
         },
         "mode": "markers",
         "name": "Incom Corporation",
         "orientation": "v",
         "showlegend": true,
         "type": "scatter",
         "x": [
          "T-65 X-wing"
         ],
         "xaxis": "x",
         "y": [
          "149999"
         ],
         "yaxis": "y"
        },
        {
         "hovertemplate": "manufacturer=Kuat Drive Yards Fondor Shipyards<br>model=%{x}<br>cost_in_credits=%{y}<extra></extra>",
         "legendgroup": "Kuat Drive Yards Fondor Shipyards",
         "marker": {
          "color": "#FF6692",
          "symbol": "circle"
         },
         "mode": "markers",
         "name": "Kuat Drive Yards Fondor Shipyards",
         "orientation": "v",
         "showlegend": true,
         "type": "scatter",
         "x": [
          "Executor-class star dreadnought"
         ],
         "xaxis": "x",
         "y": [
          "1143350000"
         ],
         "yaxis": "y"
        },
        {
         "hovertemplate": "manufacturer=Sienar Fleet Systems<br>model=%{x}<br>cost_in_credits=%{y}<extra></extra>",
         "legendgroup": "Sienar Fleet Systems",
         "marker": {
          "color": "#B6E880",
          "symbol": "circle"
         },
         "mode": "markers",
         "name": "Sienar Fleet Systems",
         "orientation": "v",
         "showlegend": true,
         "type": "scatter",
         "x": [
          "Lambda-class T-4a shuttle"
         ],
         "xaxis": "x",
         "y": [
          "240000"
         ],
         "yaxis": "y"
        },
        {
         "hovertemplate": "manufacturer=Mon Calamari shipyards<br>model=%{x}<br>cost_in_credits=%{y}<extra></extra>",
         "legendgroup": "Mon Calamari shipyards",
         "marker": {
          "color": "#FF97FF",
          "symbol": "circle"
         },
         "mode": "markers",
         "name": "Mon Calamari shipyards",
         "orientation": "v",
         "showlegend": true,
         "type": "scatter",
         "x": [
          "MC80 Liberty type Star Cruiser"
         ],
         "xaxis": "x",
         "y": [
          "104000000"
         ],
         "yaxis": "y"
        },
        {
         "hovertemplate": "manufacturer=Alliance Underground Engineering Incom Corporation<br>model=%{x}<br>cost_in_credits=%{y}<extra></extra>",
         "legendgroup": "Alliance Underground Engineering Incom Corporation",
         "marker": {
          "color": "#FECB52",
          "symbol": "circle"
         },
         "mode": "markers",
         "name": "Alliance Underground Engineering Incom Corporation",
         "orientation": "v",
         "showlegend": true,
         "type": "scatter",
         "x": [
          "RZ-1 A-wing Interceptor"
         ],
         "xaxis": "x",
         "y": [
          "175000"
         ],
         "yaxis": "y"
        },
        {
         "hovertemplate": "manufacturer=Slayn & Korpil<br>model=%{x}<br>cost_in_credits=%{y}<extra></extra>",
         "legendgroup": "Slayn & Korpil",
         "marker": {
          "color": "#636efa",
          "symbol": "circle"
         },
         "mode": "markers",
         "name": "Slayn & Korpil",
         "orientation": "v",
         "showlegend": true,
         "type": "scatter",
         "x": [
          "A/SF-01 B-wing starfighter"
         ],
         "xaxis": "x",
         "y": [
          "220000"
         ],
         "yaxis": "y"
        },
        {
         "hovertemplate": "manufacturer=Theed Palace Space Vessel Engineering Corps<br>model=%{x}<br>cost_in_credits=%{y}<extra></extra>",
         "legendgroup": "Theed Palace Space Vessel Engineering Corps",
         "marker": {
          "color": "#EF553B",
          "symbol": "circle"
         },
         "mode": "markers",
         "name": "Theed Palace Space Vessel Engineering Corps",
         "orientation": "v",
         "showlegend": true,
         "type": "scatter",
         "x": [
          "N-1 starfighter"
         ],
         "xaxis": "x",
         "y": [
          "200000"
         ],
         "yaxis": "y"
        },
        {
         "hovertemplate": "manufacturer=Republic Sienar Systems<br>model=%{x}<br>cost_in_credits=%{y}<extra></extra>",
         "legendgroup": "Republic Sienar Systems",
         "marker": {
          "color": "#00cc96",
          "symbol": "circle"
         },
         "mode": "markers",
         "name": "Republic Sienar Systems",
         "orientation": "v",
         "showlegend": true,
         "type": "scatter",
         "x": [
          "Star Courier"
         ],
         "xaxis": "x",
         "y": [
          "55000000"
         ],
         "yaxis": "y"
        },
        {
         "hovertemplate": "manufacturer=Theed Palace Space Vessel Engineering Corps Nubia Star Drives<br>model=%{x}<br>cost_in_credits=%{y}<extra></extra>",
         "legendgroup": "Theed Palace Space Vessel Engineering Corps Nubia Star Drives",
         "marker": {
          "color": "#ab63fa",
          "symbol": "circle"
         },
         "mode": "markers",
         "name": "Theed Palace Space Vessel Engineering Corps Nubia Star Drives",
         "orientation": "v",
         "showlegend": true,
         "type": "scatter",
         "x": [
          "J-type diplomatic barge"
         ],
         "xaxis": "x",
         "y": [
          "2000000"
         ],
         "yaxis": "y"
        },
        {
         "hovertemplate": "manufacturer=Kuat Systems Engineering<br>model=%{x}<br>cost_in_credits=%{y}<extra></extra>",
         "legendgroup": "Kuat Systems Engineering",
         "marker": {
          "color": "#FFA15A",
          "symbol": "circle"
         },
         "mode": "markers",
         "name": "Kuat Systems Engineering",
         "orientation": "v",
         "showlegend": true,
         "type": "scatter",
         "x": [
          "Delta-7 Aethersprite-class interceptor"
         ],
         "xaxis": "x",
         "y": [
          "180000"
         ],
         "yaxis": "y"
        },
        {
         "hovertemplate": "manufacturer=Huppla Pasa Tisc Shipwrights Collective<br>model=%{x}<br>cost_in_credits=%{y}<extra></extra>",
         "legendgroup": "Huppla Pasa Tisc Shipwrights Collective",
         "marker": {
          "color": "#19d3f3",
          "symbol": "circle"
         },
         "mode": "markers",
         "name": "Huppla Pasa Tisc Shipwrights Collective",
         "orientation": "v",
         "showlegend": true,
         "type": "scatter",
         "x": [
          "Punworcca 116-class interstellar sloop"
         ],
         "xaxis": "x",
         "y": [
          "35700"
         ],
         "yaxis": "y"
        },
        {
         "hovertemplate": "manufacturer=Rendili StarDrive Free Dac Volunteers Engineering corps.<br>model=%{x}<br>cost_in_credits=%{y}<extra></extra>",
         "legendgroup": "Rendili StarDrive Free Dac Volunteers Engineering corps.",
         "marker": {
          "color": "#FF6692",
          "symbol": "circle"
         },
         "mode": "markers",
         "name": "Rendili StarDrive Free Dac Volunteers Engineering corps.",
         "orientation": "v",
         "showlegend": true,
         "type": "scatter",
         "x": [
          "Providence-class carrier/destroyer"
         ],
         "xaxis": "x",
         "y": [
          "125000000"
         ],
         "yaxis": "y"
        },
        {
         "hovertemplate": "manufacturer=Cygnus Spaceworks<br>model=%{x}<br>cost_in_credits=%{y}<extra></extra>",
         "legendgroup": "Cygnus Spaceworks",
         "marker": {
          "color": "#B6E880",
          "symbol": "circle"
         },
         "mode": "markers",
         "name": "Cygnus Spaceworks",
         "orientation": "v",
         "showlegend": true,
         "type": "scatter",
         "x": [
          "Theta-class T-2c shuttle"
         ],
         "xaxis": "x",
         "y": [
          "1000000"
         ],
         "yaxis": "y"
        },
        {
         "hovertemplate": "manufacturer=Kuat Drive Yards Allanteen Six shipyards<br>model=%{x}<br>cost_in_credits=%{y}<extra></extra>",
         "legendgroup": "Kuat Drive Yards Allanteen Six shipyards",
         "marker": {
          "color": "#FF97FF",
          "symbol": "circle"
         },
         "mode": "markers",
         "name": "Kuat Drive Yards Allanteen Six shipyards",
         "orientation": "v",
         "showlegend": true,
         "type": "scatter",
         "x": [
          "Senator-class Star Destroyer"
         ],
         "xaxis": "x",
         "y": [
          "59000000"
         ],
         "yaxis": "y"
        }
       ],
       "layout": {
        "legend": {
         "title": {
          "text": "manufacturer"
         },
         "tracegroupgap": 0
        },
        "margin": {
         "t": 60
        },
        "template": {
         "data": {
          "bar": [
           {
            "error_x": {
             "color": "#2a3f5f"
            },
            "error_y": {
             "color": "#2a3f5f"
            },
            "marker": {
             "line": {
              "color": "#E5ECF6",
              "width": 0.5
             },
             "pattern": {
              "fillmode": "overlay",
              "size": 10,
              "solidity": 0.2
             }
            },
            "type": "bar"
           }
          ],
          "barpolar": [
           {
            "marker": {
             "line": {
              "color": "#E5ECF6",
              "width": 0.5
             },
             "pattern": {
              "fillmode": "overlay",
              "size": 10,
              "solidity": 0.2
             }
            },
            "type": "barpolar"
           }
          ],
          "carpet": [
           {
            "aaxis": {
             "endlinecolor": "#2a3f5f",
             "gridcolor": "white",
             "linecolor": "white",
             "minorgridcolor": "white",
             "startlinecolor": "#2a3f5f"
            },
            "baxis": {
             "endlinecolor": "#2a3f5f",
             "gridcolor": "white",
             "linecolor": "white",
             "minorgridcolor": "white",
             "startlinecolor": "#2a3f5f"
            },
            "type": "carpet"
           }
          ],
          "choropleth": [
           {
            "colorbar": {
             "outlinewidth": 0,
             "ticks": ""
            },
            "type": "choropleth"
           }
          ],
          "contour": [
           {
            "colorbar": {
             "outlinewidth": 0,
             "ticks": ""
            },
            "colorscale": [
             [
              0,
              "#0d0887"
             ],
             [
              0.1111111111111111,
              "#46039f"
             ],
             [
              0.2222222222222222,
              "#7201a8"
             ],
             [
              0.3333333333333333,
              "#9c179e"
             ],
             [
              0.4444444444444444,
              "#bd3786"
             ],
             [
              0.5555555555555556,
              "#d8576b"
             ],
             [
              0.6666666666666666,
              "#ed7953"
             ],
             [
              0.7777777777777778,
              "#fb9f3a"
             ],
             [
              0.8888888888888888,
              "#fdca26"
             ],
             [
              1,
              "#f0f921"
             ]
            ],
            "type": "contour"
           }
          ],
          "contourcarpet": [
           {
            "colorbar": {
             "outlinewidth": 0,
             "ticks": ""
            },
            "type": "contourcarpet"
           }
          ],
          "heatmap": [
           {
            "colorbar": {
             "outlinewidth": 0,
             "ticks": ""
            },
            "colorscale": [
             [
              0,
              "#0d0887"
             ],
             [
              0.1111111111111111,
              "#46039f"
             ],
             [
              0.2222222222222222,
              "#7201a8"
             ],
             [
              0.3333333333333333,
              "#9c179e"
             ],
             [
              0.4444444444444444,
              "#bd3786"
             ],
             [
              0.5555555555555556,
              "#d8576b"
             ],
             [
              0.6666666666666666,
              "#ed7953"
             ],
             [
              0.7777777777777778,
              "#fb9f3a"
             ],
             [
              0.8888888888888888,
              "#fdca26"
             ],
             [
              1,
              "#f0f921"
             ]
            ],
            "type": "heatmap"
           }
          ],
          "heatmapgl": [
           {
            "colorbar": {
             "outlinewidth": 0,
             "ticks": ""
            },
            "colorscale": [
             [
              0,
              "#0d0887"
             ],
             [
              0.1111111111111111,
              "#46039f"
             ],
             [
              0.2222222222222222,
              "#7201a8"
             ],
             [
              0.3333333333333333,
              "#9c179e"
             ],
             [
              0.4444444444444444,
              "#bd3786"
             ],
             [
              0.5555555555555556,
              "#d8576b"
             ],
             [
              0.6666666666666666,
              "#ed7953"
             ],
             [
              0.7777777777777778,
              "#fb9f3a"
             ],
             [
              0.8888888888888888,
              "#fdca26"
             ],
             [
              1,
              "#f0f921"
             ]
            ],
            "type": "heatmapgl"
           }
          ],
          "histogram": [
           {
            "marker": {
             "pattern": {
              "fillmode": "overlay",
              "size": 10,
              "solidity": 0.2
             }
            },
            "type": "histogram"
           }
          ],
          "histogram2d": [
           {
            "colorbar": {
             "outlinewidth": 0,
             "ticks": ""
            },
            "colorscale": [
             [
              0,
              "#0d0887"
             ],
             [
              0.1111111111111111,
              "#46039f"
             ],
             [
              0.2222222222222222,
              "#7201a8"
             ],
             [
              0.3333333333333333,
              "#9c179e"
             ],
             [
              0.4444444444444444,
              "#bd3786"
             ],
             [
              0.5555555555555556,
              "#d8576b"
             ],
             [
              0.6666666666666666,
              "#ed7953"
             ],
             [
              0.7777777777777778,
              "#fb9f3a"
             ],
             [
              0.8888888888888888,
              "#fdca26"
             ],
             [
              1,
              "#f0f921"
             ]
            ],
            "type": "histogram2d"
           }
          ],
          "histogram2dcontour": [
           {
            "colorbar": {
             "outlinewidth": 0,
             "ticks": ""
            },
            "colorscale": [
             [
              0,
              "#0d0887"
             ],
             [
              0.1111111111111111,
              "#46039f"
             ],
             [
              0.2222222222222222,
              "#7201a8"
             ],
             [
              0.3333333333333333,
              "#9c179e"
             ],
             [
              0.4444444444444444,
              "#bd3786"
             ],
             [
              0.5555555555555556,
              "#d8576b"
             ],
             [
              0.6666666666666666,
              "#ed7953"
             ],
             [
              0.7777777777777778,
              "#fb9f3a"
             ],
             [
              0.8888888888888888,
              "#fdca26"
             ],
             [
              1,
              "#f0f921"
             ]
            ],
            "type": "histogram2dcontour"
           }
          ],
          "mesh3d": [
           {
            "colorbar": {
             "outlinewidth": 0,
             "ticks": ""
            },
            "type": "mesh3d"
           }
          ],
          "parcoords": [
           {
            "line": {
             "colorbar": {
              "outlinewidth": 0,
              "ticks": ""
             }
            },
            "type": "parcoords"
           }
          ],
          "pie": [
           {
            "automargin": true,
            "type": "pie"
           }
          ],
          "scatter": [
           {
            "fillpattern": {
             "fillmode": "overlay",
             "size": 10,
             "solidity": 0.2
            },
            "type": "scatter"
           }
          ],
          "scatter3d": [
           {
            "line": {
             "colorbar": {
              "outlinewidth": 0,
              "ticks": ""
             }
            },
            "marker": {
             "colorbar": {
              "outlinewidth": 0,
              "ticks": ""
             }
            },
            "type": "scatter3d"
           }
          ],
          "scattercarpet": [
           {
            "marker": {
             "colorbar": {
              "outlinewidth": 0,
              "ticks": ""
             }
            },
            "type": "scattercarpet"
           }
          ],
          "scattergeo": [
           {
            "marker": {
             "colorbar": {
              "outlinewidth": 0,
              "ticks": ""
             }
            },
            "type": "scattergeo"
           }
          ],
          "scattergl": [
           {
            "marker": {
             "colorbar": {
              "outlinewidth": 0,
              "ticks": ""
             }
            },
            "type": "scattergl"
           }
          ],
          "scattermapbox": [
           {
            "marker": {
             "colorbar": {
              "outlinewidth": 0,
              "ticks": ""
             }
            },
            "type": "scattermapbox"
           }
          ],
          "scatterpolar": [
           {
            "marker": {
             "colorbar": {
              "outlinewidth": 0,
              "ticks": ""
             }
            },
            "type": "scatterpolar"
           }
          ],
          "scatterpolargl": [
           {
            "marker": {
             "colorbar": {
              "outlinewidth": 0,
              "ticks": ""
             }
            },
            "type": "scatterpolargl"
           }
          ],
          "scatterternary": [
           {
            "marker": {
             "colorbar": {
              "outlinewidth": 0,
              "ticks": ""
             }
            },
            "type": "scatterternary"
           }
          ],
          "surface": [
           {
            "colorbar": {
             "outlinewidth": 0,
             "ticks": ""
            },
            "colorscale": [
             [
              0,
              "#0d0887"
             ],
             [
              0.1111111111111111,
              "#46039f"
             ],
             [
              0.2222222222222222,
              "#7201a8"
             ],
             [
              0.3333333333333333,
              "#9c179e"
             ],
             [
              0.4444444444444444,
              "#bd3786"
             ],
             [
              0.5555555555555556,
              "#d8576b"
             ],
             [
              0.6666666666666666,
              "#ed7953"
             ],
             [
              0.7777777777777778,
              "#fb9f3a"
             ],
             [
              0.8888888888888888,
              "#fdca26"
             ],
             [
              1,
              "#f0f921"
             ]
            ],
            "type": "surface"
           }
          ],
          "table": [
           {
            "cells": {
             "fill": {
              "color": "#EBF0F8"
             },
             "line": {
              "color": "white"
             }
            },
            "header": {
             "fill": {
              "color": "#C8D4E3"
             },
             "line": {
              "color": "white"
             }
            },
            "type": "table"
           }
          ]
         },
         "layout": {
          "annotationdefaults": {
           "arrowcolor": "#2a3f5f",
           "arrowhead": 0,
           "arrowwidth": 1
          },
          "autotypenumbers": "strict",
          "coloraxis": {
           "colorbar": {
            "outlinewidth": 0,
            "ticks": ""
           }
          },
          "colorscale": {
           "diverging": [
            [
             0,
             "#8e0152"
            ],
            [
             0.1,
             "#c51b7d"
            ],
            [
             0.2,
             "#de77ae"
            ],
            [
             0.3,
             "#f1b6da"
            ],
            [
             0.4,
             "#fde0ef"
            ],
            [
             0.5,
             "#f7f7f7"
            ],
            [
             0.6,
             "#e6f5d0"
            ],
            [
             0.7,
             "#b8e186"
            ],
            [
             0.8,
             "#7fbc41"
            ],
            [
             0.9,
             "#4d9221"
            ],
            [
             1,
             "#276419"
            ]
           ],
           "sequential": [
            [
             0,
             "#0d0887"
            ],
            [
             0.1111111111111111,
             "#46039f"
            ],
            [
             0.2222222222222222,
             "#7201a8"
            ],
            [
             0.3333333333333333,
             "#9c179e"
            ],
            [
             0.4444444444444444,
             "#bd3786"
            ],
            [
             0.5555555555555556,
             "#d8576b"
            ],
            [
             0.6666666666666666,
             "#ed7953"
            ],
            [
             0.7777777777777778,
             "#fb9f3a"
            ],
            [
             0.8888888888888888,
             "#fdca26"
            ],
            [
             1,
             "#f0f921"
            ]
           ],
           "sequentialminus": [
            [
             0,
             "#0d0887"
            ],
            [
             0.1111111111111111,
             "#46039f"
            ],
            [
             0.2222222222222222,
             "#7201a8"
            ],
            [
             0.3333333333333333,
             "#9c179e"
            ],
            [
             0.4444444444444444,
             "#bd3786"
            ],
            [
             0.5555555555555556,
             "#d8576b"
            ],
            [
             0.6666666666666666,
             "#ed7953"
            ],
            [
             0.7777777777777778,
             "#fb9f3a"
            ],
            [
             0.8888888888888888,
             "#fdca26"
            ],
            [
             1,
             "#f0f921"
            ]
           ]
          },
          "colorway": [
           "#636efa",
           "#EF553B",
           "#00cc96",
           "#ab63fa",
           "#FFA15A",
           "#19d3f3",
           "#FF6692",
           "#B6E880",
           "#FF97FF",
           "#FECB52"
          ],
          "font": {
           "color": "#2a3f5f"
          },
          "geo": {
           "bgcolor": "white",
           "lakecolor": "white",
           "landcolor": "#E5ECF6",
           "showlakes": true,
           "showland": true,
           "subunitcolor": "white"
          },
          "hoverlabel": {
           "align": "left"
          },
          "hovermode": "closest",
          "mapbox": {
           "style": "light"
          },
          "paper_bgcolor": "white",
          "plot_bgcolor": "#E5ECF6",
          "polar": {
           "angularaxis": {
            "gridcolor": "white",
            "linecolor": "white",
            "ticks": ""
           },
           "bgcolor": "#E5ECF6",
           "radialaxis": {
            "gridcolor": "white",
            "linecolor": "white",
            "ticks": ""
           }
          },
          "scene": {
           "xaxis": {
            "backgroundcolor": "#E5ECF6",
            "gridcolor": "white",
            "gridwidth": 2,
            "linecolor": "white",
            "showbackground": true,
            "ticks": "",
            "zerolinecolor": "white"
           },
           "yaxis": {
            "backgroundcolor": "#E5ECF6",
            "gridcolor": "white",
            "gridwidth": 2,
            "linecolor": "white",
            "showbackground": true,
            "ticks": "",
            "zerolinecolor": "white"
           },
           "zaxis": {
            "backgroundcolor": "#E5ECF6",
            "gridcolor": "white",
            "gridwidth": 2,
            "linecolor": "white",
            "showbackground": true,
            "ticks": "",
            "zerolinecolor": "white"
           }
          },
          "shapedefaults": {
           "line": {
            "color": "#2a3f5f"
           }
          },
          "ternary": {
           "aaxis": {
            "gridcolor": "white",
            "linecolor": "white",
            "ticks": ""
           },
           "baxis": {
            "gridcolor": "white",
            "linecolor": "white",
            "ticks": ""
           },
           "bgcolor": "#E5ECF6",
           "caxis": {
            "gridcolor": "white",
            "linecolor": "white",
            "ticks": ""
           }
          },
          "title": {
           "x": 0.05
          },
          "xaxis": {
           "automargin": true,
           "gridcolor": "white",
           "linecolor": "white",
           "ticks": "",
           "title": {
            "standoff": 15
           },
           "zerolinecolor": "white",
           "zerolinewidth": 2
          },
          "yaxis": {
           "automargin": true,
           "gridcolor": "white",
           "linecolor": "white",
           "ticks": "",
           "title": {
            "standoff": 15
           },
           "zerolinecolor": "white",
           "zerolinewidth": 2
          }
         }
        },
        "xaxis": {
         "anchor": "y",
         "domain": [
          0,
          1
         ],
         "title": {
          "text": "model"
         }
        },
        "yaxis": {
         "anchor": "x",
         "domain": [
          0,
          1
         ],
         "title": {
          "text": "cost_in_credits"
         }
        }
       }
      }
     },
     "metadata": {},
     "output_type": "display_data"
    }
   ],
   "source": [
    "px.data\n",
    "fig = px.scatter(df2, x=\"model\", y=\"cost_in_credits\",color=\"manufacturer\")\n",
    "fig.show()"
   ]
  },
  {
   "cell_type": "code",
   "execution_count": 28,
   "metadata": {},
   "outputs": [
    {
     "data": {
      "application/vnd.plotly.v1+json": {
       "config": {
        "plotlyServerURL": "https://plot.ly"
       },
       "data": [
        {
         "hovertemplate": "consumables=1 year<br>name=%{x}<br>length=%{y}<extra></extra>",
         "legendgroup": "1 year",
         "marker": {
          "color": "#636efa",
          "symbol": "circle"
         },
         "mode": "markers",
         "name": "1 year",
         "orientation": "v",
         "showlegend": true,
         "type": "scatter",
         "x": [
          "CR90 corvette",
          "J-type diplomatic barge"
         ],
         "xaxis": "x",
         "y": [
          150,
          39
         ],
         "yaxis": "y"
        },
        {
         "hovertemplate": "consumables=2 years<br>name=%{x}<br>length=%{y}<extra></extra>",
         "legendgroup": "2 years",
         "marker": {
          "color": "#EF553B",
          "symbol": "circle"
         },
         "mode": "markers",
         "name": "2 years",
         "orientation": "v",
         "showlegend": true,
         "type": "scatter",
         "x": [
          "Star Destroyer",
          "EF76 Nebulon-B escort frigate",
          "Calamari Cruiser",
          "Republic Assault ship",
          "Republic attack cruiser"
         ],
         "xaxis": "x",
         "y": [
          1600,
          300,
          1200,
          752,
          1137
         ],
         "yaxis": "y"
        },
        {
         "hovertemplate": "consumables=1 month<br>name=%{x}<br>length=%{y}<extra></extra>",
         "legendgroup": "1 month",
         "marker": {
          "color": "#00cc96",
          "symbol": "circle"
         },
         "mode": "markers",
         "name": "1 month",
         "orientation": "v",
         "showlegend": true,
         "type": "scatter",
         "x": [
          "Sentinel-class landing craft",
          "Slave 1"
         ],
         "xaxis": "x",
         "y": [
          38,
          21.5
         ],
         "yaxis": "y"
        },
        {
         "hovertemplate": "consumables=3 years<br>name=%{x}<br>length=%{y}<extra></extra>",
         "legendgroup": "3 years",
         "marker": {
          "color": "#ab63fa",
          "symbol": "circle"
         },
         "mode": "markers",
         "name": "3 years",
         "orientation": "v",
         "showlegend": true,
         "type": "scatter",
         "x": [
          "Death Star"
         ],
         "xaxis": "x",
         "y": [
          120000
         ],
         "yaxis": "y"
        },
        {
         "hovertemplate": "consumables=2 months<br>name=%{x}<br>length=%{y}<extra></extra>",
         "legendgroup": "2 months",
         "marker": {
          "color": "#FFA15A",
          "symbol": "circle"
         },
         "mode": "markers",
         "name": "2 months",
         "orientation": "v",
         "showlegend": true,
         "type": "scatter",
         "x": [
          "Millennium Falcon",
          "Imperial shuttle"
         ],
         "xaxis": "x",
         "y": [
          34.37,
          20
         ],
         "yaxis": "y"
        },
        {
         "hovertemplate": "consumables=1 week<br>name=%{x}<br>length=%{y}<extra></extra>",
         "legendgroup": "1 week",
         "marker": {
          "color": "#19d3f3",
          "symbol": "circle"
         },
         "mode": "markers",
         "name": "1 week",
         "orientation": "v",
         "showlegend": true,
         "type": "scatter",
         "x": [
          "Y-wing",
          "X-wing",
          "A-wing",
          "B-wing"
         ],
         "xaxis": "x",
         "y": [
          14,
          12.5,
          9.6,
          16.9
         ],
         "yaxis": "y"
        },
        {
         "hovertemplate": "consumables=5 days<br>name=%{x}<br>length=%{y}<extra></extra>",
         "legendgroup": "5 days",
         "marker": {
          "color": "#FF6692",
          "symbol": "circle"
         },
         "mode": "markers",
         "name": "5 days",
         "orientation": "v",
         "showlegend": true,
         "type": "scatter",
         "x": [
          "TIE Advanced x1"
         ],
         "xaxis": "x",
         "y": [
          9.2
         ],
         "yaxis": "y"
        },
        {
         "hovertemplate": "consumables=6 years<br>name=%{x}<br>length=%{y}<extra></extra>",
         "legendgroup": "6 years",
         "marker": {
          "color": "#B6E880",
          "symbol": "circle"
         },
         "mode": "markers",
         "name": "6 years",
         "orientation": "v",
         "showlegend": true,
         "type": "scatter",
         "x": [
          "Executor"
         ],
         "xaxis": "x",
         "y": [
          19000
         ],
         "yaxis": "y"
        },
        {
         "hovertemplate": "consumables=6 months<br>name=%{x}<br>length=%{y}<extra></extra>",
         "legendgroup": "6 months",
         "marker": {
          "color": "#FF97FF",
          "symbol": "circle"
         },
         "mode": "markers",
         "name": "6 months",
         "orientation": "v",
         "showlegend": true,
         "type": "scatter",
         "x": [
          "Rebel transport"
         ],
         "xaxis": "x",
         "y": [
          90
         ],
         "yaxis": "y"
        },
        {
         "hovertemplate": "consumables=unknown<br>name=%{x}<br>length=%{y}<extra></extra>",
         "legendgroup": "unknown",
         "marker": {
          "color": "#FECB52",
          "symbol": "circle"
         },
         "mode": "markers",
         "name": "unknown",
         "orientation": "v",
         "showlegend": true,
         "type": "scatter",
         "x": [
          "Republic Cruiser",
          "Naboo Royal Starship",
          "AA-9 Coruscant freighter",
          "H-type Nubian yacht"
         ],
         "xaxis": "x",
         "y": [
          115,
          76,
          390,
          47.9
         ],
         "yaxis": "y"
        },
        {
         "hovertemplate": "consumables=500 days<br>name=%{x}<br>length=%{y}<extra></extra>",
         "legendgroup": "500 days",
         "marker": {
          "color": "#636efa",
          "symbol": "circle"
         },
         "mode": "markers",
         "name": "500 days",
         "orientation": "v",
         "showlegend": true,
         "type": "scatter",
         "x": [
          "Droid control ship"
         ],
         "xaxis": "x",
         "y": [
          3170
         ],
         "yaxis": "y"
        },
        {
         "hovertemplate": "consumables=7 days<br>name=%{x}<br>length=%{y}<extra></extra>",
         "legendgroup": "7 days",
         "marker": {
          "color": "#EF553B",
          "symbol": "circle"
         },
         "mode": "markers",
         "name": "7 days",
         "orientation": "v",
         "showlegend": true,
         "type": "scatter",
         "x": [
          "Naboo fighter",
          "Jedi starfighter",
          "Solar Sailer"
         ],
         "xaxis": "x",
         "y": [
          11,
          8,
          15.2
         ],
         "yaxis": "y"
        },
        {
         "hovertemplate": "consumables=30 days<br>name=%{x}<br>length=%{y}<extra></extra>",
         "legendgroup": "30 days",
         "marker": {
          "color": "#00cc96",
          "symbol": "circle"
         },
         "mode": "markers",
         "name": "30 days",
         "orientation": "v",
         "showlegend": true,
         "type": "scatter",
         "x": [
          "Scimitar"
         ],
         "xaxis": "x",
         "y": [
          26.5
         ],
         "yaxis": "y"
        },
        {
         "hovertemplate": "consumables=4 years<br>name=%{x}<br>length=%{y}<extra></extra>",
         "legendgroup": "4 years",
         "marker": {
          "color": "#ab63fa",
          "symbol": "circle"
         },
         "mode": "markers",
         "name": "4 years",
         "orientation": "v",
         "showlegend": true,
         "type": "scatter",
         "x": [
          "Trade Federation cruiser"
         ],
         "xaxis": "x",
         "y": [
          1088
         ],
         "yaxis": "y"
        },
        {
         "hovertemplate": "consumables=56 days<br>name=%{x}<br>length=%{y}<extra></extra>",
         "legendgroup": "56 days",
         "marker": {
          "color": "#FFA15A",
          "symbol": "circle"
         },
         "mode": "markers",
         "name": "56 days",
         "orientation": "v",
         "showlegend": true,
         "type": "scatter",
         "x": [
          "Theta-class T-2c shuttle"
         ],
         "xaxis": "x",
         "y": [
          18.5
         ],
         "yaxis": "y"
        }
       ],
       "layout": {
        "legend": {
         "title": {
          "text": "consumables"
         },
         "tracegroupgap": 0
        },
        "margin": {
         "t": 60
        },
        "template": {
         "data": {
          "bar": [
           {
            "error_x": {
             "color": "#2a3f5f"
            },
            "error_y": {
             "color": "#2a3f5f"
            },
            "marker": {
             "line": {
              "color": "#E5ECF6",
              "width": 0.5
             },
             "pattern": {
              "fillmode": "overlay",
              "size": 10,
              "solidity": 0.2
             }
            },
            "type": "bar"
           }
          ],
          "barpolar": [
           {
            "marker": {
             "line": {
              "color": "#E5ECF6",
              "width": 0.5
             },
             "pattern": {
              "fillmode": "overlay",
              "size": 10,
              "solidity": 0.2
             }
            },
            "type": "barpolar"
           }
          ],
          "carpet": [
           {
            "aaxis": {
             "endlinecolor": "#2a3f5f",
             "gridcolor": "white",
             "linecolor": "white",
             "minorgridcolor": "white",
             "startlinecolor": "#2a3f5f"
            },
            "baxis": {
             "endlinecolor": "#2a3f5f",
             "gridcolor": "white",
             "linecolor": "white",
             "minorgridcolor": "white",
             "startlinecolor": "#2a3f5f"
            },
            "type": "carpet"
           }
          ],
          "choropleth": [
           {
            "colorbar": {
             "outlinewidth": 0,
             "ticks": ""
            },
            "type": "choropleth"
           }
          ],
          "contour": [
           {
            "colorbar": {
             "outlinewidth": 0,
             "ticks": ""
            },
            "colorscale": [
             [
              0,
              "#0d0887"
             ],
             [
              0.1111111111111111,
              "#46039f"
             ],
             [
              0.2222222222222222,
              "#7201a8"
             ],
             [
              0.3333333333333333,
              "#9c179e"
             ],
             [
              0.4444444444444444,
              "#bd3786"
             ],
             [
              0.5555555555555556,
              "#d8576b"
             ],
             [
              0.6666666666666666,
              "#ed7953"
             ],
             [
              0.7777777777777778,
              "#fb9f3a"
             ],
             [
              0.8888888888888888,
              "#fdca26"
             ],
             [
              1,
              "#f0f921"
             ]
            ],
            "type": "contour"
           }
          ],
          "contourcarpet": [
           {
            "colorbar": {
             "outlinewidth": 0,
             "ticks": ""
            },
            "type": "contourcarpet"
           }
          ],
          "heatmap": [
           {
            "colorbar": {
             "outlinewidth": 0,
             "ticks": ""
            },
            "colorscale": [
             [
              0,
              "#0d0887"
             ],
             [
              0.1111111111111111,
              "#46039f"
             ],
             [
              0.2222222222222222,
              "#7201a8"
             ],
             [
              0.3333333333333333,
              "#9c179e"
             ],
             [
              0.4444444444444444,
              "#bd3786"
             ],
             [
              0.5555555555555556,
              "#d8576b"
             ],
             [
              0.6666666666666666,
              "#ed7953"
             ],
             [
              0.7777777777777778,
              "#fb9f3a"
             ],
             [
              0.8888888888888888,
              "#fdca26"
             ],
             [
              1,
              "#f0f921"
             ]
            ],
            "type": "heatmap"
           }
          ],
          "heatmapgl": [
           {
            "colorbar": {
             "outlinewidth": 0,
             "ticks": ""
            },
            "colorscale": [
             [
              0,
              "#0d0887"
             ],
             [
              0.1111111111111111,
              "#46039f"
             ],
             [
              0.2222222222222222,
              "#7201a8"
             ],
             [
              0.3333333333333333,
              "#9c179e"
             ],
             [
              0.4444444444444444,
              "#bd3786"
             ],
             [
              0.5555555555555556,
              "#d8576b"
             ],
             [
              0.6666666666666666,
              "#ed7953"
             ],
             [
              0.7777777777777778,
              "#fb9f3a"
             ],
             [
              0.8888888888888888,
              "#fdca26"
             ],
             [
              1,
              "#f0f921"
             ]
            ],
            "type": "heatmapgl"
           }
          ],
          "histogram": [
           {
            "marker": {
             "pattern": {
              "fillmode": "overlay",
              "size": 10,
              "solidity": 0.2
             }
            },
            "type": "histogram"
           }
          ],
          "histogram2d": [
           {
            "colorbar": {
             "outlinewidth": 0,
             "ticks": ""
            },
            "colorscale": [
             [
              0,
              "#0d0887"
             ],
             [
              0.1111111111111111,
              "#46039f"
             ],
             [
              0.2222222222222222,
              "#7201a8"
             ],
             [
              0.3333333333333333,
              "#9c179e"
             ],
             [
              0.4444444444444444,
              "#bd3786"
             ],
             [
              0.5555555555555556,
              "#d8576b"
             ],
             [
              0.6666666666666666,
              "#ed7953"
             ],
             [
              0.7777777777777778,
              "#fb9f3a"
             ],
             [
              0.8888888888888888,
              "#fdca26"
             ],
             [
              1,
              "#f0f921"
             ]
            ],
            "type": "histogram2d"
           }
          ],
          "histogram2dcontour": [
           {
            "colorbar": {
             "outlinewidth": 0,
             "ticks": ""
            },
            "colorscale": [
             [
              0,
              "#0d0887"
             ],
             [
              0.1111111111111111,
              "#46039f"
             ],
             [
              0.2222222222222222,
              "#7201a8"
             ],
             [
              0.3333333333333333,
              "#9c179e"
             ],
             [
              0.4444444444444444,
              "#bd3786"
             ],
             [
              0.5555555555555556,
              "#d8576b"
             ],
             [
              0.6666666666666666,
              "#ed7953"
             ],
             [
              0.7777777777777778,
              "#fb9f3a"
             ],
             [
              0.8888888888888888,
              "#fdca26"
             ],
             [
              1,
              "#f0f921"
             ]
            ],
            "type": "histogram2dcontour"
           }
          ],
          "mesh3d": [
           {
            "colorbar": {
             "outlinewidth": 0,
             "ticks": ""
            },
            "type": "mesh3d"
           }
          ],
          "parcoords": [
           {
            "line": {
             "colorbar": {
              "outlinewidth": 0,
              "ticks": ""
             }
            },
            "type": "parcoords"
           }
          ],
          "pie": [
           {
            "automargin": true,
            "type": "pie"
           }
          ],
          "scatter": [
           {
            "fillpattern": {
             "fillmode": "overlay",
             "size": 10,
             "solidity": 0.2
            },
            "type": "scatter"
           }
          ],
          "scatter3d": [
           {
            "line": {
             "colorbar": {
              "outlinewidth": 0,
              "ticks": ""
             }
            },
            "marker": {
             "colorbar": {
              "outlinewidth": 0,
              "ticks": ""
             }
            },
            "type": "scatter3d"
           }
          ],
          "scattercarpet": [
           {
            "marker": {
             "colorbar": {
              "outlinewidth": 0,
              "ticks": ""
             }
            },
            "type": "scattercarpet"
           }
          ],
          "scattergeo": [
           {
            "marker": {
             "colorbar": {
              "outlinewidth": 0,
              "ticks": ""
             }
            },
            "type": "scattergeo"
           }
          ],
          "scattergl": [
           {
            "marker": {
             "colorbar": {
              "outlinewidth": 0,
              "ticks": ""
             }
            },
            "type": "scattergl"
           }
          ],
          "scattermapbox": [
           {
            "marker": {
             "colorbar": {
              "outlinewidth": 0,
              "ticks": ""
             }
            },
            "type": "scattermapbox"
           }
          ],
          "scatterpolar": [
           {
            "marker": {
             "colorbar": {
              "outlinewidth": 0,
              "ticks": ""
             }
            },
            "type": "scatterpolar"
           }
          ],
          "scatterpolargl": [
           {
            "marker": {
             "colorbar": {
              "outlinewidth": 0,
              "ticks": ""
             }
            },
            "type": "scatterpolargl"
           }
          ],
          "scatterternary": [
           {
            "marker": {
             "colorbar": {
              "outlinewidth": 0,
              "ticks": ""
             }
            },
            "type": "scatterternary"
           }
          ],
          "surface": [
           {
            "colorbar": {
             "outlinewidth": 0,
             "ticks": ""
            },
            "colorscale": [
             [
              0,
              "#0d0887"
             ],
             [
              0.1111111111111111,
              "#46039f"
             ],
             [
              0.2222222222222222,
              "#7201a8"
             ],
             [
              0.3333333333333333,
              "#9c179e"
             ],
             [
              0.4444444444444444,
              "#bd3786"
             ],
             [
              0.5555555555555556,
              "#d8576b"
             ],
             [
              0.6666666666666666,
              "#ed7953"
             ],
             [
              0.7777777777777778,
              "#fb9f3a"
             ],
             [
              0.8888888888888888,
              "#fdca26"
             ],
             [
              1,
              "#f0f921"
             ]
            ],
            "type": "surface"
           }
          ],
          "table": [
           {
            "cells": {
             "fill": {
              "color": "#EBF0F8"
             },
             "line": {
              "color": "white"
             }
            },
            "header": {
             "fill": {
              "color": "#C8D4E3"
             },
             "line": {
              "color": "white"
             }
            },
            "type": "table"
           }
          ]
         },
         "layout": {
          "annotationdefaults": {
           "arrowcolor": "#2a3f5f",
           "arrowhead": 0,
           "arrowwidth": 1
          },
          "autotypenumbers": "strict",
          "coloraxis": {
           "colorbar": {
            "outlinewidth": 0,
            "ticks": ""
           }
          },
          "colorscale": {
           "diverging": [
            [
             0,
             "#8e0152"
            ],
            [
             0.1,
             "#c51b7d"
            ],
            [
             0.2,
             "#de77ae"
            ],
            [
             0.3,
             "#f1b6da"
            ],
            [
             0.4,
             "#fde0ef"
            ],
            [
             0.5,
             "#f7f7f7"
            ],
            [
             0.6,
             "#e6f5d0"
            ],
            [
             0.7,
             "#b8e186"
            ],
            [
             0.8,
             "#7fbc41"
            ],
            [
             0.9,
             "#4d9221"
            ],
            [
             1,
             "#276419"
            ]
           ],
           "sequential": [
            [
             0,
             "#0d0887"
            ],
            [
             0.1111111111111111,
             "#46039f"
            ],
            [
             0.2222222222222222,
             "#7201a8"
            ],
            [
             0.3333333333333333,
             "#9c179e"
            ],
            [
             0.4444444444444444,
             "#bd3786"
            ],
            [
             0.5555555555555556,
             "#d8576b"
            ],
            [
             0.6666666666666666,
             "#ed7953"
            ],
            [
             0.7777777777777778,
             "#fb9f3a"
            ],
            [
             0.8888888888888888,
             "#fdca26"
            ],
            [
             1,
             "#f0f921"
            ]
           ],
           "sequentialminus": [
            [
             0,
             "#0d0887"
            ],
            [
             0.1111111111111111,
             "#46039f"
            ],
            [
             0.2222222222222222,
             "#7201a8"
            ],
            [
             0.3333333333333333,
             "#9c179e"
            ],
            [
             0.4444444444444444,
             "#bd3786"
            ],
            [
             0.5555555555555556,
             "#d8576b"
            ],
            [
             0.6666666666666666,
             "#ed7953"
            ],
            [
             0.7777777777777778,
             "#fb9f3a"
            ],
            [
             0.8888888888888888,
             "#fdca26"
            ],
            [
             1,
             "#f0f921"
            ]
           ]
          },
          "colorway": [
           "#636efa",
           "#EF553B",
           "#00cc96",
           "#ab63fa",
           "#FFA15A",
           "#19d3f3",
           "#FF6692",
           "#B6E880",
           "#FF97FF",
           "#FECB52"
          ],
          "font": {
           "color": "#2a3f5f"
          },
          "geo": {
           "bgcolor": "white",
           "lakecolor": "white",
           "landcolor": "#E5ECF6",
           "showlakes": true,
           "showland": true,
           "subunitcolor": "white"
          },
          "hoverlabel": {
           "align": "left"
          },
          "hovermode": "closest",
          "mapbox": {
           "style": "light"
          },
          "paper_bgcolor": "white",
          "plot_bgcolor": "#E5ECF6",
          "polar": {
           "angularaxis": {
            "gridcolor": "white",
            "linecolor": "white",
            "ticks": ""
           },
           "bgcolor": "#E5ECF6",
           "radialaxis": {
            "gridcolor": "white",
            "linecolor": "white",
            "ticks": ""
           }
          },
          "scene": {
           "xaxis": {
            "backgroundcolor": "#E5ECF6",
            "gridcolor": "white",
            "gridwidth": 2,
            "linecolor": "white",
            "showbackground": true,
            "ticks": "",
            "zerolinecolor": "white"
           },
           "yaxis": {
            "backgroundcolor": "#E5ECF6",
            "gridcolor": "white",
            "gridwidth": 2,
            "linecolor": "white",
            "showbackground": true,
            "ticks": "",
            "zerolinecolor": "white"
           },
           "zaxis": {
            "backgroundcolor": "#E5ECF6",
            "gridcolor": "white",
            "gridwidth": 2,
            "linecolor": "white",
            "showbackground": true,
            "ticks": "",
            "zerolinecolor": "white"
           }
          },
          "shapedefaults": {
           "line": {
            "color": "#2a3f5f"
           }
          },
          "ternary": {
           "aaxis": {
            "gridcolor": "white",
            "linecolor": "white",
            "ticks": ""
           },
           "baxis": {
            "gridcolor": "white",
            "linecolor": "white",
            "ticks": ""
           },
           "bgcolor": "#E5ECF6",
           "caxis": {
            "gridcolor": "white",
            "linecolor": "white",
            "ticks": ""
           }
          },
          "title": {
           "x": 0.05
          },
          "xaxis": {
           "automargin": true,
           "gridcolor": "white",
           "linecolor": "white",
           "ticks": "",
           "title": {
            "standoff": 15
           },
           "zerolinecolor": "white",
           "zerolinewidth": 2
          },
          "yaxis": {
           "automargin": true,
           "gridcolor": "white",
           "linecolor": "white",
           "ticks": "",
           "title": {
            "standoff": 15
           },
           "zerolinecolor": "white",
           "zerolinewidth": 2
          }
         }
        },
        "xaxis": {
         "anchor": "y",
         "domain": [
          0,
          1
         ],
         "title": {
          "text": "name"
         }
        },
        "yaxis": {
         "anchor": "x",
         "domain": [
          0,
          1
         ],
         "title": {
          "text": "length"
         }
        }
       }
      }
     },
     "metadata": {},
     "output_type": "display_data"
    }
   ],
   "source": [
    "px.data\n",
    "df2.replace(',','', regex=True, inplace=True)\n",
    "df2['length'] = df2['length'].astype(float)\n",
    "fig = px.scatter(df2, x=\"name\", y=\"length\",color=\"consumables\")\n",
    "fig.show()\n",
    "#The one with highest length has highest consumnables which is Death star"
   ]
  }
 ],
 "metadata": {
  "kernelspec": {
   "display_name": "Python 3",
   "language": "python",
   "name": "python3"
  },
  "language_info": {
   "codemirror_mode": {
    "name": "ipython",
    "version": 3
   },
   "file_extension": ".py",
   "mimetype": "text/x-python",
   "name": "python",
   "nbconvert_exporter": "python",
   "pygments_lexer": "ipython3",
   "version": "3.10.11"
  },
  "orig_nbformat": 4
 },
 "nbformat": 4,
 "nbformat_minor": 2
}
