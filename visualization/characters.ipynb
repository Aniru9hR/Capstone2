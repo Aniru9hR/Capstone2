{
 "cells": [
  {
   "cell_type": "code",
   "execution_count": 2,
   "metadata": {},
   "outputs": [],
   "source": [
    "import seaborn as sns\n",
    "import pandas as pd\n",
    "import numpy as np\n",
    "import matplotlib.pyplot as plt\n",
    "import plotly.express as px"
   ]
  },
  {
   "cell_type": "code",
   "execution_count": 3,
   "metadata": {},
   "outputs": [
    {
     "data": {
      "text/html": [
       "<div>\n",
       "<style scoped>\n",
       "    .dataframe tbody tr th:only-of-type {\n",
       "        vertical-align: middle;\n",
       "    }\n",
       "\n",
       "    .dataframe tbody tr th {\n",
       "        vertical-align: top;\n",
       "    }\n",
       "\n",
       "    .dataframe thead th {\n",
       "        text-align: right;\n",
       "    }\n",
       "</style>\n",
       "<table border=\"1\" class=\"dataframe\">\n",
       "  <thead>\n",
       "    <tr style=\"text-align: right;\">\n",
       "      <th></th>\n",
       "      <th>name</th>\n",
       "      <th>height</th>\n",
       "      <th>mass</th>\n",
       "      <th>gender</th>\n",
       "      <th>hair_color</th>\n",
       "      <th>skin_color</th>\n",
       "      <th>homeworld</th>\n",
       "      <th>films</th>\n",
       "      <th>starships</th>\n",
       "    </tr>\n",
       "  </thead>\n",
       "  <tbody>\n",
       "    <tr>\n",
       "      <th>0</th>\n",
       "      <td>Luke Skywalker</td>\n",
       "      <td>172</td>\n",
       "      <td>77</td>\n",
       "      <td>male</td>\n",
       "      <td>blond</td>\n",
       "      <td>fair</td>\n",
       "      <td>Tatooine</td>\n",
       "      <td>['A New Hope']</td>\n",
       "      <td>['X-wing', 'Imperial shuttle']</td>\n",
       "    </tr>\n",
       "    <tr>\n",
       "      <th>1</th>\n",
       "      <td>C-3PO</td>\n",
       "      <td>167</td>\n",
       "      <td>75</td>\n",
       "      <td>NaN</td>\n",
       "      <td>NaN</td>\n",
       "      <td>gold</td>\n",
       "      <td>Tatooine</td>\n",
       "      <td>['A New Hope']</td>\n",
       "      <td>['X-wing', 'Imperial shuttle']</td>\n",
       "    </tr>\n",
       "    <tr>\n",
       "      <th>2</th>\n",
       "      <td>R2-D2</td>\n",
       "      <td>96</td>\n",
       "      <td>32</td>\n",
       "      <td>NaN</td>\n",
       "      <td>NaN</td>\n",
       "      <td>white, blue</td>\n",
       "      <td>Naboo</td>\n",
       "      <td>['A New Hope']</td>\n",
       "      <td>['X-wing', 'Imperial shuttle']</td>\n",
       "    </tr>\n",
       "    <tr>\n",
       "      <th>3</th>\n",
       "      <td>Darth Vader</td>\n",
       "      <td>202</td>\n",
       "      <td>136</td>\n",
       "      <td>male</td>\n",
       "      <td>NaN</td>\n",
       "      <td>white</td>\n",
       "      <td>Tatooine</td>\n",
       "      <td>['A New Hope']</td>\n",
       "      <td>['TIE Advanced x1']</td>\n",
       "    </tr>\n",
       "    <tr>\n",
       "      <th>4</th>\n",
       "      <td>Leia Organa</td>\n",
       "      <td>150</td>\n",
       "      <td>49</td>\n",
       "      <td>female</td>\n",
       "      <td>brown</td>\n",
       "      <td>light</td>\n",
       "      <td>Alderaan</td>\n",
       "      <td>['A New Hope']</td>\n",
       "      <td>['TIE Advanced x1']</td>\n",
       "    </tr>\n",
       "    <tr>\n",
       "      <th>...</th>\n",
       "      <td>...</td>\n",
       "      <td>...</td>\n",
       "      <td>...</td>\n",
       "      <td>...</td>\n",
       "      <td>...</td>\n",
       "      <td>...</td>\n",
       "      <td>...</td>\n",
       "      <td>...</td>\n",
       "      <td>...</td>\n",
       "    </tr>\n",
       "    <tr>\n",
       "      <th>77</th>\n",
       "      <td>Grievous</td>\n",
       "      <td>216</td>\n",
       "      <td>159</td>\n",
       "      <td>male</td>\n",
       "      <td>NaN</td>\n",
       "      <td>brown, white</td>\n",
       "      <td>Kalee</td>\n",
       "      <td>['Revenge of the Sith']</td>\n",
       "      <td>['Belbullab-22 starfighter']</td>\n",
       "    </tr>\n",
       "    <tr>\n",
       "      <th>78</th>\n",
       "      <td>Tarfful</td>\n",
       "      <td>234</td>\n",
       "      <td>136</td>\n",
       "      <td>male</td>\n",
       "      <td>brown</td>\n",
       "      <td>brown</td>\n",
       "      <td>Kashyyyk</td>\n",
       "      <td>['Revenge of the Sith']</td>\n",
       "      <td>['Belbullab-22 starfighter']</td>\n",
       "    </tr>\n",
       "    <tr>\n",
       "      <th>79</th>\n",
       "      <td>Raymus Antilles</td>\n",
       "      <td>188</td>\n",
       "      <td>79</td>\n",
       "      <td>male</td>\n",
       "      <td>brown</td>\n",
       "      <td>light</td>\n",
       "      <td>Alderaan</td>\n",
       "      <td>['A New Hope']</td>\n",
       "      <td>['Belbullab-22 starfighter']</td>\n",
       "    </tr>\n",
       "    <tr>\n",
       "      <th>80</th>\n",
       "      <td>Sly Moore</td>\n",
       "      <td>178</td>\n",
       "      <td>48</td>\n",
       "      <td>female</td>\n",
       "      <td>NaN</td>\n",
       "      <td>pale</td>\n",
       "      <td>Umbara</td>\n",
       "      <td>['Attack of the Clones']</td>\n",
       "      <td>['Belbullab-22 starfighter']</td>\n",
       "    </tr>\n",
       "    <tr>\n",
       "      <th>81</th>\n",
       "      <td>Tion Medon</td>\n",
       "      <td>206</td>\n",
       "      <td>80</td>\n",
       "      <td>male</td>\n",
       "      <td>NaN</td>\n",
       "      <td>grey</td>\n",
       "      <td>Utapau</td>\n",
       "      <td>['Revenge of the Sith']</td>\n",
       "      <td>['Belbullab-22 starfighter']</td>\n",
       "    </tr>\n",
       "  </tbody>\n",
       "</table>\n",
       "<p>82 rows × 9 columns</p>\n",
       "</div>"
      ],
      "text/plain": [
       "               name height mass  gender hair_color    skin_color homeworld  \\\n",
       "0    Luke Skywalker    172   77    male      blond          fair  Tatooine   \n",
       "1             C-3PO    167   75     NaN        NaN          gold  Tatooine   \n",
       "2             R2-D2     96   32     NaN        NaN   white, blue     Naboo   \n",
       "3       Darth Vader    202  136    male        NaN         white  Tatooine   \n",
       "4       Leia Organa    150   49  female      brown         light  Alderaan   \n",
       "..              ...    ...  ...     ...        ...           ...       ...   \n",
       "77         Grievous    216  159    male        NaN  brown, white     Kalee   \n",
       "78          Tarfful    234  136    male      brown         brown  Kashyyyk   \n",
       "79  Raymus Antilles    188   79    male      brown         light  Alderaan   \n",
       "80        Sly Moore    178   48  female        NaN          pale    Umbara   \n",
       "81       Tion Medon    206   80    male        NaN          grey    Utapau   \n",
       "\n",
       "                       films                       starships  \n",
       "0             ['A New Hope']  ['X-wing', 'Imperial shuttle']  \n",
       "1             ['A New Hope']  ['X-wing', 'Imperial shuttle']  \n",
       "2             ['A New Hope']  ['X-wing', 'Imperial shuttle']  \n",
       "3             ['A New Hope']             ['TIE Advanced x1']  \n",
       "4             ['A New Hope']             ['TIE Advanced x1']  \n",
       "..                       ...                             ...  \n",
       "77   ['Revenge of the Sith']    ['Belbullab-22 starfighter']  \n",
       "78   ['Revenge of the Sith']    ['Belbullab-22 starfighter']  \n",
       "79            ['A New Hope']    ['Belbullab-22 starfighter']  \n",
       "80  ['Attack of the Clones']    ['Belbullab-22 starfighter']  \n",
       "81   ['Revenge of the Sith']    ['Belbullab-22 starfighter']  \n",
       "\n",
       "[82 rows x 9 columns]"
      ]
     },
     "metadata": {},
     "output_type": "display_data"
    }
   ],
   "source": [
    "df = pd.read_csv(r'C:\\Users\\aniru\\OneDrive\\Documents\\codingtemple\\week8\\capstone2\\src\\data\\character_data.csv')\n",
    "display(df)\n"
   ]
  },
  {
   "cell_type": "code",
   "execution_count": 4,
   "metadata": {},
   "outputs": [
    {
     "data": {
      "text/plain": [
       "name           0\n",
       "height         0\n",
       "mass           0\n",
       "gender         4\n",
       "hair_color    41\n",
       "skin_color     0\n",
       "homeworld      0\n",
       "films          0\n",
       "starships      0\n",
       "dtype: int64"
      ]
     },
     "execution_count": 4,
     "metadata": {},
     "output_type": "execute_result"
    }
   ],
   "source": [
    "df.isnull().sum()"
   ]
  },
  {
   "cell_type": "code",
   "execution_count": 5,
   "metadata": {},
   "outputs": [],
   "source": [
    "df = df.replace(np.nan, None)"
   ]
  },
  {
   "cell_type": "code",
   "execution_count": 20,
   "metadata": {},
   "outputs": [
    {
     "data": {
      "text/html": [
       "<div>\n",
       "<style scoped>\n",
       "    .dataframe tbody tr th:only-of-type {\n",
       "        vertical-align: middle;\n",
       "    }\n",
       "\n",
       "    .dataframe tbody tr th {\n",
       "        vertical-align: top;\n",
       "    }\n",
       "\n",
       "    .dataframe thead th {\n",
       "        text-align: right;\n",
       "    }\n",
       "</style>\n",
       "<table border=\"1\" class=\"dataframe\">\n",
       "  <thead>\n",
       "    <tr style=\"text-align: right;\">\n",
       "      <th></th>\n",
       "      <th>name</th>\n",
       "      <th>height</th>\n",
       "      <th>mass</th>\n",
       "      <th>gender</th>\n",
       "      <th>hair_color</th>\n",
       "      <th>skin_color</th>\n",
       "      <th>homeworld</th>\n",
       "      <th>films</th>\n",
       "      <th>starships</th>\n",
       "      <th>films_count</th>\n",
       "    </tr>\n",
       "  </thead>\n",
       "  <tbody>\n",
       "    <tr>\n",
       "      <th>0</th>\n",
       "      <td>Luke Skywalker</td>\n",
       "      <td>172</td>\n",
       "      <td>77</td>\n",
       "      <td>male</td>\n",
       "      <td>blond</td>\n",
       "      <td>fair</td>\n",
       "      <td>Tatooine</td>\n",
       "      <td>['A New Hope']</td>\n",
       "      <td>['X-wing', 'Imperial shuttle']</td>\n",
       "      <td>14</td>\n",
       "    </tr>\n",
       "    <tr>\n",
       "      <th>1</th>\n",
       "      <td>C-3PO</td>\n",
       "      <td>167</td>\n",
       "      <td>75</td>\n",
       "      <td>None</td>\n",
       "      <td>None</td>\n",
       "      <td>gold</td>\n",
       "      <td>Tatooine</td>\n",
       "      <td>['A New Hope']</td>\n",
       "      <td>['X-wing', 'Imperial shuttle']</td>\n",
       "      <td>14</td>\n",
       "    </tr>\n",
       "    <tr>\n",
       "      <th>2</th>\n",
       "      <td>R2-D2</td>\n",
       "      <td>96</td>\n",
       "      <td>32</td>\n",
       "      <td>None</td>\n",
       "      <td>None</td>\n",
       "      <td>white, blue</td>\n",
       "      <td>Naboo</td>\n",
       "      <td>['A New Hope']</td>\n",
       "      <td>['X-wing', 'Imperial shuttle']</td>\n",
       "      <td>14</td>\n",
       "    </tr>\n",
       "    <tr>\n",
       "      <th>3</th>\n",
       "      <td>Darth Vader</td>\n",
       "      <td>202</td>\n",
       "      <td>136</td>\n",
       "      <td>male</td>\n",
       "      <td>None</td>\n",
       "      <td>white</td>\n",
       "      <td>Tatooine</td>\n",
       "      <td>['A New Hope']</td>\n",
       "      <td>['TIE Advanced x1']</td>\n",
       "      <td>14</td>\n",
       "    </tr>\n",
       "    <tr>\n",
       "      <th>4</th>\n",
       "      <td>Leia Organa</td>\n",
       "      <td>150</td>\n",
       "      <td>49</td>\n",
       "      <td>female</td>\n",
       "      <td>brown</td>\n",
       "      <td>light</td>\n",
       "      <td>Alderaan</td>\n",
       "      <td>['A New Hope']</td>\n",
       "      <td>['TIE Advanced x1']</td>\n",
       "      <td>14</td>\n",
       "    </tr>\n",
       "    <tr>\n",
       "      <th>...</th>\n",
       "      <td>...</td>\n",
       "      <td>...</td>\n",
       "      <td>...</td>\n",
       "      <td>...</td>\n",
       "      <td>...</td>\n",
       "      <td>...</td>\n",
       "      <td>...</td>\n",
       "      <td>...</td>\n",
       "      <td>...</td>\n",
       "      <td>...</td>\n",
       "    </tr>\n",
       "    <tr>\n",
       "      <th>77</th>\n",
       "      <td>Grievous</td>\n",
       "      <td>216</td>\n",
       "      <td>159</td>\n",
       "      <td>male</td>\n",
       "      <td>None</td>\n",
       "      <td>brown, white</td>\n",
       "      <td>Kalee</td>\n",
       "      <td>['Revenge of the Sith']</td>\n",
       "      <td>['Belbullab-22 starfighter']</td>\n",
       "      <td>23</td>\n",
       "    </tr>\n",
       "    <tr>\n",
       "      <th>78</th>\n",
       "      <td>Tarfful</td>\n",
       "      <td>234</td>\n",
       "      <td>136</td>\n",
       "      <td>male</td>\n",
       "      <td>brown</td>\n",
       "      <td>brown</td>\n",
       "      <td>Kashyyyk</td>\n",
       "      <td>['Revenge of the Sith']</td>\n",
       "      <td>['Belbullab-22 starfighter']</td>\n",
       "      <td>23</td>\n",
       "    </tr>\n",
       "    <tr>\n",
       "      <th>79</th>\n",
       "      <td>Raymus Antilles</td>\n",
       "      <td>188</td>\n",
       "      <td>79</td>\n",
       "      <td>male</td>\n",
       "      <td>brown</td>\n",
       "      <td>light</td>\n",
       "      <td>Alderaan</td>\n",
       "      <td>['A New Hope']</td>\n",
       "      <td>['Belbullab-22 starfighter']</td>\n",
       "      <td>14</td>\n",
       "    </tr>\n",
       "    <tr>\n",
       "      <th>80</th>\n",
       "      <td>Sly Moore</td>\n",
       "      <td>178</td>\n",
       "      <td>48</td>\n",
       "      <td>female</td>\n",
       "      <td>None</td>\n",
       "      <td>pale</td>\n",
       "      <td>Umbara</td>\n",
       "      <td>['Attack of the Clones']</td>\n",
       "      <td>['Belbullab-22 starfighter']</td>\n",
       "      <td>24</td>\n",
       "    </tr>\n",
       "    <tr>\n",
       "      <th>81</th>\n",
       "      <td>Tion Medon</td>\n",
       "      <td>206</td>\n",
       "      <td>80</td>\n",
       "      <td>male</td>\n",
       "      <td>None</td>\n",
       "      <td>grey</td>\n",
       "      <td>Utapau</td>\n",
       "      <td>['Revenge of the Sith']</td>\n",
       "      <td>['Belbullab-22 starfighter']</td>\n",
       "      <td>23</td>\n",
       "    </tr>\n",
       "  </tbody>\n",
       "</table>\n",
       "<p>82 rows × 10 columns</p>\n",
       "</div>"
      ],
      "text/plain": [
       "               name height mass  gender hair_color    skin_color homeworld  \\\n",
       "0    Luke Skywalker    172   77    male      blond          fair  Tatooine   \n",
       "1             C-3PO    167   75    None       None          gold  Tatooine   \n",
       "2             R2-D2     96   32    None       None   white, blue     Naboo   \n",
       "3       Darth Vader    202  136    male       None         white  Tatooine   \n",
       "4       Leia Organa    150   49  female      brown         light  Alderaan   \n",
       "..              ...    ...  ...     ...        ...           ...       ...   \n",
       "77         Grievous    216  159    male       None  brown, white     Kalee   \n",
       "78          Tarfful    234  136    male      brown         brown  Kashyyyk   \n",
       "79  Raymus Antilles    188   79    male      brown         light  Alderaan   \n",
       "80        Sly Moore    178   48  female       None          pale    Umbara   \n",
       "81       Tion Medon    206   80    male       None          grey    Utapau   \n",
       "\n",
       "                       films                       starships  films_count  \n",
       "0             ['A New Hope']  ['X-wing', 'Imperial shuttle']           14  \n",
       "1             ['A New Hope']  ['X-wing', 'Imperial shuttle']           14  \n",
       "2             ['A New Hope']  ['X-wing', 'Imperial shuttle']           14  \n",
       "3             ['A New Hope']             ['TIE Advanced x1']           14  \n",
       "4             ['A New Hope']             ['TIE Advanced x1']           14  \n",
       "..                       ...                             ...          ...  \n",
       "77   ['Revenge of the Sith']    ['Belbullab-22 starfighter']           23  \n",
       "78   ['Revenge of the Sith']    ['Belbullab-22 starfighter']           23  \n",
       "79            ['A New Hope']    ['Belbullab-22 starfighter']           14  \n",
       "80  ['Attack of the Clones']    ['Belbullab-22 starfighter']           24  \n",
       "81   ['Revenge of the Sith']    ['Belbullab-22 starfighter']           23  \n",
       "\n",
       "[82 rows x 10 columns]"
      ]
     },
     "execution_count": 20,
     "metadata": {},
     "output_type": "execute_result"
    }
   ],
   "source": [
    "df"
   ]
  },
  {
   "cell_type": "code",
   "execution_count": 7,
   "metadata": {},
   "outputs": [],
   "source": [
    "df= df.replace('none','None')"
   ]
  },
  {
   "cell_type": "code",
   "execution_count": 8,
   "metadata": {},
   "outputs": [
    {
     "data": {
      "text/html": [
       "<div>\n",
       "<style scoped>\n",
       "    .dataframe tbody tr th:only-of-type {\n",
       "        vertical-align: middle;\n",
       "    }\n",
       "\n",
       "    .dataframe tbody tr th {\n",
       "        vertical-align: top;\n",
       "    }\n",
       "\n",
       "    .dataframe thead th {\n",
       "        text-align: right;\n",
       "    }\n",
       "</style>\n",
       "<table border=\"1\" class=\"dataframe\">\n",
       "  <thead>\n",
       "    <tr style=\"text-align: right;\">\n",
       "      <th></th>\n",
       "      <th>name</th>\n",
       "      <th>height</th>\n",
       "      <th>mass</th>\n",
       "      <th>gender</th>\n",
       "      <th>hair_color</th>\n",
       "      <th>skin_color</th>\n",
       "      <th>homeworld</th>\n",
       "      <th>films</th>\n",
       "      <th>starships</th>\n",
       "    </tr>\n",
       "  </thead>\n",
       "  <tbody>\n",
       "    <tr>\n",
       "      <th>0</th>\n",
       "      <td>Luke Skywalker</td>\n",
       "      <td>172</td>\n",
       "      <td>77</td>\n",
       "      <td>male</td>\n",
       "      <td>blond</td>\n",
       "      <td>fair</td>\n",
       "      <td>Tatooine</td>\n",
       "      <td>['A New Hope']</td>\n",
       "      <td>['X-wing', 'Imperial shuttle']</td>\n",
       "    </tr>\n",
       "    <tr>\n",
       "      <th>1</th>\n",
       "      <td>C-3PO</td>\n",
       "      <td>167</td>\n",
       "      <td>75</td>\n",
       "      <td>None</td>\n",
       "      <td>None</td>\n",
       "      <td>gold</td>\n",
       "      <td>Tatooine</td>\n",
       "      <td>['A New Hope']</td>\n",
       "      <td>['X-wing', 'Imperial shuttle']</td>\n",
       "    </tr>\n",
       "    <tr>\n",
       "      <th>2</th>\n",
       "      <td>R2-D2</td>\n",
       "      <td>96</td>\n",
       "      <td>32</td>\n",
       "      <td>None</td>\n",
       "      <td>None</td>\n",
       "      <td>white, blue</td>\n",
       "      <td>Naboo</td>\n",
       "      <td>['A New Hope']</td>\n",
       "      <td>['X-wing', 'Imperial shuttle']</td>\n",
       "    </tr>\n",
       "    <tr>\n",
       "      <th>3</th>\n",
       "      <td>Darth Vader</td>\n",
       "      <td>202</td>\n",
       "      <td>136</td>\n",
       "      <td>male</td>\n",
       "      <td>None</td>\n",
       "      <td>white</td>\n",
       "      <td>Tatooine</td>\n",
       "      <td>['A New Hope']</td>\n",
       "      <td>['TIE Advanced x1']</td>\n",
       "    </tr>\n",
       "    <tr>\n",
       "      <th>4</th>\n",
       "      <td>Leia Organa</td>\n",
       "      <td>150</td>\n",
       "      <td>49</td>\n",
       "      <td>female</td>\n",
       "      <td>brown</td>\n",
       "      <td>light</td>\n",
       "      <td>Alderaan</td>\n",
       "      <td>['A New Hope']</td>\n",
       "      <td>['TIE Advanced x1']</td>\n",
       "    </tr>\n",
       "    <tr>\n",
       "      <th>...</th>\n",
       "      <td>...</td>\n",
       "      <td>...</td>\n",
       "      <td>...</td>\n",
       "      <td>...</td>\n",
       "      <td>...</td>\n",
       "      <td>...</td>\n",
       "      <td>...</td>\n",
       "      <td>...</td>\n",
       "      <td>...</td>\n",
       "    </tr>\n",
       "    <tr>\n",
       "      <th>77</th>\n",
       "      <td>Grievous</td>\n",
       "      <td>216</td>\n",
       "      <td>159</td>\n",
       "      <td>male</td>\n",
       "      <td>None</td>\n",
       "      <td>brown, white</td>\n",
       "      <td>Kalee</td>\n",
       "      <td>['Revenge of the Sith']</td>\n",
       "      <td>['Belbullab-22 starfighter']</td>\n",
       "    </tr>\n",
       "    <tr>\n",
       "      <th>78</th>\n",
       "      <td>Tarfful</td>\n",
       "      <td>234</td>\n",
       "      <td>136</td>\n",
       "      <td>male</td>\n",
       "      <td>brown</td>\n",
       "      <td>brown</td>\n",
       "      <td>Kashyyyk</td>\n",
       "      <td>['Revenge of the Sith']</td>\n",
       "      <td>['Belbullab-22 starfighter']</td>\n",
       "    </tr>\n",
       "    <tr>\n",
       "      <th>79</th>\n",
       "      <td>Raymus Antilles</td>\n",
       "      <td>188</td>\n",
       "      <td>79</td>\n",
       "      <td>male</td>\n",
       "      <td>brown</td>\n",
       "      <td>light</td>\n",
       "      <td>Alderaan</td>\n",
       "      <td>['A New Hope']</td>\n",
       "      <td>['Belbullab-22 starfighter']</td>\n",
       "    </tr>\n",
       "    <tr>\n",
       "      <th>80</th>\n",
       "      <td>Sly Moore</td>\n",
       "      <td>178</td>\n",
       "      <td>48</td>\n",
       "      <td>female</td>\n",
       "      <td>None</td>\n",
       "      <td>pale</td>\n",
       "      <td>Umbara</td>\n",
       "      <td>['Attack of the Clones']</td>\n",
       "      <td>['Belbullab-22 starfighter']</td>\n",
       "    </tr>\n",
       "    <tr>\n",
       "      <th>81</th>\n",
       "      <td>Tion Medon</td>\n",
       "      <td>206</td>\n",
       "      <td>80</td>\n",
       "      <td>male</td>\n",
       "      <td>None</td>\n",
       "      <td>grey</td>\n",
       "      <td>Utapau</td>\n",
       "      <td>['Revenge of the Sith']</td>\n",
       "      <td>['Belbullab-22 starfighter']</td>\n",
       "    </tr>\n",
       "  </tbody>\n",
       "</table>\n",
       "<p>82 rows × 9 columns</p>\n",
       "</div>"
      ],
      "text/plain": [
       "               name height mass  gender hair_color    skin_color homeworld  \\\n",
       "0    Luke Skywalker    172   77    male      blond          fair  Tatooine   \n",
       "1             C-3PO    167   75    None       None          gold  Tatooine   \n",
       "2             R2-D2     96   32    None       None   white, blue     Naboo   \n",
       "3       Darth Vader    202  136    male       None         white  Tatooine   \n",
       "4       Leia Organa    150   49  female      brown         light  Alderaan   \n",
       "..              ...    ...  ...     ...        ...           ...       ...   \n",
       "77         Grievous    216  159    male       None  brown, white     Kalee   \n",
       "78          Tarfful    234  136    male      brown         brown  Kashyyyk   \n",
       "79  Raymus Antilles    188   79    male      brown         light  Alderaan   \n",
       "80        Sly Moore    178   48  female       None          pale    Umbara   \n",
       "81       Tion Medon    206   80    male       None          grey    Utapau   \n",
       "\n",
       "                       films                       starships  \n",
       "0             ['A New Hope']  ['X-wing', 'Imperial shuttle']  \n",
       "1             ['A New Hope']  ['X-wing', 'Imperial shuttle']  \n",
       "2             ['A New Hope']  ['X-wing', 'Imperial shuttle']  \n",
       "3             ['A New Hope']             ['TIE Advanced x1']  \n",
       "4             ['A New Hope']             ['TIE Advanced x1']  \n",
       "..                       ...                             ...  \n",
       "77   ['Revenge of the Sith']    ['Belbullab-22 starfighter']  \n",
       "78   ['Revenge of the Sith']    ['Belbullab-22 starfighter']  \n",
       "79            ['A New Hope']    ['Belbullab-22 starfighter']  \n",
       "80  ['Attack of the Clones']    ['Belbullab-22 starfighter']  \n",
       "81   ['Revenge of the Sith']    ['Belbullab-22 starfighter']  \n",
       "\n",
       "[82 rows x 9 columns]"
      ]
     },
     "execution_count": 8,
     "metadata": {},
     "output_type": "execute_result"
    }
   ],
   "source": [
    "df"
   ]
  },
  {
   "cell_type": "code",
   "execution_count": 9,
   "metadata": {},
   "outputs": [
    {
     "data": {
      "text/plain": [
       "count      82\n",
       "unique     46\n",
       "top       183\n",
       "freq        7\n",
       "Name: height, dtype: object"
      ]
     },
     "metadata": {},
     "output_type": "display_data"
    }
   ],
   "source": [
    "display(df['height'].describe())"
   ]
  },
  {
   "cell_type": "code",
   "execution_count": 10,
   "metadata": {},
   "outputs": [
    {
     "data": {
      "text/plain": [
       "count          82\n",
       "unique         39\n",
       "top       unknown\n",
       "freq           23\n",
       "Name: mass, dtype: object"
      ]
     },
     "metadata": {},
     "output_type": "display_data"
    }
   ],
   "source": [
    "display(df['mass'].describe())"
   ]
  },
  {
   "cell_type": "code",
   "execution_count": 11,
   "metadata": {},
   "outputs": [
    {
     "data": {
      "text/plain": [
       "name          82\n",
       "height        46\n",
       "mass          39\n",
       "gender         3\n",
       "hair_color    10\n",
       "skin_color    30\n",
       "homeworld     49\n",
       "films          6\n",
       "starships     15\n",
       "dtype: int64"
      ]
     },
     "execution_count": 11,
     "metadata": {},
     "output_type": "execute_result"
    }
   ],
   "source": [
    "df.nunique()"
   ]
  },
  {
   "cell_type": "code",
   "execution_count": 17,
   "metadata": {},
   "outputs": [
    {
     "data": {
      "application/vnd.plotly.v1+json": {
       "config": {
        "plotlyServerURL": "https://plot.ly"
       },
       "data": [
        {
         "hovertemplate": "gender=male<br>name=%{x}<br>homeworld=%{y}<extra></extra>",
         "legendgroup": "male",
         "marker": {
          "color": "#636efa",
          "symbol": "circle"
         },
         "mode": "markers",
         "name": "male",
         "orientation": "v",
         "showlegend": true,
         "type": "scatter",
         "x": [
          "Luke Skywalker",
          "Darth Vader",
          "Owen Lars",
          "Biggs Darklighter",
          "Obi-Wan Kenobi",
          "Anakin Skywalker",
          "Wilhuff Tarkin",
          "Chewbacca",
          "Han Solo",
          "Greedo",
          "Wedge Antilles",
          "Jek Tono Porkins",
          "Yoda",
          "Palpatine",
          "Boba Fett",
          "Bossk",
          "Lando Calrissian",
          "Lobot",
          "Ackbar",
          "Arvel Crynyd",
          "Wicket Systri Warrick",
          "Nien Nunb",
          "Qui-Gon Jinn",
          "Nute Gunray",
          "Finis Valorum",
          "Jar Jar Binks",
          "Roos Tarpals",
          "Rugor Nass",
          "Ric Olié",
          "Watto",
          "Sebulba",
          "Quarsh Panaka",
          "Darth Maul",
          "Bib Fortuna",
          "Ratts Tyerel",
          "Dud Bolt",
          "Gasgano",
          "Ben Quadinaros",
          "Mace Windu",
          "Ki-Adi-Mundi",
          "Kit Fisto",
          "Eeth Koth",
          "Saesee Tiin",
          "Yarael Poof",
          "Plo Koon",
          "Mas Amedda",
          "Gregar Typho",
          "Cliegg Lars",
          "Poggle the Lesser",
          "Dooku",
          "Bail Prestor Organa",
          "Jango Fett",
          "Dexter Jettster",
          "Lama Su",
          "Wat Tambor",
          "San Hill",
          "Grievous",
          "Tarfful",
          "Raymus Antilles",
          "Tion Medon"
         ],
         "xaxis": "x",
         "y": [
          "Tatooine",
          "Tatooine",
          "Tatooine",
          "Tatooine",
          "Stewjon",
          "Tatooine",
          "Eriadu",
          "Kashyyyk",
          "Corellia",
          "Rodia",
          "Corellia",
          "Bestine IV",
          "unknown",
          "Naboo",
          "Kamino",
          "Trandosha",
          "Socorro",
          "Bespin",
          "Mon Cala",
          "unknown",
          "Endor",
          "Sullust",
          "unknown",
          "Cato Neimoidia",
          "Coruscant",
          "Naboo",
          "Naboo",
          "Naboo",
          "Naboo",
          "Toydaria",
          "Malastare",
          "Naboo",
          "Dathomir",
          "Ryloth",
          "Aleen Minor",
          "Vulpter",
          "Troiken",
          "Tund",
          "Haruun Kal",
          "Cerea",
          "Glee Anselm",
          "Iridonia",
          "Iktotch",
          "Quermia",
          "Dorin",
          "Champala",
          "Naboo",
          "Tatooine",
          "Geonosis",
          "Serenno",
          "Alderaan",
          "Concord Dawn",
          "Ojom",
          "Kamino",
          "Skako",
          "Muunilinst",
          "Kalee",
          "Kashyyyk",
          "Alderaan",
          "Utapau"
         ],
         "yaxis": "y"
        },
        {
         "hovertemplate": "gender=female<br>name=%{x}<br>homeworld=%{y}<extra></extra>",
         "legendgroup": "female",
         "marker": {
          "color": "#00cc96",
          "symbol": "circle"
         },
         "mode": "markers",
         "name": "female",
         "orientation": "v",
         "showlegend": true,
         "type": "scatter",
         "x": [
          "Leia Organa",
          "Beru Whitesun lars",
          "Mon Mothma",
          "Padmé Amidala",
          "Shmi Skywalker",
          "Ayla Secura",
          "Adi Gallia",
          "Cordé",
          "Luminara Unduli",
          "Barriss Offee",
          "Dormé",
          "Zam Wesell",
          "Taun We",
          "Jocasta Nu",
          "R4-P17",
          "Shaak Ti",
          "Sly Moore"
         ],
         "xaxis": "x",
         "y": [
          "Alderaan",
          "Tatooine",
          "Chandrila",
          "Naboo",
          "Tatooine",
          "Ryloth",
          "Coruscant",
          "Naboo",
          "Mirial",
          "Mirial",
          "Naboo",
          "Zolan",
          "Kamino",
          "Coruscant",
          "unknown",
          "Shili",
          "Umbara"
         ],
         "yaxis": "y"
        },
        {
         "hovertemplate": "gender=hermaphrodite<br>name=%{x}<br>homeworld=%{y}<extra></extra>",
         "legendgroup": "hermaphrodite",
         "marker": {
          "color": "#ab63fa",
          "symbol": "circle"
         },
         "mode": "markers",
         "name": "hermaphrodite",
         "orientation": "v",
         "showlegend": true,
         "type": "scatter",
         "x": [
          "Jabba Desilijic Tiure"
         ],
         "xaxis": "x",
         "y": [
          "Nal Hutta"
         ],
         "yaxis": "y"
        }
       ],
       "layout": {
        "legend": {
         "title": {
          "text": "gender"
         },
         "tracegroupgap": 0
        },
        "margin": {
         "t": 60
        },
        "template": {
         "data": {
          "bar": [
           {
            "error_x": {
             "color": "#2a3f5f"
            },
            "error_y": {
             "color": "#2a3f5f"
            },
            "marker": {
             "line": {
              "color": "#E5ECF6",
              "width": 0.5
             },
             "pattern": {
              "fillmode": "overlay",
              "size": 10,
              "solidity": 0.2
             }
            },
            "type": "bar"
           }
          ],
          "barpolar": [
           {
            "marker": {
             "line": {
              "color": "#E5ECF6",
              "width": 0.5
             },
             "pattern": {
              "fillmode": "overlay",
              "size": 10,
              "solidity": 0.2
             }
            },
            "type": "barpolar"
           }
          ],
          "carpet": [
           {
            "aaxis": {
             "endlinecolor": "#2a3f5f",
             "gridcolor": "white",
             "linecolor": "white",
             "minorgridcolor": "white",
             "startlinecolor": "#2a3f5f"
            },
            "baxis": {
             "endlinecolor": "#2a3f5f",
             "gridcolor": "white",
             "linecolor": "white",
             "minorgridcolor": "white",
             "startlinecolor": "#2a3f5f"
            },
            "type": "carpet"
           }
          ],
          "choropleth": [
           {
            "colorbar": {
             "outlinewidth": 0,
             "ticks": ""
            },
            "type": "choropleth"
           }
          ],
          "contour": [
           {
            "colorbar": {
             "outlinewidth": 0,
             "ticks": ""
            },
            "colorscale": [
             [
              0,
              "#0d0887"
             ],
             [
              0.1111111111111111,
              "#46039f"
             ],
             [
              0.2222222222222222,
              "#7201a8"
             ],
             [
              0.3333333333333333,
              "#9c179e"
             ],
             [
              0.4444444444444444,
              "#bd3786"
             ],
             [
              0.5555555555555556,
              "#d8576b"
             ],
             [
              0.6666666666666666,
              "#ed7953"
             ],
             [
              0.7777777777777778,
              "#fb9f3a"
             ],
             [
              0.8888888888888888,
              "#fdca26"
             ],
             [
              1,
              "#f0f921"
             ]
            ],
            "type": "contour"
           }
          ],
          "contourcarpet": [
           {
            "colorbar": {
             "outlinewidth": 0,
             "ticks": ""
            },
            "type": "contourcarpet"
           }
          ],
          "heatmap": [
           {
            "colorbar": {
             "outlinewidth": 0,
             "ticks": ""
            },
            "colorscale": [
             [
              0,
              "#0d0887"
             ],
             [
              0.1111111111111111,
              "#46039f"
             ],
             [
              0.2222222222222222,
              "#7201a8"
             ],
             [
              0.3333333333333333,
              "#9c179e"
             ],
             [
              0.4444444444444444,
              "#bd3786"
             ],
             [
              0.5555555555555556,
              "#d8576b"
             ],
             [
              0.6666666666666666,
              "#ed7953"
             ],
             [
              0.7777777777777778,
              "#fb9f3a"
             ],
             [
              0.8888888888888888,
              "#fdca26"
             ],
             [
              1,
              "#f0f921"
             ]
            ],
            "type": "heatmap"
           }
          ],
          "heatmapgl": [
           {
            "colorbar": {
             "outlinewidth": 0,
             "ticks": ""
            },
            "colorscale": [
             [
              0,
              "#0d0887"
             ],
             [
              0.1111111111111111,
              "#46039f"
             ],
             [
              0.2222222222222222,
              "#7201a8"
             ],
             [
              0.3333333333333333,
              "#9c179e"
             ],
             [
              0.4444444444444444,
              "#bd3786"
             ],
             [
              0.5555555555555556,
              "#d8576b"
             ],
             [
              0.6666666666666666,
              "#ed7953"
             ],
             [
              0.7777777777777778,
              "#fb9f3a"
             ],
             [
              0.8888888888888888,
              "#fdca26"
             ],
             [
              1,
              "#f0f921"
             ]
            ],
            "type": "heatmapgl"
           }
          ],
          "histogram": [
           {
            "marker": {
             "pattern": {
              "fillmode": "overlay",
              "size": 10,
              "solidity": 0.2
             }
            },
            "type": "histogram"
           }
          ],
          "histogram2d": [
           {
            "colorbar": {
             "outlinewidth": 0,
             "ticks": ""
            },
            "colorscale": [
             [
              0,
              "#0d0887"
             ],
             [
              0.1111111111111111,
              "#46039f"
             ],
             [
              0.2222222222222222,
              "#7201a8"
             ],
             [
              0.3333333333333333,
              "#9c179e"
             ],
             [
              0.4444444444444444,
              "#bd3786"
             ],
             [
              0.5555555555555556,
              "#d8576b"
             ],
             [
              0.6666666666666666,
              "#ed7953"
             ],
             [
              0.7777777777777778,
              "#fb9f3a"
             ],
             [
              0.8888888888888888,
              "#fdca26"
             ],
             [
              1,
              "#f0f921"
             ]
            ],
            "type": "histogram2d"
           }
          ],
          "histogram2dcontour": [
           {
            "colorbar": {
             "outlinewidth": 0,
             "ticks": ""
            },
            "colorscale": [
             [
              0,
              "#0d0887"
             ],
             [
              0.1111111111111111,
              "#46039f"
             ],
             [
              0.2222222222222222,
              "#7201a8"
             ],
             [
              0.3333333333333333,
              "#9c179e"
             ],
             [
              0.4444444444444444,
              "#bd3786"
             ],
             [
              0.5555555555555556,
              "#d8576b"
             ],
             [
              0.6666666666666666,
              "#ed7953"
             ],
             [
              0.7777777777777778,
              "#fb9f3a"
             ],
             [
              0.8888888888888888,
              "#fdca26"
             ],
             [
              1,
              "#f0f921"
             ]
            ],
            "type": "histogram2dcontour"
           }
          ],
          "mesh3d": [
           {
            "colorbar": {
             "outlinewidth": 0,
             "ticks": ""
            },
            "type": "mesh3d"
           }
          ],
          "parcoords": [
           {
            "line": {
             "colorbar": {
              "outlinewidth": 0,
              "ticks": ""
             }
            },
            "type": "parcoords"
           }
          ],
          "pie": [
           {
            "automargin": true,
            "type": "pie"
           }
          ],
          "scatter": [
           {
            "fillpattern": {
             "fillmode": "overlay",
             "size": 10,
             "solidity": 0.2
            },
            "type": "scatter"
           }
          ],
          "scatter3d": [
           {
            "line": {
             "colorbar": {
              "outlinewidth": 0,
              "ticks": ""
             }
            },
            "marker": {
             "colorbar": {
              "outlinewidth": 0,
              "ticks": ""
             }
            },
            "type": "scatter3d"
           }
          ],
          "scattercarpet": [
           {
            "marker": {
             "colorbar": {
              "outlinewidth": 0,
              "ticks": ""
             }
            },
            "type": "scattercarpet"
           }
          ],
          "scattergeo": [
           {
            "marker": {
             "colorbar": {
              "outlinewidth": 0,
              "ticks": ""
             }
            },
            "type": "scattergeo"
           }
          ],
          "scattergl": [
           {
            "marker": {
             "colorbar": {
              "outlinewidth": 0,
              "ticks": ""
             }
            },
            "type": "scattergl"
           }
          ],
          "scattermapbox": [
           {
            "marker": {
             "colorbar": {
              "outlinewidth": 0,
              "ticks": ""
             }
            },
            "type": "scattermapbox"
           }
          ],
          "scatterpolar": [
           {
            "marker": {
             "colorbar": {
              "outlinewidth": 0,
              "ticks": ""
             }
            },
            "type": "scatterpolar"
           }
          ],
          "scatterpolargl": [
           {
            "marker": {
             "colorbar": {
              "outlinewidth": 0,
              "ticks": ""
             }
            },
            "type": "scatterpolargl"
           }
          ],
          "scatterternary": [
           {
            "marker": {
             "colorbar": {
              "outlinewidth": 0,
              "ticks": ""
             }
            },
            "type": "scatterternary"
           }
          ],
          "surface": [
           {
            "colorbar": {
             "outlinewidth": 0,
             "ticks": ""
            },
            "colorscale": [
             [
              0,
              "#0d0887"
             ],
             [
              0.1111111111111111,
              "#46039f"
             ],
             [
              0.2222222222222222,
              "#7201a8"
             ],
             [
              0.3333333333333333,
              "#9c179e"
             ],
             [
              0.4444444444444444,
              "#bd3786"
             ],
             [
              0.5555555555555556,
              "#d8576b"
             ],
             [
              0.6666666666666666,
              "#ed7953"
             ],
             [
              0.7777777777777778,
              "#fb9f3a"
             ],
             [
              0.8888888888888888,
              "#fdca26"
             ],
             [
              1,
              "#f0f921"
             ]
            ],
            "type": "surface"
           }
          ],
          "table": [
           {
            "cells": {
             "fill": {
              "color": "#EBF0F8"
             },
             "line": {
              "color": "white"
             }
            },
            "header": {
             "fill": {
              "color": "#C8D4E3"
             },
             "line": {
              "color": "white"
             }
            },
            "type": "table"
           }
          ]
         },
         "layout": {
          "annotationdefaults": {
           "arrowcolor": "#2a3f5f",
           "arrowhead": 0,
           "arrowwidth": 1
          },
          "autotypenumbers": "strict",
          "coloraxis": {
           "colorbar": {
            "outlinewidth": 0,
            "ticks": ""
           }
          },
          "colorscale": {
           "diverging": [
            [
             0,
             "#8e0152"
            ],
            [
             0.1,
             "#c51b7d"
            ],
            [
             0.2,
             "#de77ae"
            ],
            [
             0.3,
             "#f1b6da"
            ],
            [
             0.4,
             "#fde0ef"
            ],
            [
             0.5,
             "#f7f7f7"
            ],
            [
             0.6,
             "#e6f5d0"
            ],
            [
             0.7,
             "#b8e186"
            ],
            [
             0.8,
             "#7fbc41"
            ],
            [
             0.9,
             "#4d9221"
            ],
            [
             1,
             "#276419"
            ]
           ],
           "sequential": [
            [
             0,
             "#0d0887"
            ],
            [
             0.1111111111111111,
             "#46039f"
            ],
            [
             0.2222222222222222,
             "#7201a8"
            ],
            [
             0.3333333333333333,
             "#9c179e"
            ],
            [
             0.4444444444444444,
             "#bd3786"
            ],
            [
             0.5555555555555556,
             "#d8576b"
            ],
            [
             0.6666666666666666,
             "#ed7953"
            ],
            [
             0.7777777777777778,
             "#fb9f3a"
            ],
            [
             0.8888888888888888,
             "#fdca26"
            ],
            [
             1,
             "#f0f921"
            ]
           ],
           "sequentialminus": [
            [
             0,
             "#0d0887"
            ],
            [
             0.1111111111111111,
             "#46039f"
            ],
            [
             0.2222222222222222,
             "#7201a8"
            ],
            [
             0.3333333333333333,
             "#9c179e"
            ],
            [
             0.4444444444444444,
             "#bd3786"
            ],
            [
             0.5555555555555556,
             "#d8576b"
            ],
            [
             0.6666666666666666,
             "#ed7953"
            ],
            [
             0.7777777777777778,
             "#fb9f3a"
            ],
            [
             0.8888888888888888,
             "#fdca26"
            ],
            [
             1,
             "#f0f921"
            ]
           ]
          },
          "colorway": [
           "#636efa",
           "#EF553B",
           "#00cc96",
           "#ab63fa",
           "#FFA15A",
           "#19d3f3",
           "#FF6692",
           "#B6E880",
           "#FF97FF",
           "#FECB52"
          ],
          "font": {
           "color": "#2a3f5f"
          },
          "geo": {
           "bgcolor": "white",
           "lakecolor": "white",
           "landcolor": "#E5ECF6",
           "showlakes": true,
           "showland": true,
           "subunitcolor": "white"
          },
          "hoverlabel": {
           "align": "left"
          },
          "hovermode": "closest",
          "mapbox": {
           "style": "light"
          },
          "paper_bgcolor": "white",
          "plot_bgcolor": "#E5ECF6",
          "polar": {
           "angularaxis": {
            "gridcolor": "white",
            "linecolor": "white",
            "ticks": ""
           },
           "bgcolor": "#E5ECF6",
           "radialaxis": {
            "gridcolor": "white",
            "linecolor": "white",
            "ticks": ""
           }
          },
          "scene": {
           "xaxis": {
            "backgroundcolor": "#E5ECF6",
            "gridcolor": "white",
            "gridwidth": 2,
            "linecolor": "white",
            "showbackground": true,
            "ticks": "",
            "zerolinecolor": "white"
           },
           "yaxis": {
            "backgroundcolor": "#E5ECF6",
            "gridcolor": "white",
            "gridwidth": 2,
            "linecolor": "white",
            "showbackground": true,
            "ticks": "",
            "zerolinecolor": "white"
           },
           "zaxis": {
            "backgroundcolor": "#E5ECF6",
            "gridcolor": "white",
            "gridwidth": 2,
            "linecolor": "white",
            "showbackground": true,
            "ticks": "",
            "zerolinecolor": "white"
           }
          },
          "shapedefaults": {
           "line": {
            "color": "#2a3f5f"
           }
          },
          "ternary": {
           "aaxis": {
            "gridcolor": "white",
            "linecolor": "white",
            "ticks": ""
           },
           "baxis": {
            "gridcolor": "white",
            "linecolor": "white",
            "ticks": ""
           },
           "bgcolor": "#E5ECF6",
           "caxis": {
            "gridcolor": "white",
            "linecolor": "white",
            "ticks": ""
           }
          },
          "title": {
           "x": 0.05
          },
          "xaxis": {
           "automargin": true,
           "gridcolor": "white",
           "linecolor": "white",
           "ticks": "",
           "title": {
            "standoff": 15
           },
           "zerolinecolor": "white",
           "zerolinewidth": 2
          },
          "yaxis": {
           "automargin": true,
           "gridcolor": "white",
           "linecolor": "white",
           "ticks": "",
           "title": {
            "standoff": 15
           },
           "zerolinecolor": "white",
           "zerolinewidth": 2
          }
         }
        },
        "xaxis": {
         "anchor": "y",
         "domain": [
          0,
          1
         ],
         "title": {
          "text": "name"
         }
        },
        "yaxis": {
         "anchor": "x",
         "domain": [
          0,
          1
         ],
         "title": {
          "text": "homeworld"
         }
        }
       }
      }
     },
     "metadata": {},
     "output_type": "display_data"
    }
   ],
   "source": [
    "px.data \n",
    "fig = px.scatter(df, x=\"name\", y=\"homeworld\",color=\"gender\")\n",
    "fig.show()\n",
    "# This shwows each charcter homeworld and what gender is prominent"
   ]
  },
  {
   "cell_type": "code",
   "execution_count": 21,
   "metadata": {},
   "outputs": [],
   "source": [
    "df['films_count'] = df.films.apply(len)\n",
    "df['starship_count'] = df.starships.apply(len)"
   ]
  },
  {
   "cell_type": "code",
   "execution_count": 23,
   "metadata": {},
   "outputs": [
    {
     "data": {
      "application/vnd.plotly.v1+json": {
       "config": {
        "plotlyServerURL": "https://plot.ly"
       },
       "data": [
        {
         "hovertemplate": "homeworld=Tatooine<br>name=%{x}<br>films_count=%{y}<extra></extra>",
         "legendgroup": "Tatooine",
         "marker": {
          "color": "#636efa",
          "symbol": "circle"
         },
         "mode": "markers",
         "name": "Tatooine",
         "orientation": "v",
         "showlegend": true,
         "type": "scatter",
         "x": [
          "Luke Skywalker",
          "C-3PO",
          "Darth Vader",
          "Owen Lars",
          "Beru Whitesun lars",
          "R5-D4",
          "Biggs Darklighter",
          "Anakin Skywalker",
          "Shmi Skywalker",
          "Cliegg Lars"
         ],
         "xaxis": "x",
         "y": [
          14,
          14,
          14,
          14,
          14,
          14,
          14,
          22,
          22,
          24
         ],
         "yaxis": "y"
        },
        {
         "hovertemplate": "homeworld=Naboo<br>name=%{x}<br>films_count=%{y}<extra></extra>",
         "legendgroup": "Naboo",
         "marker": {
          "color": "#EF553B",
          "symbol": "circle"
         },
         "mode": "markers",
         "name": "Naboo",
         "orientation": "v",
         "showlegend": true,
         "type": "scatter",
         "x": [
          "R2-D2",
          "Palpatine",
          "Padmé Amidala",
          "Jar Jar Binks",
          "Roos Tarpals",
          "Rugor Nass",
          "Ric Olié",
          "Quarsh Panaka",
          "Gregar Typho",
          "Cordé",
          "Dormé"
         ],
         "xaxis": "x",
         "y": [
          14,
          27,
          22,
          22,
          22,
          22,
          22,
          22,
          24,
          24,
          24
         ],
         "yaxis": "y"
        },
        {
         "hovertemplate": "homeworld=Alderaan<br>name=%{x}<br>films_count=%{y}<extra></extra>",
         "legendgroup": "Alderaan",
         "marker": {
          "color": "#00cc96",
          "symbol": "circle"
         },
         "mode": "markers",
         "name": "Alderaan",
         "orientation": "v",
         "showlegend": true,
         "type": "scatter",
         "x": [
          "Leia Organa",
          "Bail Prestor Organa",
          "Raymus Antilles"
         ],
         "xaxis": "x",
         "y": [
          14,
          24,
          14
         ],
         "yaxis": "y"
        },
        {
         "hovertemplate": "homeworld=Stewjon<br>name=%{x}<br>films_count=%{y}<extra></extra>",
         "legendgroup": "Stewjon",
         "marker": {
          "color": "#ab63fa",
          "symbol": "circle"
         },
         "mode": "markers",
         "name": "Stewjon",
         "orientation": "v",
         "showlegend": true,
         "type": "scatter",
         "x": [
          "Obi-Wan Kenobi"
         ],
         "xaxis": "x",
         "y": [
          14
         ],
         "yaxis": "y"
        },
        {
         "hovertemplate": "homeworld=Eriadu<br>name=%{x}<br>films_count=%{y}<extra></extra>",
         "legendgroup": "Eriadu",
         "marker": {
          "color": "#FFA15A",
          "symbol": "circle"
         },
         "mode": "markers",
         "name": "Eriadu",
         "orientation": "v",
         "showlegend": true,
         "type": "scatter",
         "x": [
          "Wilhuff Tarkin"
         ],
         "xaxis": "x",
         "y": [
          14
         ],
         "yaxis": "y"
        },
        {
         "hovertemplate": "homeworld=Kashyyyk<br>name=%{x}<br>films_count=%{y}<extra></extra>",
         "legendgroup": "Kashyyyk",
         "marker": {
          "color": "#19d3f3",
          "symbol": "circle"
         },
         "mode": "markers",
         "name": "Kashyyyk",
         "orientation": "v",
         "showlegend": true,
         "type": "scatter",
         "x": [
          "Chewbacca",
          "Tarfful"
         ],
         "xaxis": "x",
         "y": [
          14,
          23
         ],
         "yaxis": "y"
        },
        {
         "hovertemplate": "homeworld=Corellia<br>name=%{x}<br>films_count=%{y}<extra></extra>",
         "legendgroup": "Corellia",
         "marker": {
          "color": "#FF6692",
          "symbol": "circle"
         },
         "mode": "markers",
         "name": "Corellia",
         "orientation": "v",
         "showlegend": true,
         "type": "scatter",
         "x": [
          "Han Solo",
          "Wedge Antilles"
         ],
         "xaxis": "x",
         "y": [
          14,
          14
         ],
         "yaxis": "y"
        },
        {
         "hovertemplate": "homeworld=Rodia<br>name=%{x}<br>films_count=%{y}<extra></extra>",
         "legendgroup": "Rodia",
         "marker": {
          "color": "#B6E880",
          "symbol": "circle"
         },
         "mode": "markers",
         "name": "Rodia",
         "orientation": "v",
         "showlegend": true,
         "type": "scatter",
         "x": [
          "Greedo"
         ],
         "xaxis": "x",
         "y": [
          14
         ],
         "yaxis": "y"
        },
        {
         "hovertemplate": "homeworld=Nal Hutta<br>name=%{x}<br>films_count=%{y}<extra></extra>",
         "legendgroup": "Nal Hutta",
         "marker": {
          "color": "#FF97FF",
          "symbol": "circle"
         },
         "mode": "markers",
         "name": "Nal Hutta",
         "orientation": "v",
         "showlegend": true,
         "type": "scatter",
         "x": [
          "Jabba Desilijic Tiure"
         ],
         "xaxis": "x",
         "y": [
          14
         ],
         "yaxis": "y"
        },
        {
         "hovertemplate": "homeworld=Bestine IV<br>name=%{x}<br>films_count=%{y}<extra></extra>",
         "legendgroup": "Bestine IV",
         "marker": {
          "color": "#FECB52",
          "symbol": "circle"
         },
         "mode": "markers",
         "name": "Bestine IV",
         "orientation": "v",
         "showlegend": true,
         "type": "scatter",
         "x": [
          "Jek Tono Porkins"
         ],
         "xaxis": "x",
         "y": [
          14
         ],
         "yaxis": "y"
        },
        {
         "hovertemplate": "homeworld=unknown<br>name=%{x}<br>films_count=%{y}<extra></extra>",
         "legendgroup": "unknown",
         "marker": {
          "color": "#636efa",
          "symbol": "circle"
         },
         "mode": "markers",
         "name": "unknown",
         "orientation": "v",
         "showlegend": true,
         "type": "scatter",
         "x": [
          "Yoda",
          "IG-88",
          "Arvel Crynyd",
          "Qui-Gon Jinn",
          "R4-P17"
         ],
         "xaxis": "x",
         "y": [
          27,
          27,
          22,
          22,
          24
         ],
         "yaxis": "y"
        },
        {
         "hovertemplate": "homeworld=Kamino<br>name=%{x}<br>films_count=%{y}<extra></extra>",
         "legendgroup": "Kamino",
         "marker": {
          "color": "#EF553B",
          "symbol": "circle"
         },
         "mode": "markers",
         "name": "Kamino",
         "orientation": "v",
         "showlegend": true,
         "type": "scatter",
         "x": [
          "Boba Fett",
          "Lama Su",
          "Taun We"
         ],
         "xaxis": "x",
         "y": [
          27,
          24,
          24
         ],
         "yaxis": "y"
        },
        {
         "hovertemplate": "homeworld=Trandosha<br>name=%{x}<br>films_count=%{y}<extra></extra>",
         "legendgroup": "Trandosha",
         "marker": {
          "color": "#00cc96",
          "symbol": "circle"
         },
         "mode": "markers",
         "name": "Trandosha",
         "orientation": "v",
         "showlegend": true,
         "type": "scatter",
         "x": [
          "Bossk"
         ],
         "xaxis": "x",
         "y": [
          27
         ],
         "yaxis": "y"
        },
        {
         "hovertemplate": "homeworld=Socorro<br>name=%{x}<br>films_count=%{y}<extra></extra>",
         "legendgroup": "Socorro",
         "marker": {
          "color": "#ab63fa",
          "symbol": "circle"
         },
         "mode": "markers",
         "name": "Socorro",
         "orientation": "v",
         "showlegend": true,
         "type": "scatter",
         "x": [
          "Lando Calrissian"
         ],
         "xaxis": "x",
         "y": [
          27
         ],
         "yaxis": "y"
        },
        {
         "hovertemplate": "homeworld=Bespin<br>name=%{x}<br>films_count=%{y}<extra></extra>",
         "legendgroup": "Bespin",
         "marker": {
          "color": "#FFA15A",
          "symbol": "circle"
         },
         "mode": "markers",
         "name": "Bespin",
         "orientation": "v",
         "showlegend": true,
         "type": "scatter",
         "x": [
          "Lobot"
         ],
         "xaxis": "x",
         "y": [
          27
         ],
         "yaxis": "y"
        },
        {
         "hovertemplate": "homeworld=Mon Cala<br>name=%{x}<br>films_count=%{y}<extra></extra>",
         "legendgroup": "Mon Cala",
         "marker": {
          "color": "#19d3f3",
          "symbol": "circle"
         },
         "mode": "markers",
         "name": "Mon Cala",
         "orientation": "v",
         "showlegend": true,
         "type": "scatter",
         "x": [
          "Ackbar"
         ],
         "xaxis": "x",
         "y": [
          22
         ],
         "yaxis": "y"
        },
        {
         "hovertemplate": "homeworld=Chandrila<br>name=%{x}<br>films_count=%{y}<extra></extra>",
         "legendgroup": "Chandrila",
         "marker": {
          "color": "#FF6692",
          "symbol": "circle"
         },
         "mode": "markers",
         "name": "Chandrila",
         "orientation": "v",
         "showlegend": true,
         "type": "scatter",
         "x": [
          "Mon Mothma"
         ],
         "xaxis": "x",
         "y": [
          22
         ],
         "yaxis": "y"
        },
        {
         "hovertemplate": "homeworld=Endor<br>name=%{x}<br>films_count=%{y}<extra></extra>",
         "legendgroup": "Endor",
         "marker": {
          "color": "#B6E880",
          "symbol": "circle"
         },
         "mode": "markers",
         "name": "Endor",
         "orientation": "v",
         "showlegend": true,
         "type": "scatter",
         "x": [
          "Wicket Systri Warrick"
         ],
         "xaxis": "x",
         "y": [
          22
         ],
         "yaxis": "y"
        },
        {
         "hovertemplate": "homeworld=Sullust<br>name=%{x}<br>films_count=%{y}<extra></extra>",
         "legendgroup": "Sullust",
         "marker": {
          "color": "#FF97FF",
          "symbol": "circle"
         },
         "mode": "markers",
         "name": "Sullust",
         "orientation": "v",
         "showlegend": true,
         "type": "scatter",
         "x": [
          "Nien Nunb"
         ],
         "xaxis": "x",
         "y": [
          22
         ],
         "yaxis": "y"
        },
        {
         "hovertemplate": "homeworld=Cato Neimoidia<br>name=%{x}<br>films_count=%{y}<extra></extra>",
         "legendgroup": "Cato Neimoidia",
         "marker": {
          "color": "#FECB52",
          "symbol": "circle"
         },
         "mode": "markers",
         "name": "Cato Neimoidia",
         "orientation": "v",
         "showlegend": true,
         "type": "scatter",
         "x": [
          "Nute Gunray"
         ],
         "xaxis": "x",
         "y": [
          22
         ],
         "yaxis": "y"
        },
        {
         "hovertemplate": "homeworld=Coruscant<br>name=%{x}<br>films_count=%{y}<extra></extra>",
         "legendgroup": "Coruscant",
         "marker": {
          "color": "#636efa",
          "symbol": "circle"
         },
         "mode": "markers",
         "name": "Coruscant",
         "orientation": "v",
         "showlegend": true,
         "type": "scatter",
         "x": [
          "Finis Valorum",
          "Adi Gallia",
          "Jocasta Nu"
         ],
         "xaxis": "x",
         "y": [
          22,
          22,
          24
         ],
         "yaxis": "y"
        },
        {
         "hovertemplate": "homeworld=Toydaria<br>name=%{x}<br>films_count=%{y}<extra></extra>",
         "legendgroup": "Toydaria",
         "marker": {
          "color": "#EF553B",
          "symbol": "circle"
         },
         "mode": "markers",
         "name": "Toydaria",
         "orientation": "v",
         "showlegend": true,
         "type": "scatter",
         "x": [
          "Watto"
         ],
         "xaxis": "x",
         "y": [
          22
         ],
         "yaxis": "y"
        },
        {
         "hovertemplate": "homeworld=Malastare<br>name=%{x}<br>films_count=%{y}<extra></extra>",
         "legendgroup": "Malastare",
         "marker": {
          "color": "#00cc96",
          "symbol": "circle"
         },
         "mode": "markers",
         "name": "Malastare",
         "orientation": "v",
         "showlegend": true,
         "type": "scatter",
         "x": [
          "Sebulba"
         ],
         "xaxis": "x",
         "y": [
          22
         ],
         "yaxis": "y"
        },
        {
         "hovertemplate": "homeworld=Dathomir<br>name=%{x}<br>films_count=%{y}<extra></extra>",
         "legendgroup": "Dathomir",
         "marker": {
          "color": "#ab63fa",
          "symbol": "circle"
         },
         "mode": "markers",
         "name": "Dathomir",
         "orientation": "v",
         "showlegend": true,
         "type": "scatter",
         "x": [
          "Darth Maul"
         ],
         "xaxis": "x",
         "y": [
          22
         ],
         "yaxis": "y"
        },
        {
         "hovertemplate": "homeworld=Ryloth<br>name=%{x}<br>films_count=%{y}<extra></extra>",
         "legendgroup": "Ryloth",
         "marker": {
          "color": "#FFA15A",
          "symbol": "circle"
         },
         "mode": "markers",
         "name": "Ryloth",
         "orientation": "v",
         "showlegend": true,
         "type": "scatter",
         "x": [
          "Bib Fortuna",
          "Ayla Secura"
         ],
         "xaxis": "x",
         "y": [
          22,
          22
         ],
         "yaxis": "y"
        },
        {
         "hovertemplate": "homeworld=Aleen Minor<br>name=%{x}<br>films_count=%{y}<extra></extra>",
         "legendgroup": "Aleen Minor",
         "marker": {
          "color": "#19d3f3",
          "symbol": "circle"
         },
         "mode": "markers",
         "name": "Aleen Minor",
         "orientation": "v",
         "showlegend": true,
         "type": "scatter",
         "x": [
          "Ratts Tyerel"
         ],
         "xaxis": "x",
         "y": [
          22
         ],
         "yaxis": "y"
        },
        {
         "hovertemplate": "homeworld=Vulpter<br>name=%{x}<br>films_count=%{y}<extra></extra>",
         "legendgroup": "Vulpter",
         "marker": {
          "color": "#FF6692",
          "symbol": "circle"
         },
         "mode": "markers",
         "name": "Vulpter",
         "orientation": "v",
         "showlegend": true,
         "type": "scatter",
         "x": [
          "Dud Bolt"
         ],
         "xaxis": "x",
         "y": [
          22
         ],
         "yaxis": "y"
        },
        {
         "hovertemplate": "homeworld=Troiken<br>name=%{x}<br>films_count=%{y}<extra></extra>",
         "legendgroup": "Troiken",
         "marker": {
          "color": "#B6E880",
          "symbol": "circle"
         },
         "mode": "markers",
         "name": "Troiken",
         "orientation": "v",
         "showlegend": true,
         "type": "scatter",
         "x": [
          "Gasgano"
         ],
         "xaxis": "x",
         "y": [
          22
         ],
         "yaxis": "y"
        },
        {
         "hovertemplate": "homeworld=Tund<br>name=%{x}<br>films_count=%{y}<extra></extra>",
         "legendgroup": "Tund",
         "marker": {
          "color": "#FF97FF",
          "symbol": "circle"
         },
         "mode": "markers",
         "name": "Tund",
         "orientation": "v",
         "showlegend": true,
         "type": "scatter",
         "x": [
          "Ben Quadinaros"
         ],
         "xaxis": "x",
         "y": [
          22
         ],
         "yaxis": "y"
        },
        {
         "hovertemplate": "homeworld=Haruun Kal<br>name=%{x}<br>films_count=%{y}<extra></extra>",
         "legendgroup": "Haruun Kal",
         "marker": {
          "color": "#FECB52",
          "symbol": "circle"
         },
         "mode": "markers",
         "name": "Haruun Kal",
         "orientation": "v",
         "showlegend": true,
         "type": "scatter",
         "x": [
          "Mace Windu"
         ],
         "xaxis": "x",
         "y": [
          22
         ],
         "yaxis": "y"
        },
        {
         "hovertemplate": "homeworld=Cerea<br>name=%{x}<br>films_count=%{y}<extra></extra>",
         "legendgroup": "Cerea",
         "marker": {
          "color": "#636efa",
          "symbol": "circle"
         },
         "mode": "markers",
         "name": "Cerea",
         "orientation": "v",
         "showlegend": true,
         "type": "scatter",
         "x": [
          "Ki-Adi-Mundi"
         ],
         "xaxis": "x",
         "y": [
          22
         ],
         "yaxis": "y"
        },
        {
         "hovertemplate": "homeworld=Glee Anselm<br>name=%{x}<br>films_count=%{y}<extra></extra>",
         "legendgroup": "Glee Anselm",
         "marker": {
          "color": "#EF553B",
          "symbol": "circle"
         },
         "mode": "markers",
         "name": "Glee Anselm",
         "orientation": "v",
         "showlegend": true,
         "type": "scatter",
         "x": [
          "Kit Fisto"
         ],
         "xaxis": "x",
         "y": [
          22
         ],
         "yaxis": "y"
        },
        {
         "hovertemplate": "homeworld=Iridonia<br>name=%{x}<br>films_count=%{y}<extra></extra>",
         "legendgroup": "Iridonia",
         "marker": {
          "color": "#00cc96",
          "symbol": "circle"
         },
         "mode": "markers",
         "name": "Iridonia",
         "orientation": "v",
         "showlegend": true,
         "type": "scatter",
         "x": [
          "Eeth Koth"
         ],
         "xaxis": "x",
         "y": [
          22
         ],
         "yaxis": "y"
        },
        {
         "hovertemplate": "homeworld=Iktotch<br>name=%{x}<br>films_count=%{y}<extra></extra>",
         "legendgroup": "Iktotch",
         "marker": {
          "color": "#ab63fa",
          "symbol": "circle"
         },
         "mode": "markers",
         "name": "Iktotch",
         "orientation": "v",
         "showlegend": true,
         "type": "scatter",
         "x": [
          "Saesee Tiin"
         ],
         "xaxis": "x",
         "y": [
          22
         ],
         "yaxis": "y"
        },
        {
         "hovertemplate": "homeworld=Quermia<br>name=%{x}<br>films_count=%{y}<extra></extra>",
         "legendgroup": "Quermia",
         "marker": {
          "color": "#FFA15A",
          "symbol": "circle"
         },
         "mode": "markers",
         "name": "Quermia",
         "orientation": "v",
         "showlegend": true,
         "type": "scatter",
         "x": [
          "Yarael Poof"
         ],
         "xaxis": "x",
         "y": [
          22
         ],
         "yaxis": "y"
        },
        {
         "hovertemplate": "homeworld=Dorin<br>name=%{x}<br>films_count=%{y}<extra></extra>",
         "legendgroup": "Dorin",
         "marker": {
          "color": "#19d3f3",
          "symbol": "circle"
         },
         "mode": "markers",
         "name": "Dorin",
         "orientation": "v",
         "showlegend": true,
         "type": "scatter",
         "x": [
          "Plo Koon"
         ],
         "xaxis": "x",
         "y": [
          22
         ],
         "yaxis": "y"
        },
        {
         "hovertemplate": "homeworld=Champala<br>name=%{x}<br>films_count=%{y}<extra></extra>",
         "legendgroup": "Champala",
         "marker": {
          "color": "#FF6692",
          "symbol": "circle"
         },
         "mode": "markers",
         "name": "Champala",
         "orientation": "v",
         "showlegend": true,
         "type": "scatter",
         "x": [
          "Mas Amedda"
         ],
         "xaxis": "x",
         "y": [
          22
         ],
         "yaxis": "y"
        },
        {
         "hovertemplate": "homeworld=Geonosis<br>name=%{x}<br>films_count=%{y}<extra></extra>",
         "legendgroup": "Geonosis",
         "marker": {
          "color": "#B6E880",
          "symbol": "circle"
         },
         "mode": "markers",
         "name": "Geonosis",
         "orientation": "v",
         "showlegend": true,
         "type": "scatter",
         "x": [
          "Poggle the Lesser"
         ],
         "xaxis": "x",
         "y": [
          24
         ],
         "yaxis": "y"
        },
        {
         "hovertemplate": "homeworld=Mirial<br>name=%{x}<br>films_count=%{y}<extra></extra>",
         "legendgroup": "Mirial",
         "marker": {
          "color": "#FF97FF",
          "symbol": "circle"
         },
         "mode": "markers",
         "name": "Mirial",
         "orientation": "v",
         "showlegend": true,
         "type": "scatter",
         "x": [
          "Luminara Unduli",
          "Barriss Offee"
         ],
         "xaxis": "x",
         "y": [
          24,
          24
         ],
         "yaxis": "y"
        },
        {
         "hovertemplate": "homeworld=Serenno<br>name=%{x}<br>films_count=%{y}<extra></extra>",
         "legendgroup": "Serenno",
         "marker": {
          "color": "#FECB52",
          "symbol": "circle"
         },
         "mode": "markers",
         "name": "Serenno",
         "orientation": "v",
         "showlegend": true,
         "type": "scatter",
         "x": [
          "Dooku"
         ],
         "xaxis": "x",
         "y": [
          24
         ],
         "yaxis": "y"
        },
        {
         "hovertemplate": "homeworld=Concord Dawn<br>name=%{x}<br>films_count=%{y}<extra></extra>",
         "legendgroup": "Concord Dawn",
         "marker": {
          "color": "#636efa",
          "symbol": "circle"
         },
         "mode": "markers",
         "name": "Concord Dawn",
         "orientation": "v",
         "showlegend": true,
         "type": "scatter",
         "x": [
          "Jango Fett"
         ],
         "xaxis": "x",
         "y": [
          24
         ],
         "yaxis": "y"
        },
        {
         "hovertemplate": "homeworld=Zolan<br>name=%{x}<br>films_count=%{y}<extra></extra>",
         "legendgroup": "Zolan",
         "marker": {
          "color": "#EF553B",
          "symbol": "circle"
         },
         "mode": "markers",
         "name": "Zolan",
         "orientation": "v",
         "showlegend": true,
         "type": "scatter",
         "x": [
          "Zam Wesell"
         ],
         "xaxis": "x",
         "y": [
          24
         ],
         "yaxis": "y"
        },
        {
         "hovertemplate": "homeworld=Ojom<br>name=%{x}<br>films_count=%{y}<extra></extra>",
         "legendgroup": "Ojom",
         "marker": {
          "color": "#00cc96",
          "symbol": "circle"
         },
         "mode": "markers",
         "name": "Ojom",
         "orientation": "v",
         "showlegend": true,
         "type": "scatter",
         "x": [
          "Dexter Jettster"
         ],
         "xaxis": "x",
         "y": [
          24
         ],
         "yaxis": "y"
        },
        {
         "hovertemplate": "homeworld=Skako<br>name=%{x}<br>films_count=%{y}<extra></extra>",
         "legendgroup": "Skako",
         "marker": {
          "color": "#ab63fa",
          "symbol": "circle"
         },
         "mode": "markers",
         "name": "Skako",
         "orientation": "v",
         "showlegend": true,
         "type": "scatter",
         "x": [
          "Wat Tambor"
         ],
         "xaxis": "x",
         "y": [
          24
         ],
         "yaxis": "y"
        },
        {
         "hovertemplate": "homeworld=Muunilinst<br>name=%{x}<br>films_count=%{y}<extra></extra>",
         "legendgroup": "Muunilinst",
         "marker": {
          "color": "#FFA15A",
          "symbol": "circle"
         },
         "mode": "markers",
         "name": "Muunilinst",
         "orientation": "v",
         "showlegend": true,
         "type": "scatter",
         "x": [
          "San Hill"
         ],
         "xaxis": "x",
         "y": [
          24
         ],
         "yaxis": "y"
        },
        {
         "hovertemplate": "homeworld=Shili<br>name=%{x}<br>films_count=%{y}<extra></extra>",
         "legendgroup": "Shili",
         "marker": {
          "color": "#19d3f3",
          "symbol": "circle"
         },
         "mode": "markers",
         "name": "Shili",
         "orientation": "v",
         "showlegend": true,
         "type": "scatter",
         "x": [
          "Shaak Ti"
         ],
         "xaxis": "x",
         "y": [
          24
         ],
         "yaxis": "y"
        },
        {
         "hovertemplate": "homeworld=Kalee<br>name=%{x}<br>films_count=%{y}<extra></extra>",
         "legendgroup": "Kalee",
         "marker": {
          "color": "#FF6692",
          "symbol": "circle"
         },
         "mode": "markers",
         "name": "Kalee",
         "orientation": "v",
         "showlegend": true,
         "type": "scatter",
         "x": [
          "Grievous"
         ],
         "xaxis": "x",
         "y": [
          23
         ],
         "yaxis": "y"
        },
        {
         "hovertemplate": "homeworld=Umbara<br>name=%{x}<br>films_count=%{y}<extra></extra>",
         "legendgroup": "Umbara",
         "marker": {
          "color": "#B6E880",
          "symbol": "circle"
         },
         "mode": "markers",
         "name": "Umbara",
         "orientation": "v",
         "showlegend": true,
         "type": "scatter",
         "x": [
          "Sly Moore"
         ],
         "xaxis": "x",
         "y": [
          24
         ],
         "yaxis": "y"
        },
        {
         "hovertemplate": "homeworld=Utapau<br>name=%{x}<br>films_count=%{y}<extra></extra>",
         "legendgroup": "Utapau",
         "marker": {
          "color": "#FF97FF",
          "symbol": "circle"
         },
         "mode": "markers",
         "name": "Utapau",
         "orientation": "v",
         "showlegend": true,
         "type": "scatter",
         "x": [
          "Tion Medon"
         ],
         "xaxis": "x",
         "y": [
          23
         ],
         "yaxis": "y"
        }
       ],
       "layout": {
        "legend": {
         "title": {
          "text": "homeworld"
         },
         "tracegroupgap": 0
        },
        "margin": {
         "t": 60
        },
        "template": {
         "data": {
          "bar": [
           {
            "error_x": {
             "color": "#2a3f5f"
            },
            "error_y": {
             "color": "#2a3f5f"
            },
            "marker": {
             "line": {
              "color": "#E5ECF6",
              "width": 0.5
             },
             "pattern": {
              "fillmode": "overlay",
              "size": 10,
              "solidity": 0.2
             }
            },
            "type": "bar"
           }
          ],
          "barpolar": [
           {
            "marker": {
             "line": {
              "color": "#E5ECF6",
              "width": 0.5
             },
             "pattern": {
              "fillmode": "overlay",
              "size": 10,
              "solidity": 0.2
             }
            },
            "type": "barpolar"
           }
          ],
          "carpet": [
           {
            "aaxis": {
             "endlinecolor": "#2a3f5f",
             "gridcolor": "white",
             "linecolor": "white",
             "minorgridcolor": "white",
             "startlinecolor": "#2a3f5f"
            },
            "baxis": {
             "endlinecolor": "#2a3f5f",
             "gridcolor": "white",
             "linecolor": "white",
             "minorgridcolor": "white",
             "startlinecolor": "#2a3f5f"
            },
            "type": "carpet"
           }
          ],
          "choropleth": [
           {
            "colorbar": {
             "outlinewidth": 0,
             "ticks": ""
            },
            "type": "choropleth"
           }
          ],
          "contour": [
           {
            "colorbar": {
             "outlinewidth": 0,
             "ticks": ""
            },
            "colorscale": [
             [
              0,
              "#0d0887"
             ],
             [
              0.1111111111111111,
              "#46039f"
             ],
             [
              0.2222222222222222,
              "#7201a8"
             ],
             [
              0.3333333333333333,
              "#9c179e"
             ],
             [
              0.4444444444444444,
              "#bd3786"
             ],
             [
              0.5555555555555556,
              "#d8576b"
             ],
             [
              0.6666666666666666,
              "#ed7953"
             ],
             [
              0.7777777777777778,
              "#fb9f3a"
             ],
             [
              0.8888888888888888,
              "#fdca26"
             ],
             [
              1,
              "#f0f921"
             ]
            ],
            "type": "contour"
           }
          ],
          "contourcarpet": [
           {
            "colorbar": {
             "outlinewidth": 0,
             "ticks": ""
            },
            "type": "contourcarpet"
           }
          ],
          "heatmap": [
           {
            "colorbar": {
             "outlinewidth": 0,
             "ticks": ""
            },
            "colorscale": [
             [
              0,
              "#0d0887"
             ],
             [
              0.1111111111111111,
              "#46039f"
             ],
             [
              0.2222222222222222,
              "#7201a8"
             ],
             [
              0.3333333333333333,
              "#9c179e"
             ],
             [
              0.4444444444444444,
              "#bd3786"
             ],
             [
              0.5555555555555556,
              "#d8576b"
             ],
             [
              0.6666666666666666,
              "#ed7953"
             ],
             [
              0.7777777777777778,
              "#fb9f3a"
             ],
             [
              0.8888888888888888,
              "#fdca26"
             ],
             [
              1,
              "#f0f921"
             ]
            ],
            "type": "heatmap"
           }
          ],
          "heatmapgl": [
           {
            "colorbar": {
             "outlinewidth": 0,
             "ticks": ""
            },
            "colorscale": [
             [
              0,
              "#0d0887"
             ],
             [
              0.1111111111111111,
              "#46039f"
             ],
             [
              0.2222222222222222,
              "#7201a8"
             ],
             [
              0.3333333333333333,
              "#9c179e"
             ],
             [
              0.4444444444444444,
              "#bd3786"
             ],
             [
              0.5555555555555556,
              "#d8576b"
             ],
             [
              0.6666666666666666,
              "#ed7953"
             ],
             [
              0.7777777777777778,
              "#fb9f3a"
             ],
             [
              0.8888888888888888,
              "#fdca26"
             ],
             [
              1,
              "#f0f921"
             ]
            ],
            "type": "heatmapgl"
           }
          ],
          "histogram": [
           {
            "marker": {
             "pattern": {
              "fillmode": "overlay",
              "size": 10,
              "solidity": 0.2
             }
            },
            "type": "histogram"
           }
          ],
          "histogram2d": [
           {
            "colorbar": {
             "outlinewidth": 0,
             "ticks": ""
            },
            "colorscale": [
             [
              0,
              "#0d0887"
             ],
             [
              0.1111111111111111,
              "#46039f"
             ],
             [
              0.2222222222222222,
              "#7201a8"
             ],
             [
              0.3333333333333333,
              "#9c179e"
             ],
             [
              0.4444444444444444,
              "#bd3786"
             ],
             [
              0.5555555555555556,
              "#d8576b"
             ],
             [
              0.6666666666666666,
              "#ed7953"
             ],
             [
              0.7777777777777778,
              "#fb9f3a"
             ],
             [
              0.8888888888888888,
              "#fdca26"
             ],
             [
              1,
              "#f0f921"
             ]
            ],
            "type": "histogram2d"
           }
          ],
          "histogram2dcontour": [
           {
            "colorbar": {
             "outlinewidth": 0,
             "ticks": ""
            },
            "colorscale": [
             [
              0,
              "#0d0887"
             ],
             [
              0.1111111111111111,
              "#46039f"
             ],
             [
              0.2222222222222222,
              "#7201a8"
             ],
             [
              0.3333333333333333,
              "#9c179e"
             ],
             [
              0.4444444444444444,
              "#bd3786"
             ],
             [
              0.5555555555555556,
              "#d8576b"
             ],
             [
              0.6666666666666666,
              "#ed7953"
             ],
             [
              0.7777777777777778,
              "#fb9f3a"
             ],
             [
              0.8888888888888888,
              "#fdca26"
             ],
             [
              1,
              "#f0f921"
             ]
            ],
            "type": "histogram2dcontour"
           }
          ],
          "mesh3d": [
           {
            "colorbar": {
             "outlinewidth": 0,
             "ticks": ""
            },
            "type": "mesh3d"
           }
          ],
          "parcoords": [
           {
            "line": {
             "colorbar": {
              "outlinewidth": 0,
              "ticks": ""
             }
            },
            "type": "parcoords"
           }
          ],
          "pie": [
           {
            "automargin": true,
            "type": "pie"
           }
          ],
          "scatter": [
           {
            "fillpattern": {
             "fillmode": "overlay",
             "size": 10,
             "solidity": 0.2
            },
            "type": "scatter"
           }
          ],
          "scatter3d": [
           {
            "line": {
             "colorbar": {
              "outlinewidth": 0,
              "ticks": ""
             }
            },
            "marker": {
             "colorbar": {
              "outlinewidth": 0,
              "ticks": ""
             }
            },
            "type": "scatter3d"
           }
          ],
          "scattercarpet": [
           {
            "marker": {
             "colorbar": {
              "outlinewidth": 0,
              "ticks": ""
             }
            },
            "type": "scattercarpet"
           }
          ],
          "scattergeo": [
           {
            "marker": {
             "colorbar": {
              "outlinewidth": 0,
              "ticks": ""
             }
            },
            "type": "scattergeo"
           }
          ],
          "scattergl": [
           {
            "marker": {
             "colorbar": {
              "outlinewidth": 0,
              "ticks": ""
             }
            },
            "type": "scattergl"
           }
          ],
          "scattermapbox": [
           {
            "marker": {
             "colorbar": {
              "outlinewidth": 0,
              "ticks": ""
             }
            },
            "type": "scattermapbox"
           }
          ],
          "scatterpolar": [
           {
            "marker": {
             "colorbar": {
              "outlinewidth": 0,
              "ticks": ""
             }
            },
            "type": "scatterpolar"
           }
          ],
          "scatterpolargl": [
           {
            "marker": {
             "colorbar": {
              "outlinewidth": 0,
              "ticks": ""
             }
            },
            "type": "scatterpolargl"
           }
          ],
          "scatterternary": [
           {
            "marker": {
             "colorbar": {
              "outlinewidth": 0,
              "ticks": ""
             }
            },
            "type": "scatterternary"
           }
          ],
          "surface": [
           {
            "colorbar": {
             "outlinewidth": 0,
             "ticks": ""
            },
            "colorscale": [
             [
              0,
              "#0d0887"
             ],
             [
              0.1111111111111111,
              "#46039f"
             ],
             [
              0.2222222222222222,
              "#7201a8"
             ],
             [
              0.3333333333333333,
              "#9c179e"
             ],
             [
              0.4444444444444444,
              "#bd3786"
             ],
             [
              0.5555555555555556,
              "#d8576b"
             ],
             [
              0.6666666666666666,
              "#ed7953"
             ],
             [
              0.7777777777777778,
              "#fb9f3a"
             ],
             [
              0.8888888888888888,
              "#fdca26"
             ],
             [
              1,
              "#f0f921"
             ]
            ],
            "type": "surface"
           }
          ],
          "table": [
           {
            "cells": {
             "fill": {
              "color": "#EBF0F8"
             },
             "line": {
              "color": "white"
             }
            },
            "header": {
             "fill": {
              "color": "#C8D4E3"
             },
             "line": {
              "color": "white"
             }
            },
            "type": "table"
           }
          ]
         },
         "layout": {
          "annotationdefaults": {
           "arrowcolor": "#2a3f5f",
           "arrowhead": 0,
           "arrowwidth": 1
          },
          "autotypenumbers": "strict",
          "coloraxis": {
           "colorbar": {
            "outlinewidth": 0,
            "ticks": ""
           }
          },
          "colorscale": {
           "diverging": [
            [
             0,
             "#8e0152"
            ],
            [
             0.1,
             "#c51b7d"
            ],
            [
             0.2,
             "#de77ae"
            ],
            [
             0.3,
             "#f1b6da"
            ],
            [
             0.4,
             "#fde0ef"
            ],
            [
             0.5,
             "#f7f7f7"
            ],
            [
             0.6,
             "#e6f5d0"
            ],
            [
             0.7,
             "#b8e186"
            ],
            [
             0.8,
             "#7fbc41"
            ],
            [
             0.9,
             "#4d9221"
            ],
            [
             1,
             "#276419"
            ]
           ],
           "sequential": [
            [
             0,
             "#0d0887"
            ],
            [
             0.1111111111111111,
             "#46039f"
            ],
            [
             0.2222222222222222,
             "#7201a8"
            ],
            [
             0.3333333333333333,
             "#9c179e"
            ],
            [
             0.4444444444444444,
             "#bd3786"
            ],
            [
             0.5555555555555556,
             "#d8576b"
            ],
            [
             0.6666666666666666,
             "#ed7953"
            ],
            [
             0.7777777777777778,
             "#fb9f3a"
            ],
            [
             0.8888888888888888,
             "#fdca26"
            ],
            [
             1,
             "#f0f921"
            ]
           ],
           "sequentialminus": [
            [
             0,
             "#0d0887"
            ],
            [
             0.1111111111111111,
             "#46039f"
            ],
            [
             0.2222222222222222,
             "#7201a8"
            ],
            [
             0.3333333333333333,
             "#9c179e"
            ],
            [
             0.4444444444444444,
             "#bd3786"
            ],
            [
             0.5555555555555556,
             "#d8576b"
            ],
            [
             0.6666666666666666,
             "#ed7953"
            ],
            [
             0.7777777777777778,
             "#fb9f3a"
            ],
            [
             0.8888888888888888,
             "#fdca26"
            ],
            [
             1,
             "#f0f921"
            ]
           ]
          },
          "colorway": [
           "#636efa",
           "#EF553B",
           "#00cc96",
           "#ab63fa",
           "#FFA15A",
           "#19d3f3",
           "#FF6692",
           "#B6E880",
           "#FF97FF",
           "#FECB52"
          ],
          "font": {
           "color": "#2a3f5f"
          },
          "geo": {
           "bgcolor": "white",
           "lakecolor": "white",
           "landcolor": "#E5ECF6",
           "showlakes": true,
           "showland": true,
           "subunitcolor": "white"
          },
          "hoverlabel": {
           "align": "left"
          },
          "hovermode": "closest",
          "mapbox": {
           "style": "light"
          },
          "paper_bgcolor": "white",
          "plot_bgcolor": "#E5ECF6",
          "polar": {
           "angularaxis": {
            "gridcolor": "white",
            "linecolor": "white",
            "ticks": ""
           },
           "bgcolor": "#E5ECF6",
           "radialaxis": {
            "gridcolor": "white",
            "linecolor": "white",
            "ticks": ""
           }
          },
          "scene": {
           "xaxis": {
            "backgroundcolor": "#E5ECF6",
            "gridcolor": "white",
            "gridwidth": 2,
            "linecolor": "white",
            "showbackground": true,
            "ticks": "",
            "zerolinecolor": "white"
           },
           "yaxis": {
            "backgroundcolor": "#E5ECF6",
            "gridcolor": "white",
            "gridwidth": 2,
            "linecolor": "white",
            "showbackground": true,
            "ticks": "",
            "zerolinecolor": "white"
           },
           "zaxis": {
            "backgroundcolor": "#E5ECF6",
            "gridcolor": "white",
            "gridwidth": 2,
            "linecolor": "white",
            "showbackground": true,
            "ticks": "",
            "zerolinecolor": "white"
           }
          },
          "shapedefaults": {
           "line": {
            "color": "#2a3f5f"
           }
          },
          "ternary": {
           "aaxis": {
            "gridcolor": "white",
            "linecolor": "white",
            "ticks": ""
           },
           "baxis": {
            "gridcolor": "white",
            "linecolor": "white",
            "ticks": ""
           },
           "bgcolor": "#E5ECF6",
           "caxis": {
            "gridcolor": "white",
            "linecolor": "white",
            "ticks": ""
           }
          },
          "title": {
           "x": 0.05
          },
          "xaxis": {
           "automargin": true,
           "gridcolor": "white",
           "linecolor": "white",
           "ticks": "",
           "title": {
            "standoff": 15
           },
           "zerolinecolor": "white",
           "zerolinewidth": 2
          },
          "yaxis": {
           "automargin": true,
           "gridcolor": "white",
           "linecolor": "white",
           "ticks": "",
           "title": {
            "standoff": 15
           },
           "zerolinecolor": "white",
           "zerolinewidth": 2
          }
         }
        },
        "xaxis": {
         "anchor": "y",
         "domain": [
          0,
          1
         ],
         "title": {
          "text": "name"
         }
        },
        "yaxis": {
         "anchor": "x",
         "domain": [
          0,
          1
         ],
         "title": {
          "text": "films_count"
         }
        }
       }
      }
     },
     "metadata": {},
     "output_type": "display_data"
    }
   ],
   "source": [
    "px.data \n",
    "fig = px.scatter(df, x=\"name\", y=\"films_count\",color=\"homeworld\")\n",
    "fig.show()\n",
    "#This shows which chracter appeared in most number of films and their homeworld"
   ]
  },
  {
   "cell_type": "code",
   "execution_count": 24,
   "metadata": {},
   "outputs": [
    {
     "data": {
      "application/vnd.plotly.v1+json": {
       "config": {
        "plotlyServerURL": "https://plot.ly"
       },
       "data": [
        {
         "hovertemplate": "gender=male<br>name=%{x}<br>starship_count=%{y}<extra></extra>",
         "legendgroup": "male",
         "marker": {
          "color": "#636efa",
          "symbol": "circle"
         },
         "mode": "markers",
         "name": "male",
         "orientation": "v",
         "showlegend": true,
         "type": "scatter",
         "x": [
          "Luke Skywalker",
          "Darth Vader",
          "Owen Lars",
          "Biggs Darklighter",
          "Obi-Wan Kenobi",
          "Anakin Skywalker",
          "Wilhuff Tarkin",
          "Chewbacca",
          "Han Solo",
          "Greedo",
          "Wedge Antilles",
          "Jek Tono Porkins",
          "Yoda",
          "Palpatine",
          "Boba Fett",
          "Bossk",
          "Lando Calrissian",
          "Lobot",
          "Ackbar",
          "Arvel Crynyd",
          "Wicket Systri Warrick",
          "Nien Nunb",
          "Qui-Gon Jinn",
          "Nute Gunray",
          "Finis Valorum",
          "Jar Jar Binks",
          "Roos Tarpals",
          "Rugor Nass",
          "Ric Olié",
          "Watto",
          "Sebulba",
          "Quarsh Panaka",
          "Darth Maul",
          "Bib Fortuna",
          "Ratts Tyerel",
          "Dud Bolt",
          "Gasgano",
          "Ben Quadinaros",
          "Mace Windu",
          "Ki-Adi-Mundi",
          "Kit Fisto",
          "Eeth Koth",
          "Saesee Tiin",
          "Yarael Poof",
          "Plo Koon",
          "Mas Amedda",
          "Gregar Typho",
          "Cliegg Lars",
          "Poggle the Lesser",
          "Dooku",
          "Bail Prestor Organa",
          "Jango Fett",
          "Dexter Jettster",
          "Lama Su",
          "Wat Tambor",
          "San Hill",
          "Grievous",
          "Tarfful",
          "Raymus Antilles",
          "Tion Medon"
         ],
         "xaxis": "x",
         "y": [
          30,
          19,
          19,
          10,
          116,
          65,
          65,
          41,
          41,
          41,
          10,
          10,
          10,
          10,
          11,
          11,
          21,
          21,
          21,
          10,
          10,
          21,
          21,
          21,
          21,
          60,
          60,
          60,
          24,
          24,
          24,
          24,
          12,
          12,
          12,
          12,
          12,
          12,
          12,
          12,
          12,
          12,
          12,
          12,
          20,
          20,
          17,
          17,
          17,
          17,
          17,
          17,
          17,
          17,
          17,
          17,
          28,
          28,
          28,
          28
         ],
         "yaxis": "y"
        },
        {
         "hovertemplate": "gender=female<br>name=%{x}<br>starship_count=%{y}<extra></extra>",
         "legendgroup": "female",
         "marker": {
          "color": "#00cc96",
          "symbol": "circle"
         },
         "mode": "markers",
         "name": "female",
         "orientation": "v",
         "showlegend": true,
         "type": "scatter",
         "x": [
          "Leia Organa",
          "Beru Whitesun lars",
          "Mon Mothma",
          "Padmé Amidala",
          "Shmi Skywalker",
          "Ayla Secura",
          "Adi Gallia",
          "Cordé",
          "Luminara Unduli",
          "Barriss Offee",
          "Dormé",
          "Zam Wesell",
          "Taun We",
          "Jocasta Nu",
          "R4-P17",
          "Shaak Ti",
          "Sly Moore"
         ],
         "xaxis": "x",
         "y": [
          19,
          19,
          21,
          60,
          24,
          12,
          12,
          17,
          17,
          17,
          17,
          17,
          17,
          17,
          17,
          17,
          28
         ],
         "yaxis": "y"
        },
        {
         "hovertemplate": "gender=hermaphrodite<br>name=%{x}<br>starship_count=%{y}<extra></extra>",
         "legendgroup": "hermaphrodite",
         "marker": {
          "color": "#ab63fa",
          "symbol": "circle"
         },
         "mode": "markers",
         "name": "hermaphrodite",
         "orientation": "v",
         "showlegend": true,
         "type": "scatter",
         "x": [
          "Jabba Desilijic Tiure"
         ],
         "xaxis": "x",
         "y": [
          41
         ],
         "yaxis": "y"
        }
       ],
       "layout": {
        "legend": {
         "title": {
          "text": "gender"
         },
         "tracegroupgap": 0
        },
        "margin": {
         "t": 60
        },
        "template": {
         "data": {
          "bar": [
           {
            "error_x": {
             "color": "#2a3f5f"
            },
            "error_y": {
             "color": "#2a3f5f"
            },
            "marker": {
             "line": {
              "color": "#E5ECF6",
              "width": 0.5
             },
             "pattern": {
              "fillmode": "overlay",
              "size": 10,
              "solidity": 0.2
             }
            },
            "type": "bar"
           }
          ],
          "barpolar": [
           {
            "marker": {
             "line": {
              "color": "#E5ECF6",
              "width": 0.5
             },
             "pattern": {
              "fillmode": "overlay",
              "size": 10,
              "solidity": 0.2
             }
            },
            "type": "barpolar"
           }
          ],
          "carpet": [
           {
            "aaxis": {
             "endlinecolor": "#2a3f5f",
             "gridcolor": "white",
             "linecolor": "white",
             "minorgridcolor": "white",
             "startlinecolor": "#2a3f5f"
            },
            "baxis": {
             "endlinecolor": "#2a3f5f",
             "gridcolor": "white",
             "linecolor": "white",
             "minorgridcolor": "white",
             "startlinecolor": "#2a3f5f"
            },
            "type": "carpet"
           }
          ],
          "choropleth": [
           {
            "colorbar": {
             "outlinewidth": 0,
             "ticks": ""
            },
            "type": "choropleth"
           }
          ],
          "contour": [
           {
            "colorbar": {
             "outlinewidth": 0,
             "ticks": ""
            },
            "colorscale": [
             [
              0,
              "#0d0887"
             ],
             [
              0.1111111111111111,
              "#46039f"
             ],
             [
              0.2222222222222222,
              "#7201a8"
             ],
             [
              0.3333333333333333,
              "#9c179e"
             ],
             [
              0.4444444444444444,
              "#bd3786"
             ],
             [
              0.5555555555555556,
              "#d8576b"
             ],
             [
              0.6666666666666666,
              "#ed7953"
             ],
             [
              0.7777777777777778,
              "#fb9f3a"
             ],
             [
              0.8888888888888888,
              "#fdca26"
             ],
             [
              1,
              "#f0f921"
             ]
            ],
            "type": "contour"
           }
          ],
          "contourcarpet": [
           {
            "colorbar": {
             "outlinewidth": 0,
             "ticks": ""
            },
            "type": "contourcarpet"
           }
          ],
          "heatmap": [
           {
            "colorbar": {
             "outlinewidth": 0,
             "ticks": ""
            },
            "colorscale": [
             [
              0,
              "#0d0887"
             ],
             [
              0.1111111111111111,
              "#46039f"
             ],
             [
              0.2222222222222222,
              "#7201a8"
             ],
             [
              0.3333333333333333,
              "#9c179e"
             ],
             [
              0.4444444444444444,
              "#bd3786"
             ],
             [
              0.5555555555555556,
              "#d8576b"
             ],
             [
              0.6666666666666666,
              "#ed7953"
             ],
             [
              0.7777777777777778,
              "#fb9f3a"
             ],
             [
              0.8888888888888888,
              "#fdca26"
             ],
             [
              1,
              "#f0f921"
             ]
            ],
            "type": "heatmap"
           }
          ],
          "heatmapgl": [
           {
            "colorbar": {
             "outlinewidth": 0,
             "ticks": ""
            },
            "colorscale": [
             [
              0,
              "#0d0887"
             ],
             [
              0.1111111111111111,
              "#46039f"
             ],
             [
              0.2222222222222222,
              "#7201a8"
             ],
             [
              0.3333333333333333,
              "#9c179e"
             ],
             [
              0.4444444444444444,
              "#bd3786"
             ],
             [
              0.5555555555555556,
              "#d8576b"
             ],
             [
              0.6666666666666666,
              "#ed7953"
             ],
             [
              0.7777777777777778,
              "#fb9f3a"
             ],
             [
              0.8888888888888888,
              "#fdca26"
             ],
             [
              1,
              "#f0f921"
             ]
            ],
            "type": "heatmapgl"
           }
          ],
          "histogram": [
           {
            "marker": {
             "pattern": {
              "fillmode": "overlay",
              "size": 10,
              "solidity": 0.2
             }
            },
            "type": "histogram"
           }
          ],
          "histogram2d": [
           {
            "colorbar": {
             "outlinewidth": 0,
             "ticks": ""
            },
            "colorscale": [
             [
              0,
              "#0d0887"
             ],
             [
              0.1111111111111111,
              "#46039f"
             ],
             [
              0.2222222222222222,
              "#7201a8"
             ],
             [
              0.3333333333333333,
              "#9c179e"
             ],
             [
              0.4444444444444444,
              "#bd3786"
             ],
             [
              0.5555555555555556,
              "#d8576b"
             ],
             [
              0.6666666666666666,
              "#ed7953"
             ],
             [
              0.7777777777777778,
              "#fb9f3a"
             ],
             [
              0.8888888888888888,
              "#fdca26"
             ],
             [
              1,
              "#f0f921"
             ]
            ],
            "type": "histogram2d"
           }
          ],
          "histogram2dcontour": [
           {
            "colorbar": {
             "outlinewidth": 0,
             "ticks": ""
            },
            "colorscale": [
             [
              0,
              "#0d0887"
             ],
             [
              0.1111111111111111,
              "#46039f"
             ],
             [
              0.2222222222222222,
              "#7201a8"
             ],
             [
              0.3333333333333333,
              "#9c179e"
             ],
             [
              0.4444444444444444,
              "#bd3786"
             ],
             [
              0.5555555555555556,
              "#d8576b"
             ],
             [
              0.6666666666666666,
              "#ed7953"
             ],
             [
              0.7777777777777778,
              "#fb9f3a"
             ],
             [
              0.8888888888888888,
              "#fdca26"
             ],
             [
              1,
              "#f0f921"
             ]
            ],
            "type": "histogram2dcontour"
           }
          ],
          "mesh3d": [
           {
            "colorbar": {
             "outlinewidth": 0,
             "ticks": ""
            },
            "type": "mesh3d"
           }
          ],
          "parcoords": [
           {
            "line": {
             "colorbar": {
              "outlinewidth": 0,
              "ticks": ""
             }
            },
            "type": "parcoords"
           }
          ],
          "pie": [
           {
            "automargin": true,
            "type": "pie"
           }
          ],
          "scatter": [
           {
            "fillpattern": {
             "fillmode": "overlay",
             "size": 10,
             "solidity": 0.2
            },
            "type": "scatter"
           }
          ],
          "scatter3d": [
           {
            "line": {
             "colorbar": {
              "outlinewidth": 0,
              "ticks": ""
             }
            },
            "marker": {
             "colorbar": {
              "outlinewidth": 0,
              "ticks": ""
             }
            },
            "type": "scatter3d"
           }
          ],
          "scattercarpet": [
           {
            "marker": {
             "colorbar": {
              "outlinewidth": 0,
              "ticks": ""
             }
            },
            "type": "scattercarpet"
           }
          ],
          "scattergeo": [
           {
            "marker": {
             "colorbar": {
              "outlinewidth": 0,
              "ticks": ""
             }
            },
            "type": "scattergeo"
           }
          ],
          "scattergl": [
           {
            "marker": {
             "colorbar": {
              "outlinewidth": 0,
              "ticks": ""
             }
            },
            "type": "scattergl"
           }
          ],
          "scattermapbox": [
           {
            "marker": {
             "colorbar": {
              "outlinewidth": 0,
              "ticks": ""
             }
            },
            "type": "scattermapbox"
           }
          ],
          "scatterpolar": [
           {
            "marker": {
             "colorbar": {
              "outlinewidth": 0,
              "ticks": ""
             }
            },
            "type": "scatterpolar"
           }
          ],
          "scatterpolargl": [
           {
            "marker": {
             "colorbar": {
              "outlinewidth": 0,
              "ticks": ""
             }
            },
            "type": "scatterpolargl"
           }
          ],
          "scatterternary": [
           {
            "marker": {
             "colorbar": {
              "outlinewidth": 0,
              "ticks": ""
             }
            },
            "type": "scatterternary"
           }
          ],
          "surface": [
           {
            "colorbar": {
             "outlinewidth": 0,
             "ticks": ""
            },
            "colorscale": [
             [
              0,
              "#0d0887"
             ],
             [
              0.1111111111111111,
              "#46039f"
             ],
             [
              0.2222222222222222,
              "#7201a8"
             ],
             [
              0.3333333333333333,
              "#9c179e"
             ],
             [
              0.4444444444444444,
              "#bd3786"
             ],
             [
              0.5555555555555556,
              "#d8576b"
             ],
             [
              0.6666666666666666,
              "#ed7953"
             ],
             [
              0.7777777777777778,
              "#fb9f3a"
             ],
             [
              0.8888888888888888,
              "#fdca26"
             ],
             [
              1,
              "#f0f921"
             ]
            ],
            "type": "surface"
           }
          ],
          "table": [
           {
            "cells": {
             "fill": {
              "color": "#EBF0F8"
             },
             "line": {
              "color": "white"
             }
            },
            "header": {
             "fill": {
              "color": "#C8D4E3"
             },
             "line": {
              "color": "white"
             }
            },
            "type": "table"
           }
          ]
         },
         "layout": {
          "annotationdefaults": {
           "arrowcolor": "#2a3f5f",
           "arrowhead": 0,
           "arrowwidth": 1
          },
          "autotypenumbers": "strict",
          "coloraxis": {
           "colorbar": {
            "outlinewidth": 0,
            "ticks": ""
           }
          },
          "colorscale": {
           "diverging": [
            [
             0,
             "#8e0152"
            ],
            [
             0.1,
             "#c51b7d"
            ],
            [
             0.2,
             "#de77ae"
            ],
            [
             0.3,
             "#f1b6da"
            ],
            [
             0.4,
             "#fde0ef"
            ],
            [
             0.5,
             "#f7f7f7"
            ],
            [
             0.6,
             "#e6f5d0"
            ],
            [
             0.7,
             "#b8e186"
            ],
            [
             0.8,
             "#7fbc41"
            ],
            [
             0.9,
             "#4d9221"
            ],
            [
             1,
             "#276419"
            ]
           ],
           "sequential": [
            [
             0,
             "#0d0887"
            ],
            [
             0.1111111111111111,
             "#46039f"
            ],
            [
             0.2222222222222222,
             "#7201a8"
            ],
            [
             0.3333333333333333,
             "#9c179e"
            ],
            [
             0.4444444444444444,
             "#bd3786"
            ],
            [
             0.5555555555555556,
             "#d8576b"
            ],
            [
             0.6666666666666666,
             "#ed7953"
            ],
            [
             0.7777777777777778,
             "#fb9f3a"
            ],
            [
             0.8888888888888888,
             "#fdca26"
            ],
            [
             1,
             "#f0f921"
            ]
           ],
           "sequentialminus": [
            [
             0,
             "#0d0887"
            ],
            [
             0.1111111111111111,
             "#46039f"
            ],
            [
             0.2222222222222222,
             "#7201a8"
            ],
            [
             0.3333333333333333,
             "#9c179e"
            ],
            [
             0.4444444444444444,
             "#bd3786"
            ],
            [
             0.5555555555555556,
             "#d8576b"
            ],
            [
             0.6666666666666666,
             "#ed7953"
            ],
            [
             0.7777777777777778,
             "#fb9f3a"
            ],
            [
             0.8888888888888888,
             "#fdca26"
            ],
            [
             1,
             "#f0f921"
            ]
           ]
          },
          "colorway": [
           "#636efa",
           "#EF553B",
           "#00cc96",
           "#ab63fa",
           "#FFA15A",
           "#19d3f3",
           "#FF6692",
           "#B6E880",
           "#FF97FF",
           "#FECB52"
          ],
          "font": {
           "color": "#2a3f5f"
          },
          "geo": {
           "bgcolor": "white",
           "lakecolor": "white",
           "landcolor": "#E5ECF6",
           "showlakes": true,
           "showland": true,
           "subunitcolor": "white"
          },
          "hoverlabel": {
           "align": "left"
          },
          "hovermode": "closest",
          "mapbox": {
           "style": "light"
          },
          "paper_bgcolor": "white",
          "plot_bgcolor": "#E5ECF6",
          "polar": {
           "angularaxis": {
            "gridcolor": "white",
            "linecolor": "white",
            "ticks": ""
           },
           "bgcolor": "#E5ECF6",
           "radialaxis": {
            "gridcolor": "white",
            "linecolor": "white",
            "ticks": ""
           }
          },
          "scene": {
           "xaxis": {
            "backgroundcolor": "#E5ECF6",
            "gridcolor": "white",
            "gridwidth": 2,
            "linecolor": "white",
            "showbackground": true,
            "ticks": "",
            "zerolinecolor": "white"
           },
           "yaxis": {
            "backgroundcolor": "#E5ECF6",
            "gridcolor": "white",
            "gridwidth": 2,
            "linecolor": "white",
            "showbackground": true,
            "ticks": "",
            "zerolinecolor": "white"
           },
           "zaxis": {
            "backgroundcolor": "#E5ECF6",
            "gridcolor": "white",
            "gridwidth": 2,
            "linecolor": "white",
            "showbackground": true,
            "ticks": "",
            "zerolinecolor": "white"
           }
          },
          "shapedefaults": {
           "line": {
            "color": "#2a3f5f"
           }
          },
          "ternary": {
           "aaxis": {
            "gridcolor": "white",
            "linecolor": "white",
            "ticks": ""
           },
           "baxis": {
            "gridcolor": "white",
            "linecolor": "white",
            "ticks": ""
           },
           "bgcolor": "#E5ECF6",
           "caxis": {
            "gridcolor": "white",
            "linecolor": "white",
            "ticks": ""
           }
          },
          "title": {
           "x": 0.05
          },
          "xaxis": {
           "automargin": true,
           "gridcolor": "white",
           "linecolor": "white",
           "ticks": "",
           "title": {
            "standoff": 15
           },
           "zerolinecolor": "white",
           "zerolinewidth": 2
          },
          "yaxis": {
           "automargin": true,
           "gridcolor": "white",
           "linecolor": "white",
           "ticks": "",
           "title": {
            "standoff": 15
           },
           "zerolinecolor": "white",
           "zerolinewidth": 2
          }
         }
        },
        "xaxis": {
         "anchor": "y",
         "domain": [
          0,
          1
         ],
         "title": {
          "text": "name"
         }
        },
        "yaxis": {
         "anchor": "x",
         "domain": [
          0,
          1
         ],
         "title": {
          "text": "starship_count"
         }
        }
       }
      }
     },
     "metadata": {},
     "output_type": "display_data"
    }
   ],
   "source": [
    "px.data \n",
    "fig = px.scatter(df, x=\"name\", y=\"starship_count\",color=\"gender\")\n",
    "fig.show()\n",
    "#This shows which chracter travelled in most starship and their gender"
   ]
  }
 ],
 "metadata": {
  "kernelspec": {
   "display_name": "Python 3",
   "language": "python",
   "name": "python3"
  },
  "language_info": {
   "codemirror_mode": {
    "name": "ipython",
    "version": 3
   },
   "file_extension": ".py",
   "mimetype": "text/x-python",
   "name": "python",
   "nbconvert_exporter": "python",
   "pygments_lexer": "ipython3",
   "version": "3.10.11"
  },
  "orig_nbformat": 4
 },
 "nbformat": 4,
 "nbformat_minor": 2
}
